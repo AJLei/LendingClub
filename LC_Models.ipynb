{
 "cells": [
  {
   "cell_type": "code",
   "execution_count": 1,
   "id": "75e6e8e9-5734-4064-b868-702b5b50c015",
   "metadata": {
    "tags": []
   },
   "outputs": [],
   "source": [
    "import pandas as pd\n",
    "import numpy as np"
   ]
  },
  {
   "cell_type": "code",
   "execution_count": 2,
   "id": "0732b705-5406-49fd-9ecc-67e7a3cae81f",
   "metadata": {
    "tags": []
   },
   "outputs": [],
   "source": [
    "df = pd.read_csv('/Users/alexlei/Downloads/accepted_2007_to_2018Q4.csv', index_col=0, low_memory=False)"
   ]
  },
  {
   "cell_type": "code",
   "execution_count": 3,
   "id": "10125919-c9a4-41c6-8184-9c7aefcadd6a",
   "metadata": {
    "tags": []
   },
   "outputs": [],
   "source": [
    "#pd.options.display.max_rows = 200\n",
    "#df.dtypes"
   ]
  },
  {
   "cell_type": "code",
   "execution_count": 4,
   "id": "7dba4d7a-48ed-42af-9d7d-5bd8b2ed57ae",
   "metadata": {
    "tags": []
   },
   "outputs": [],
   "source": [
    "#df.head()"
   ]
  },
  {
   "cell_type": "code",
   "execution_count": 5,
   "id": "cd576133-a691-4a0e-b899-3bd59e236390",
   "metadata": {},
   "outputs": [],
   "source": [
    "df.fillna('Null', inplace=True)"
   ]
  },
  {
   "cell_type": "code",
   "execution_count": 6,
   "id": "01c16fe5-fe99-4f8a-b65e-a1f36450c43d",
   "metadata": {},
   "outputs": [],
   "source": [
    "# Preparing for X and y"
   ]
  },
  {
   "cell_type": "code",
   "execution_count": 7,
   "id": "ea2ff6e3-13d2-4c21-8b65-dcea138e9913",
   "metadata": {
    "tags": []
   },
   "outputs": [],
   "source": [
    "y = df['loan_status']"
   ]
  },
  {
   "cell_type": "code",
   "execution_count": 8,
   "id": "1a7dd942-0502-4c8c-9ef0-bff2120a908d",
   "metadata": {
    "tags": []
   },
   "outputs": [],
   "source": [
    "X = df.drop(df.loc[:, 'hardship_flag':'settlement_term'].columns, axis=1)"
   ]
  },
  {
   "cell_type": "code",
   "execution_count": 9,
   "id": "0fde5ce6-c9f6-4550-82d9-f90d1deffe3d",
   "metadata": {},
   "outputs": [],
   "source": [
    "from sklearn.model_selection import train_test_split"
   ]
  },
  {
   "cell_type": "code",
   "execution_count": 10,
   "id": "e8245594-b7da-44f3-9d38-421ecde41802",
   "metadata": {
    "tags": []
   },
   "outputs": [],
   "source": [
    "X_train, X_test, y_train, y_test = train_test_split(X, y, random_state=0)"
   ]
  },
  {
   "cell_type": "code",
   "execution_count": 11,
   "id": "01eccee3-2d9d-4a4c-afa8-d49b09b07c63",
   "metadata": {
    "tags": []
   },
   "outputs": [],
   "source": [
    "# Dropping NA in y will cause inconsistency in rows between y and X\n",
    "# y = y.dropna()"
   ]
  },
  {
   "cell_type": "code",
   "execution_count": 12,
   "id": "905bd5a2-4a52-474b-a25a-c7f1d9263033",
   "metadata": {},
   "outputs": [],
   "source": [
    "# Dropping NA in X will remove all rows\n",
    "# X = X.dropna()"
   ]
  },
  {
   "cell_type": "code",
   "execution_count": null,
   "id": "6a95a9b4-ee99-48b5-a863-66e586363fb3",
   "metadata": {},
   "outputs": [],
   "source": []
  },
  {
   "cell_type": "code",
   "execution_count": null,
   "id": "a142ee35-d7ba-4691-a259-179bb6d82861",
   "metadata": {},
   "outputs": [],
   "source": []
  },
  {
   "cell_type": "code",
   "execution_count": 13,
   "id": "8b8ad9af-f20a-4aee-a72d-8d0177d61597",
   "metadata": {
    "tags": []
   },
   "outputs": [
    {
     "ename": "KeyboardInterrupt",
     "evalue": "",
     "output_type": "error",
     "traceback": [
      "\u001b[0;31m---------------------------------------------------------------------------\u001b[0m",
      "\u001b[0;31mKeyboardInterrupt\u001b[0m                         Traceback (most recent call last)",
      "Cell \u001b[0;32mIn[13], line 6\u001b[0m\n\u001b[1;32m      3\u001b[0m ebm \u001b[38;5;241m=\u001b[39m ExplainableBoostingClassifier()\n\u001b[1;32m      5\u001b[0m \u001b[38;5;66;03m# Fit the EBM on the training data\u001b[39;00m\n\u001b[0;32m----> 6\u001b[0m ebm\u001b[38;5;241m.\u001b[39mfit(X_train, y_train)\n",
      "File \u001b[0;32m~/anaconda3/lib/python3.11/site-packages/interpret/glassbox/_ebm/_ebm.py:642\u001b[0m, in \u001b[0;36mEBMModel.fit\u001b[0;34m(self, X, y, sample_weight, bags, init_score)\u001b[0m\n\u001b[1;32m    636\u001b[0m init_random_state \u001b[38;5;241m=\u001b[39m normalize_initial_seed(\u001b[38;5;28mself\u001b[39m\u001b[38;5;241m.\u001b[39mrandom_state)\n\u001b[1;32m    638\u001b[0m \u001b[38;5;66;03m# after normalizing to a 32-bit signed integer, we pass the random_state into the EBMPreprocessor\u001b[39;00m\n\u001b[1;32m    639\u001b[0m \u001b[38;5;66;03m# exactly as passed to us. This means that we should get the same preprocessed data for the mains\u001b[39;00m\n\u001b[1;32m    640\u001b[0m \u001b[38;5;66;03m# if we create an EBMPreprocessor with the same seed.  For interactions, we increment by one\u001b[39;00m\n\u001b[1;32m    641\u001b[0m \u001b[38;5;66;03m# so it can be replicated without creating an EBM\u001b[39;00m\n\u001b[0;32m--> 642\u001b[0m binning_result \u001b[38;5;241m=\u001b[39m construct_bins(\n\u001b[1;32m    643\u001b[0m     X\u001b[38;5;241m=\u001b[39mX,\n\u001b[1;32m    644\u001b[0m     y\u001b[38;5;241m=\u001b[39my,\n\u001b[1;32m    645\u001b[0m     sample_weight\u001b[38;5;241m=\u001b[39msample_weight,\n\u001b[1;32m    646\u001b[0m     feature_names_given\u001b[38;5;241m=\u001b[39m\u001b[38;5;28mself\u001b[39m\u001b[38;5;241m.\u001b[39mfeature_names,\n\u001b[1;32m    647\u001b[0m     feature_types_given\u001b[38;5;241m=\u001b[39m\u001b[38;5;28mself\u001b[39m\u001b[38;5;241m.\u001b[39mfeature_types,\n\u001b[1;32m    648\u001b[0m     max_bins_leveled\u001b[38;5;241m=\u001b[39mbin_levels,\n\u001b[1;32m    649\u001b[0m     binning\u001b[38;5;241m=\u001b[39mbinning,\n\u001b[1;32m    650\u001b[0m     min_samples_bin\u001b[38;5;241m=\u001b[39m\u001b[38;5;241m1\u001b[39m,\n\u001b[1;32m    651\u001b[0m     min_unique_continuous\u001b[38;5;241m=\u001b[39mmin_unique_continuous,\n\u001b[1;32m    652\u001b[0m     random_state\u001b[38;5;241m=\u001b[39minit_random_state,\n\u001b[1;32m    653\u001b[0m     epsilon\u001b[38;5;241m=\u001b[39mbin_eps,\n\u001b[1;32m    654\u001b[0m     delta\u001b[38;5;241m=\u001b[39mbin_delta,\n\u001b[1;32m    655\u001b[0m     composition\u001b[38;5;241m=\u001b[39mcomposition,\n\u001b[1;32m    656\u001b[0m     privacy_bounds\u001b[38;5;241m=\u001b[39mprivacy_bounds,\n\u001b[1;32m    657\u001b[0m )\n\u001b[1;32m    658\u001b[0m feature_names_in \u001b[38;5;241m=\u001b[39m binning_result[\u001b[38;5;241m0\u001b[39m]\n\u001b[1;32m    659\u001b[0m feature_types_in \u001b[38;5;241m=\u001b[39m binning_result[\u001b[38;5;241m1\u001b[39m]\n",
      "File \u001b[0;32m~/anaconda3/lib/python3.11/site-packages/interpret/utils/_preprocessor.py:572\u001b[0m, in \u001b[0;36mconstruct_bins\u001b[0;34m(X, y, sample_weight, feature_names_given, feature_types_given, max_bins_leveled, binning, min_samples_bin, min_unique_continuous, random_state, epsilon, delta, composition, privacy_bounds)\u001b[0m\n\u001b[1;32m    556\u001b[0m preprocessor \u001b[38;5;241m=\u001b[39m EBMPreprocessor(\n\u001b[1;32m    557\u001b[0m     feature_names_given,\n\u001b[1;32m    558\u001b[0m     feature_types_given,\n\u001b[0;32m   (...)\u001b[0m\n\u001b[1;32m    567\u001b[0m     privacy_bounds,\n\u001b[1;32m    568\u001b[0m )\n\u001b[1;32m    570\u001b[0m random_state \u001b[38;5;241m=\u001b[39m increment_seed(random_state)\n\u001b[0;32m--> 572\u001b[0m preprocessor\u001b[38;5;241m.\u001b[39mfit(X, y, sample_weight)\n\u001b[1;32m    573\u001b[0m \u001b[38;5;28;01mif\u001b[39;00m is_mains:\n\u001b[1;32m    574\u001b[0m     is_mains \u001b[38;5;241m=\u001b[39m \u001b[38;5;28;01mFalse\u001b[39;00m\n",
      "File \u001b[0;32m~/anaconda3/lib/python3.11/site-packages/interpret/utils/_preprocessor.py:225\u001b[0m, in \u001b[0;36mEBMPreprocessor.fit\u001b[0;34m(self, X, y, sample_weight)\u001b[0m\n\u001b[1;32m    223\u001b[0m is_privacy_bounds_warning \u001b[38;5;241m=\u001b[39m \u001b[38;5;28;01mFalse\u001b[39;00m\n\u001b[1;32m    224\u001b[0m is_privacy_types_warning \u001b[38;5;241m=\u001b[39m \u001b[38;5;28;01mFalse\u001b[39;00m\n\u001b[0;32m--> 225\u001b[0m \u001b[38;5;28;01mfor\u001b[39;00m feature_idx, (feature_type_in, X_col, categories, bad) \u001b[38;5;129;01min\u001b[39;00m \u001b[38;5;28menumerate\u001b[39m(\n\u001b[1;32m    226\u001b[0m     unify_columns(\n\u001b[1;32m    227\u001b[0m         X,\n\u001b[1;32m    228\u001b[0m         \u001b[38;5;28mzip\u001b[39m(\u001b[38;5;28mrange\u001b[39m(n_features), repeat(\u001b[38;5;28;01mNone\u001b[39;00m)),\n\u001b[1;32m    229\u001b[0m         feature_names_in,\n\u001b[1;32m    230\u001b[0m         \u001b[38;5;28mself\u001b[39m\u001b[38;5;241m.\u001b[39mfeature_types,\n\u001b[1;32m    231\u001b[0m         \u001b[38;5;28mself\u001b[39m\u001b[38;5;241m.\u001b[39mmin_unique_continuous,\n\u001b[1;32m    232\u001b[0m         \u001b[38;5;28;01mFalse\u001b[39;00m,\n\u001b[1;32m    233\u001b[0m     )\n\u001b[1;32m    234\u001b[0m ):\n\u001b[1;32m    235\u001b[0m     \u001b[38;5;28;01mif\u001b[39;00m n_samples \u001b[38;5;241m!=\u001b[39m \u001b[38;5;28mlen\u001b[39m(X_col):\n\u001b[1;32m    236\u001b[0m         msg \u001b[38;5;241m=\u001b[39m \u001b[38;5;124m\"\u001b[39m\u001b[38;5;124mThe columns of X are mismatched in the number of of samples\u001b[39m\u001b[38;5;124m\"\u001b[39m\n",
      "File \u001b[0;32m~/anaconda3/lib/python3.11/site-packages/interpret/utils/_clean_x.py:1204\u001b[0m, in \u001b[0;36munify_columns\u001b[0;34m(X, requests, feature_names_in, feature_types, min_unique_continuous, go_fast)\u001b[0m\n\u001b[1;32m   1202\u001b[0m         X_col \u001b[38;5;241m=\u001b[39m X\u001b[38;5;241m.\u001b[39miloc[:, col_idx]\n\u001b[1;32m   1203\u001b[0m         feature_type \u001b[38;5;241m=\u001b[39m \u001b[38;5;28;01mNone\u001b[39;00m \u001b[38;5;28;01mif\u001b[39;00m feature_types \u001b[38;5;129;01mis\u001b[39;00m \u001b[38;5;28;01mNone\u001b[39;00m \u001b[38;5;28;01melse\u001b[39;00m feature_types[feature_idx]\n\u001b[0;32m-> 1204\u001b[0m         feature_type_in, X_col, categories, bad \u001b[38;5;241m=\u001b[39m _process_pandas_column(\n\u001b[1;32m   1205\u001b[0m             X_col, categories, feature_type, min_unique_continuous\n\u001b[1;32m   1206\u001b[0m         )\n\u001b[1;32m   1207\u001b[0m         \u001b[38;5;28;01myield\u001b[39;00m feature_type_in, X_col, categories, bad\n\u001b[1;32m   1208\u001b[0m \u001b[38;5;28;01melif\u001b[39;00m _scipy_installed \u001b[38;5;129;01mand\u001b[39;00m \u001b[38;5;28misinstance\u001b[39m(X, sp\u001b[38;5;241m.\u001b[39msparse\u001b[38;5;241m.\u001b[39mspmatrix):\n",
      "File \u001b[0;32m~/anaconda3/lib/python3.11/site-packages/interpret/utils/_clean_x.py:945\u001b[0m, in \u001b[0;36m_process_pandas_column\u001b[0;34m(X_col, categories, feature_type, min_unique_continuous)\u001b[0m\n\u001b[1;32m    943\u001b[0m             X_col \u001b[38;5;241m=\u001b[39m X_col\u001b[38;5;241m.\u001b[39mdropna()\n\u001b[1;32m    944\u001b[0m         X_col \u001b[38;5;241m=\u001b[39m X_col\u001b[38;5;241m.\u001b[39mvalues\n\u001b[0;32m--> 945\u001b[0m         \u001b[38;5;28;01mreturn\u001b[39;00m _process_ndarray(\n\u001b[1;32m    946\u001b[0m             X_col, nonmissings, categories, feature_type, min_unique_continuous\n\u001b[1;32m    947\u001b[0m         )\n\u001b[1;32m    948\u001b[0m \u001b[38;5;28;01melif\u001b[39;00m \u001b[38;5;28misinstance\u001b[39m(X_col\u001b[38;5;241m.\u001b[39mdtype, pd\u001b[38;5;241m.\u001b[39mCategoricalDtype):\n\u001b[1;32m    949\u001b[0m     \u001b[38;5;66;03m# unlike other missing value types, we get back -1's for missing here, so no need to drop them\u001b[39;00m\n\u001b[1;32m    950\u001b[0m     X_col \u001b[38;5;241m=\u001b[39m X_col\u001b[38;5;241m.\u001b[39mvalues\n",
      "File \u001b[0;32m~/anaconda3/lib/python3.11/site-packages/interpret/utils/_clean_x.py:784\u001b[0m, in \u001b[0;36m_process_ndarray\u001b[0;34m(X_col, nonmissings, categories, processing, min_unique_continuous)\u001b[0m\n\u001b[1;32m    781\u001b[0m         \u001b[38;5;28;01mreturn\u001b[39;00m \u001b[38;5;124m\"\u001b[39m\u001b[38;5;124mordinal\u001b[39m\u001b[38;5;124m\"\u001b[39m, X_col, categories, bad\n\u001b[1;32m    782\u001b[0m \u001b[38;5;28;01melif\u001b[39;00m processing \u001b[38;5;129;01mis\u001b[39;00m \u001b[38;5;28;01mNone\u001b[39;00m \u001b[38;5;129;01mor\u001b[39;00m processing \u001b[38;5;241m==\u001b[39m \u001b[38;5;124m\"\u001b[39m\u001b[38;5;124mauto\u001b[39m\u001b[38;5;124m\"\u001b[39m:\n\u001b[1;32m    783\u001b[0m     \u001b[38;5;66;03m# called under: fit\u001b[39;00m\n\u001b[0;32m--> 784\u001b[0m     X_col, categories \u001b[38;5;241m=\u001b[39m _process_column_initial(\n\u001b[1;32m    785\u001b[0m         X_col, nonmissings, \u001b[38;5;28;01mNone\u001b[39;00m, min_unique_continuous\n\u001b[1;32m    786\u001b[0m     )\n\u001b[1;32m    787\u001b[0m     \u001b[38;5;28;01mreturn\u001b[39;00m (\n\u001b[1;32m    788\u001b[0m         \u001b[38;5;124m\"\u001b[39m\u001b[38;5;124mcontinuous\u001b[39m\u001b[38;5;124m\"\u001b[39m \u001b[38;5;28;01mif\u001b[39;00m categories \u001b[38;5;129;01mis\u001b[39;00m \u001b[38;5;28;01mNone\u001b[39;00m \u001b[38;5;28;01melse\u001b[39;00m \u001b[38;5;124m\"\u001b[39m\u001b[38;5;124mnominal\u001b[39m\u001b[38;5;124m\"\u001b[39m,\n\u001b[1;32m    789\u001b[0m         X_col,\n\u001b[1;32m    790\u001b[0m         categories,\n\u001b[1;32m    791\u001b[0m         \u001b[38;5;28;01mNone\u001b[39;00m,\n\u001b[1;32m    792\u001b[0m     )\n\u001b[1;32m    793\u001b[0m \u001b[38;5;28;01melif\u001b[39;00m processing \u001b[38;5;241m==\u001b[39m \u001b[38;5;124m\"\u001b[39m\u001b[38;5;124mnominal_prevalence\u001b[39m\u001b[38;5;124m\"\u001b[39m \u001b[38;5;129;01mor\u001b[39;00m processing \u001b[38;5;241m==\u001b[39m \u001b[38;5;124m\"\u001b[39m\u001b[38;5;124mnominal_alphabetical\u001b[39m\u001b[38;5;124m\"\u001b[39m:\n\u001b[1;32m    794\u001b[0m     \u001b[38;5;66;03m# called under: fit\u001b[39;00m\n",
      "File \u001b[0;32m~/anaconda3/lib/python3.11/site-packages/interpret/utils/_clean_x.py:445\u001b[0m, in \u001b[0;36m_process_column_initial\u001b[0;34m(X_col, nonmissings, processing, min_unique_continuous)\u001b[0m\n\u001b[1;32m    443\u001b[0m         X_col \u001b[38;5;241m=\u001b[39m X_col[nonmissings]\n\u001b[1;32m    444\u001b[0m \u001b[38;5;28;01melif\u001b[39;00m X_col\u001b[38;5;241m.\u001b[39mdtype\u001b[38;5;241m.\u001b[39mtype \u001b[38;5;129;01mis\u001b[39;00m np\u001b[38;5;241m.\u001b[39mobject_:\n\u001b[0;32m--> 445\u001b[0m     X_col \u001b[38;5;241m=\u001b[39m _densify_object_ndarray(X_col)\n\u001b[1;32m    447\u001b[0m uniques, indexes, counts \u001b[38;5;241m=\u001b[39m np\u001b[38;5;241m.\u001b[39munique(X_col, return_inverse\u001b[38;5;241m=\u001b[39m\u001b[38;5;28;01mTrue\u001b[39;00m, return_counts\u001b[38;5;241m=\u001b[39m\u001b[38;5;28;01mTrue\u001b[39;00m)\n\u001b[1;32m    449\u001b[0m \u001b[38;5;28;01mif\u001b[39;00m \u001b[38;5;28missubclass\u001b[39m(uniques\u001b[38;5;241m.\u001b[39mdtype\u001b[38;5;241m.\u001b[39mtype, np\u001b[38;5;241m.\u001b[39mfloating):\n",
      "File \u001b[0;32m~/anaconda3/lib/python3.11/site-packages/interpret/utils/_clean_x.py:317\u001b[0m, in \u001b[0;36m_densify_object_ndarray\u001b[0;34m(X_col)\u001b[0m\n\u001b[1;32m    315\u001b[0m \u001b[38;5;28;01mif\u001b[39;00m \u001b[38;5;28mlen\u001b[39m(types) \u001b[38;5;241m==\u001b[39m \u001b[38;5;241m1\u001b[39m:\n\u001b[1;32m    316\u001b[0m     \u001b[38;5;28;01mif\u001b[39;00m \u001b[38;5;28mstr\u001b[39m \u001b[38;5;129;01min\u001b[39;00m types:\n\u001b[0;32m--> 317\u001b[0m         \u001b[38;5;28;01mreturn\u001b[39;00m X_col\u001b[38;5;241m.\u001b[39mastype(np\u001b[38;5;241m.\u001b[39municode_)\n\u001b[1;32m    318\u001b[0m     \u001b[38;5;28;01melif\u001b[39;00m \u001b[38;5;28mbool\u001b[39m \u001b[38;5;129;01min\u001b[39;00m types:\n\u001b[1;32m    319\u001b[0m         \u001b[38;5;28;01mreturn\u001b[39;00m X_col\u001b[38;5;241m.\u001b[39mastype(np\u001b[38;5;241m.\u001b[39mbool_)\n",
      "\u001b[0;31mKeyboardInterrupt\u001b[0m: "
     ]
    }
   ],
   "source": [
    "# Create an Explainable Boosting Machine (EBM)\n",
    "from interpret.glassbox import ExplainableBoostingClassifier\n",
    "ebm = ExplainableBoostingClassifier()\n",
    "\n",
    "# Fit the EBM on the training data\n",
    "ebm.fit(X_train, y_train)"
   ]
  },
  {
   "cell_type": "code",
   "execution_count": null,
   "id": "bae56a3f-aa07-4237-9f2f-e25bd2f21e25",
   "metadata": {},
   "outputs": [],
   "source": []
  },
  {
   "cell_type": "code",
   "execution_count": null,
   "id": "c0c0eccb-0851-438a-beef-af7e96b04e62",
   "metadata": {},
   "outputs": [],
   "source": []
  },
  {
   "cell_type": "code",
   "execution_count": null,
   "id": "ac0f156b-7d53-4c35-b256-e5b4f81d5ba4",
   "metadata": {},
   "outputs": [],
   "source": []
  },
  {
   "cell_type": "code",
   "execution_count": null,
   "id": "9acbf28e-453d-4677-ba60-53358ac4128c",
   "metadata": {},
   "outputs": [],
   "source": []
  },
  {
   "cell_type": "code",
   "execution_count": null,
   "id": "219c65e0-e42f-4a88-84c7-98551e12e5c8",
   "metadata": {},
   "outputs": [],
   "source": []
  },
  {
   "cell_type": "code",
   "execution_count": null,
   "id": "a25f2c73-6c3d-4fee-abaa-d0aabb3cda69",
   "metadata": {},
   "outputs": [],
   "source": []
  },
  {
   "cell_type": "code",
   "execution_count": null,
   "id": "34385379-7fba-48dc-866a-5d3049413600",
   "metadata": {},
   "outputs": [],
   "source": []
  }
 ],
 "metadata": {
  "kernelspec": {
   "display_name": "Python 3 (ipykernel)",
   "language": "python",
   "name": "python3"
  },
  "language_info": {
   "codemirror_mode": {
    "name": "ipython",
    "version": 3
   },
   "file_extension": ".py",
   "mimetype": "text/x-python",
   "name": "python",
   "nbconvert_exporter": "python",
   "pygments_lexer": "ipython3",
   "version": "3.11.4"
  }
 },
 "nbformat": 4,
 "nbformat_minor": 5
}
