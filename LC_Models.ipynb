{
 "cells": [
  {
   "cell_type": "code",
   "execution_count": 1,
   "id": "75e6e8e9-5734-4064-b868-702b5b50c015",
   "metadata": {
    "tags": []
   },
   "outputs": [],
   "source": [
    "from sklearn.preprocessing import MinMaxScaler\n",
    "import pandas as pd\n",
    "import numpy as np"
   ]
  },
  {
   "cell_type": "code",
   "execution_count": 2,
   "id": "0732b705-5406-49fd-9ecc-67e7a3cae81f",
   "metadata": {
    "tags": []
   },
   "outputs": [],
   "source": [
    "df = pd.read_csv('/Users/alexlei/Downloads/accepted_2007_to_2018Q4.csv', index_col=0, low_memory=False)"
   ]
  },
  {
   "cell_type": "code",
   "execution_count": 3,
   "id": "10125919-c9a4-41c6-8184-9c7aefcadd6a",
   "metadata": {
    "tags": []
   },
   "outputs": [
    {
     "data": {
      "text/plain": [
       "member_id                                     float64\n",
       "loan_amnt                                     float64\n",
       "funded_amnt                                   float64\n",
       "funded_amnt_inv                               float64\n",
       "term                                           object\n",
       "int_rate                                      float64\n",
       "installment                                   float64\n",
       "grade                                          object\n",
       "sub_grade                                      object\n",
       "emp_title                                      object\n",
       "emp_length                                     object\n",
       "home_ownership                                 object\n",
       "annual_inc                                    float64\n",
       "verification_status                            object\n",
       "issue_d                                        object\n",
       "loan_status                                    object\n",
       "pymnt_plan                                     object\n",
       "url                                            object\n",
       "desc                                           object\n",
       "purpose                                        object\n",
       "title                                          object\n",
       "zip_code                                       object\n",
       "addr_state                                     object\n",
       "dti                                           float64\n",
       "delinq_2yrs                                   float64\n",
       "earliest_cr_line                               object\n",
       "fico_range_low                                float64\n",
       "fico_range_high                               float64\n",
       "inq_last_6mths                                float64\n",
       "mths_since_last_delinq                        float64\n",
       "mths_since_last_record                        float64\n",
       "open_acc                                      float64\n",
       "pub_rec                                       float64\n",
       "revol_bal                                     float64\n",
       "revol_util                                    float64\n",
       "total_acc                                     float64\n",
       "initial_list_status                            object\n",
       "out_prncp                                     float64\n",
       "out_prncp_inv                                 float64\n",
       "total_pymnt                                   float64\n",
       "total_pymnt_inv                               float64\n",
       "total_rec_prncp                               float64\n",
       "total_rec_int                                 float64\n",
       "total_rec_late_fee                            float64\n",
       "recoveries                                    float64\n",
       "collection_recovery_fee                       float64\n",
       "last_pymnt_d                                   object\n",
       "last_pymnt_amnt                               float64\n",
       "next_pymnt_d                                   object\n",
       "last_credit_pull_d                             object\n",
       "last_fico_range_high                          float64\n",
       "last_fico_range_low                           float64\n",
       "collections_12_mths_ex_med                    float64\n",
       "mths_since_last_major_derog                   float64\n",
       "policy_code                                   float64\n",
       "application_type                               object\n",
       "annual_inc_joint                              float64\n",
       "dti_joint                                     float64\n",
       "verification_status_joint                      object\n",
       "acc_now_delinq                                float64\n",
       "tot_coll_amt                                  float64\n",
       "tot_cur_bal                                   float64\n",
       "open_acc_6m                                   float64\n",
       "open_act_il                                   float64\n",
       "open_il_12m                                   float64\n",
       "open_il_24m                                   float64\n",
       "mths_since_rcnt_il                            float64\n",
       "total_bal_il                                  float64\n",
       "il_util                                       float64\n",
       "open_rv_12m                                   float64\n",
       "open_rv_24m                                   float64\n",
       "max_bal_bc                                    float64\n",
       "all_util                                      float64\n",
       "total_rev_hi_lim                              float64\n",
       "inq_fi                                        float64\n",
       "total_cu_tl                                   float64\n",
       "inq_last_12m                                  float64\n",
       "acc_open_past_24mths                          float64\n",
       "avg_cur_bal                                   float64\n",
       "bc_open_to_buy                                float64\n",
       "bc_util                                       float64\n",
       "chargeoff_within_12_mths                      float64\n",
       "delinq_amnt                                   float64\n",
       "mo_sin_old_il_acct                            float64\n",
       "mo_sin_old_rev_tl_op                          float64\n",
       "mo_sin_rcnt_rev_tl_op                         float64\n",
       "mo_sin_rcnt_tl                                float64\n",
       "mort_acc                                      float64\n",
       "mths_since_recent_bc                          float64\n",
       "mths_since_recent_bc_dlq                      float64\n",
       "mths_since_recent_inq                         float64\n",
       "mths_since_recent_revol_delinq                float64\n",
       "num_accts_ever_120_pd                         float64\n",
       "num_actv_bc_tl                                float64\n",
       "num_actv_rev_tl                               float64\n",
       "num_bc_sats                                   float64\n",
       "num_bc_tl                                     float64\n",
       "num_il_tl                                     float64\n",
       "num_op_rev_tl                                 float64\n",
       "num_rev_accts                                 float64\n",
       "num_rev_tl_bal_gt_0                           float64\n",
       "num_sats                                      float64\n",
       "num_tl_120dpd_2m                              float64\n",
       "num_tl_30dpd                                  float64\n",
       "num_tl_90g_dpd_24m                            float64\n",
       "num_tl_op_past_12m                            float64\n",
       "pct_tl_nvr_dlq                                float64\n",
       "percent_bc_gt_75                              float64\n",
       "pub_rec_bankruptcies                          float64\n",
       "tax_liens                                     float64\n",
       "tot_hi_cred_lim                               float64\n",
       "total_bal_ex_mort                             float64\n",
       "total_bc_limit                                float64\n",
       "total_il_high_credit_limit                    float64\n",
       "revol_bal_joint                               float64\n",
       "sec_app_fico_range_low                        float64\n",
       "sec_app_fico_range_high                       float64\n",
       "sec_app_earliest_cr_line                       object\n",
       "sec_app_inq_last_6mths                        float64\n",
       "sec_app_mort_acc                              float64\n",
       "sec_app_open_acc                              float64\n",
       "sec_app_revol_util                            float64\n",
       "sec_app_open_act_il                           float64\n",
       "sec_app_num_rev_accts                         float64\n",
       "sec_app_chargeoff_within_12_mths              float64\n",
       "sec_app_collections_12_mths_ex_med            float64\n",
       "sec_app_mths_since_last_major_derog           float64\n",
       "hardship_flag                                  object\n",
       "hardship_type                                  object\n",
       "hardship_reason                                object\n",
       "hardship_status                                object\n",
       "deferral_term                                 float64\n",
       "hardship_amount                               float64\n",
       "hardship_start_date                            object\n",
       "hardship_end_date                              object\n",
       "payment_plan_start_date                        object\n",
       "hardship_length                               float64\n",
       "hardship_dpd                                  float64\n",
       "hardship_loan_status                           object\n",
       "orig_projected_additional_accrued_interest    float64\n",
       "hardship_payoff_balance_amount                float64\n",
       "hardship_last_payment_amount                  float64\n",
       "disbursement_method                            object\n",
       "debt_settlement_flag                           object\n",
       "debt_settlement_flag_date                      object\n",
       "settlement_status                              object\n",
       "settlement_date                                object\n",
       "settlement_amount                             float64\n",
       "settlement_percentage                         float64\n",
       "settlement_term                               float64\n",
       "dtype: object"
      ]
     },
     "execution_count": 3,
     "metadata": {},
     "output_type": "execute_result"
    }
   ],
   "source": [
    "pd.options.display.max_rows = 200\n",
    "df.dtypes"
   ]
  },
  {
   "cell_type": "code",
   "execution_count": null,
   "id": "1452a8a8-289f-4121-9e28-8949fa5048ab",
   "metadata": {},
   "outputs": [],
   "source": [
    "# Convert the 'term' column to numeric"
   ]
  },
  {
   "cell_type": "code",
   "execution_count": null,
   "id": "c7c960a0-82ef-454d-8708-9dd59567749f",
   "metadata": {
    "tags": []
   },
   "outputs": [],
   "source": [
    "df['term'] = df['term'].str.replace(' months', '')\n",
    "df['term'] = pd.to_numeric(df['term'])"
   ]
  },
  {
   "cell_type": "code",
   "execution_count": null,
   "id": "a0c83604-01da-462e-add7-f9ba8fae024a",
   "metadata": {
    "tags": []
   },
   "outputs": [],
   "source": [
    "df['term']"
   ]
  },
  {
   "cell_type": "code",
   "execution_count": null,
   "id": "761040b4-a0c8-478c-bdde-9503789c63a1",
   "metadata": {},
   "outputs": [],
   "source": [
    "# Convert the 'grade' column to numeric"
   ]
  },
  {
   "cell_type": "code",
   "execution_count": null,
   "id": "c6632521-c867-4932-81c6-97125fb67783",
   "metadata": {
    "tags": []
   },
   "outputs": [],
   "source": [
    "df['grade'].unique()"
   ]
  },
  {
   "cell_type": "code",
   "execution_count": null,
   "id": "580cf7a5-dfa3-48a5-ae19-289002869a92",
   "metadata": {
    "tags": []
   },
   "outputs": [],
   "source": [
    "mapping_term = {'A': 1, 'B': 0.833, 'C': 0.667, 'D': 0.5, 'E': 0.333, 'F': 0.167, 'G': 0}\n",
    "#df.replace({'A': mapping, 'B': mapping, 'C': mapping, 'D': mapping, 'E': mapping, 'F': mapping, 'G': mapping})\n",
    "#df['grade'] = pd.to_numeric(df['grade'])\n",
    "df.applymap(lambda x: mapping_term.get(x) if x in mapping_term else x)"
   ]
  },
  {
   "cell_type": "code",
   "execution_count": null,
   "id": "d2dab10b-7e70-4508-b344-76786778929f",
   "metadata": {},
   "outputs": [],
   "source": [
    "# Convert the 'sub_grade' column to numeric"
   ]
  },
  {
   "cell_type": "code",
   "execution_count": null,
   "id": "78ff8950-180f-47d1-836e-e6eabfd87f7b",
   "metadata": {
    "tags": []
   },
   "outputs": [],
   "source": [
    "df['sub_grade'].unique()"
   ]
  },
  {
   "cell_type": "code",
   "execution_count": null,
   "id": "b234da70-32df-49db-b876-57f6f006776f",
   "metadata": {
    "tags": []
   },
   "outputs": [],
   "source": [
    "mapping_subgrade = {\n",
    "    'A5': 1.0, 'A4': 0.9706, 'A3': 0.9412, 'A2': 0.9118, 'A1': 0.8824,\n",
    "    'B5': 0.8529, 'B4': 0.8235, 'B3': 0.7941, 'B2': 0.7647, 'B1': 0.7353,\n",
    "    'C5': 0.7059, 'C4': 0.6765, 'C3': 0.6471, 'C2': 0.6176, 'C1': 0.5882,\n",
    "    'D5': 0.5588, 'D4': 0.5294, 'D3': 0.5000, 'D2': 0.4706, 'D1': 0.4412,    \n",
    "    'E5': 0.4118, 'E4': 0.3824, 'E3': 0.3529, 'E2': 0.3235, 'E1': 0.2941,\n",
    "    'F5': 0.2647, 'F4': 0.2353, 'F3': 0.2059, 'F2': 0.1765, 'F1': 0.1471,\n",
    "    'G5': 0.1176, 'G4': 0.0882, 'G3': 0.0588, 'G2': 0.0294, 'G1': 0,\n",
    "}\n",
    "\n",
    "# Use the map function to replace values based on the mapping dictionary\n",
    "df['sub_grade'] = df['sub_grade'].map(mapping_subgrade)"
   ]
  },
  {
   "cell_type": "code",
   "execution_count": null,
   "id": "768e2fce-7a24-4ace-b521-35205ad87f6a",
   "metadata": {},
   "outputs": [],
   "source": [
    "# Convert the 'emp_length' column to numeric"
   ]
  },
  {
   "cell_type": "code",
   "execution_count": null,
   "id": "a3ab34f4-b182-48a1-8cce-337fb707fde2",
   "metadata": {
    "tags": []
   },
   "outputs": [],
   "source": [
    "df['emp_length'].unique()"
   ]
  },
  {
   "cell_type": "code",
   "execution_count": null,
   "id": "63b46455-325f-4604-a374-7fe7989afa20",
   "metadata": {
    "tags": []
   },
   "outputs": [],
   "source": [
    "mapping_emp_length = {\n",
    "    '10+ years': 1,\n",
    "    '9 years': 0.9,\n",
    "    '8 years': 0.8,\n",
    "    '7 years': 0.7,\n",
    "    '6 years': 0.6,\n",
    "    '5 years': 0.5,\n",
    "    '4 years': 0.4,\n",
    "    '3 years': 0.3,\n",
    "    '2 years': 0.2,\n",
    "    '1 years': 0.1,\n",
    "    '< 1 year': 0\n",
    "}\n",
    "\n",
    "df['emp_length'] = df['emp_length'].map(mapping_emp_length)"
   ]
  },
  {
   "cell_type": "code",
   "execution_count": null,
   "id": "bcc5fa1d-a03d-4f78-ad01-3ecdbd7d277b",
   "metadata": {
    "tags": []
   },
   "outputs": [],
   "source": [
    "df['emp_length'].unique()"
   ]
  },
  {
   "cell_type": "code",
   "execution_count": null,
   "id": "1a5a40d8-1d6d-4988-878b-8c0fec6a9ac8",
   "metadata": {},
   "outputs": [],
   "source": [
    "# Convert the 'home_ownership' column to numeric"
   ]
  },
  {
   "cell_type": "code",
   "execution_count": 6,
   "id": "9d8b5237-0e70-4df5-8f42-ba4c617b8ee9",
   "metadata": {
    "tags": []
   },
   "outputs": [
    {
     "data": {
      "text/plain": [
       "array([1. , 0.6, 0.8, 0.4, nan, 0. , 0.2])"
      ]
     },
     "execution_count": 6,
     "metadata": {},
     "output_type": "execute_result"
    }
   ],
   "source": [
    "df['home_ownership'].unique()"
   ]
  },
  {
   "cell_type": "code",
   "execution_count": 5,
   "id": "32fdca79-8912-4925-a687-f398a3029648",
   "metadata": {
    "tags": []
   },
   "outputs": [],
   "source": [
    "mapping_home_ownership = {\n",
    "    'MORTGAGE': 1,\n",
    "    'OWN': 0.8,\n",
    "    'RENT': 0.6,\n",
    "    'ANY': 0.4,\n",
    "    'OTHER': 0.2,\n",
    "    'NONE': 0\n",
    "}\n",
    "\n",
    "df['home_ownership'] = df['home_ownership'].map(mapping_home_ownership)"
   ]
  },
  {
   "cell_type": "code",
   "execution_count": null,
   "id": "158ecd90-0db8-45ea-b4b5-a9a4c5852a65",
   "metadata": {},
   "outputs": [],
   "source": [
    "# Convert the 'verification_status' column to numeric"
   ]
  },
  {
   "cell_type": "code",
   "execution_count": 9,
   "id": "7e9c3173-8dba-4b1c-bc16-42e44a11be6f",
   "metadata": {
    "tags": []
   },
   "outputs": [
    {
     "data": {
      "text/plain": [
       "array([0. , 0.5, 1. , nan])"
      ]
     },
     "execution_count": 9,
     "metadata": {},
     "output_type": "execute_result"
    }
   ],
   "source": [
    "df['verification_status'].unique()"
   ]
  },
  {
   "cell_type": "code",
   "execution_count": 8,
   "id": "626e56cb-8b0c-4c77-86d1-c677ef86246c",
   "metadata": {
    "tags": []
   },
   "outputs": [],
   "source": [
    "mapping_verification_status = {\n",
    "    'Verified': 1,\n",
    "    'Source Verified': 0.5,\n",
    "    'Not Verified': 0\n",
    "}\n",
    "\n",
    "df['verification_status'] = df['verification_status'].map(mapping_verification_status)"
   ]
  },
  {
   "cell_type": "code",
   "execution_count": null,
   "id": "63a1c60a-096b-4173-84b6-04b86ea9b5e4",
   "metadata": {},
   "outputs": [],
   "source": [
    "# Create a new column with start date of January 1, 2005\n",
    "# the new column would contain the difference in days\n",
    "# add the difference in days column to the current dataframe"
   ]
  },
  {
   "cell_type": "code",
   "execution_count": 10,
   "id": "44aea6f6-522a-443e-8f62-3916ff99c07a",
   "metadata": {},
   "outputs": [
    {
     "data": {
      "text/plain": [
       "array(['Dec-2015', 'Nov-2015', 'Oct-2015', 'Sep-2015', 'Aug-2015',\n",
       "       'Jul-2015', 'Jun-2015', 'May-2015', 'Apr-2015', 'Mar-2015',\n",
       "       'Feb-2015', 'Jan-2015', nan, 'Mar-2018', 'Feb-2018', 'Jan-2018',\n",
       "       'Sep-2017', 'Aug-2017', 'Jul-2017', 'Jun-2016', 'May-2016',\n",
       "       'Apr-2016', 'Sep-2018', 'Aug-2018', 'Jul-2018', 'Jun-2017',\n",
       "       'May-2017', 'Apr-2017', 'Mar-2016', 'Feb-2016', 'Jan-2016',\n",
       "       'Dec-2014', 'Nov-2014', 'Oct-2014', 'Sep-2014', 'Aug-2014',\n",
       "       'Jul-2014', 'Jun-2014', 'May-2014', 'Apr-2014', 'Mar-2014',\n",
       "       'Feb-2014', 'Jan-2014', 'Dec-2018', 'Nov-2018', 'Oct-2018',\n",
       "       'Jun-2018', 'May-2018', 'Apr-2018', 'Dec-2011', 'Nov-2011',\n",
       "       'Oct-2011', 'Sep-2011', 'Aug-2011', 'Jul-2011', 'Jun-2011',\n",
       "       'May-2011', 'Apr-2011', 'Mar-2011', 'Feb-2011', 'Jan-2011',\n",
       "       'Dec-2010', 'Nov-2010', 'Oct-2010', 'Sep-2010', 'Aug-2010',\n",
       "       'Jul-2010', 'Jun-2010', 'May-2010', 'Apr-2010', 'Mar-2010',\n",
       "       'Feb-2010', 'Jan-2010', 'Dec-2009', 'Nov-2009', 'Oct-2009',\n",
       "       'Sep-2009', 'Aug-2009', 'Jul-2009', 'Jun-2009', 'May-2009',\n",
       "       'Apr-2009', 'Mar-2009', 'Feb-2009', 'Jan-2009', 'Dec-2008',\n",
       "       'Nov-2008', 'Oct-2008', 'Sep-2008', 'Aug-2008', 'Jul-2008',\n",
       "       'Jun-2008', 'May-2008', 'Apr-2008', 'Mar-2008', 'Feb-2008',\n",
       "       'Jan-2008', 'Dec-2007', 'Nov-2007', 'Oct-2007', 'Sep-2007',\n",
       "       'Aug-2007', 'Jul-2007', 'Jun-2007', 'Mar-2017', 'Feb-2017',\n",
       "       'Jan-2017', 'Dec-2013', 'Nov-2013', 'Oct-2013', 'Sep-2013',\n",
       "       'Aug-2013', 'Jul-2013', 'Jun-2013', 'May-2013', 'Apr-2013',\n",
       "       'Mar-2013', 'Feb-2013', 'Jan-2013', 'Dec-2012', 'Nov-2012',\n",
       "       'Oct-2012', 'Sep-2012', 'Aug-2012', 'Jul-2012', 'Jun-2012',\n",
       "       'May-2012', 'Apr-2012', 'Mar-2012', 'Feb-2012', 'Jan-2012',\n",
       "       'Sep-2016', 'Aug-2016', 'Jul-2016', 'Dec-2017', 'Nov-2017',\n",
       "       'Oct-2017', 'Dec-2016', 'Nov-2016', 'Oct-2016'], dtype=object)"
      ]
     },
     "execution_count": 10,
     "metadata": {},
     "output_type": "execute_result"
    }
   ],
   "source": [
    "df['issue_d'].unique()"
   ]
  },
  {
   "cell_type": "code",
   "execution_count": 17,
   "id": "f677e082-a0b6-4829-b546-ded5b81bab57",
   "metadata": {
    "tags": []
   },
   "outputs": [
    {
     "data": {
      "text/plain": [
       "id\n",
       "68407277                                            Dec-2015\n",
       "68355089                                            Dec-2015\n",
       "68341763                                            Dec-2015\n",
       "66310712                                            Dec-2015\n",
       "68476807                                            Dec-2015\n",
       "                                                      ...   \n",
       "88985880                                            Oct-2016\n",
       "88224441                                            Oct-2016\n",
       "88215728                                            Oct-2016\n",
       "Total amount funded in policy code 1: 1465324575         NaN\n",
       "Total amount funded in policy code 2: 521953170          NaN\n",
       "Name: issue_d_diff, Length: 2260701, dtype: object"
      ]
     },
     "execution_count": 17,
     "metadata": {},
     "output_type": "execute_result"
    }
   ],
   "source": [
    "df['issue_d_diff'] = df['issue_d'].copy()"
   ]
  },
  {
   "cell_type": "code",
   "execution_count": 19,
   "id": "7877503a-8223-4b7c-a2d8-c46716bc4e23",
   "metadata": {
    "tags": []
   },
   "outputs": [],
   "source": [
    "df['issue_d_diff'] = df['issue_d_diff'].astype(\"string\")"
   ]
  },
  {
   "cell_type": "code",
   "execution_count": 23,
   "id": "8c5d83c7-a897-4788-916b-c59cad2e0e63",
   "metadata": {},
   "outputs": [
    {
     "data": {
      "text/html": [
       "<div>\n",
       "<style scoped>\n",
       "    .dataframe tbody tr th:only-of-type {\n",
       "        vertical-align: middle;\n",
       "    }\n",
       "\n",
       "    .dataframe tbody tr th {\n",
       "        vertical-align: top;\n",
       "    }\n",
       "\n",
       "    .dataframe thead th {\n",
       "        text-align: right;\n",
       "    }\n",
       "</style>\n",
       "<table border=\"1\" class=\"dataframe\">\n",
       "  <thead>\n",
       "    <tr style=\"text-align: right;\">\n",
       "      <th></th>\n",
       "      <th>Date</th>\n",
       "      <th>Difference (Days)</th>\n",
       "    </tr>\n",
       "    <tr>\n",
       "      <th>id</th>\n",
       "      <th></th>\n",
       "      <th></th>\n",
       "    </tr>\n",
       "  </thead>\n",
       "  <tbody>\n",
       "    <tr>\n",
       "      <th>68407277</th>\n",
       "      <td>Dec-2015</td>\n",
       "      <td>3986.0</td>\n",
       "    </tr>\n",
       "    <tr>\n",
       "      <th>68355089</th>\n",
       "      <td>Dec-2015</td>\n",
       "      <td>3986.0</td>\n",
       "    </tr>\n",
       "    <tr>\n",
       "      <th>68341763</th>\n",
       "      <td>Dec-2015</td>\n",
       "      <td>3986.0</td>\n",
       "    </tr>\n",
       "    <tr>\n",
       "      <th>66310712</th>\n",
       "      <td>Dec-2015</td>\n",
       "      <td>3986.0</td>\n",
       "    </tr>\n",
       "    <tr>\n",
       "      <th>68476807</th>\n",
       "      <td>Dec-2015</td>\n",
       "      <td>3986.0</td>\n",
       "    </tr>\n",
       "    <tr>\n",
       "      <th>...</th>\n",
       "      <td>...</td>\n",
       "      <td>...</td>\n",
       "    </tr>\n",
       "    <tr>\n",
       "      <th>88985880</th>\n",
       "      <td>Oct-2016</td>\n",
       "      <td>4291.0</td>\n",
       "    </tr>\n",
       "    <tr>\n",
       "      <th>88224441</th>\n",
       "      <td>Oct-2016</td>\n",
       "      <td>4291.0</td>\n",
       "    </tr>\n",
       "    <tr>\n",
       "      <th>88215728</th>\n",
       "      <td>Oct-2016</td>\n",
       "      <td>4291.0</td>\n",
       "    </tr>\n",
       "    <tr>\n",
       "      <th>Total amount funded in policy code 1: 1465324575</th>\n",
       "      <td>&lt;NA&gt;</td>\n",
       "      <td>NaN</td>\n",
       "    </tr>\n",
       "    <tr>\n",
       "      <th>Total amount funded in policy code 2: 521953170</th>\n",
       "      <td>&lt;NA&gt;</td>\n",
       "      <td>NaN</td>\n",
       "    </tr>\n",
       "  </tbody>\n",
       "</table>\n",
       "<p>2260701 rows × 2 columns</p>\n",
       "</div>"
      ],
      "text/plain": [
       "                                                      Date  Difference (Days)\n",
       "id                                                                           \n",
       "68407277                                          Dec-2015             3986.0\n",
       "68355089                                          Dec-2015             3986.0\n",
       "68341763                                          Dec-2015             3986.0\n",
       "66310712                                          Dec-2015             3986.0\n",
       "68476807                                          Dec-2015             3986.0\n",
       "...                                                    ...                ...\n",
       "88985880                                          Oct-2016             4291.0\n",
       "88224441                                          Oct-2016             4291.0\n",
       "88215728                                          Oct-2016             4291.0\n",
       "Total amount funded in policy code 1: 1465324575      <NA>                NaN\n",
       "Total amount funded in policy code 2: 521953170       <NA>                NaN\n",
       "\n",
       "[2260701 rows x 2 columns]"
      ]
     },
     "execution_count": 23,
     "metadata": {},
     "output_type": "execute_result"
    }
   ],
   "source": [
    "from datetime import datetime\n",
    "\n",
    "# Define a reference date (January 1, 2005)\n",
    "reference_date = datetime(2005, 1, 1)\n",
    "\n",
    "# Create a list to store the differences in days\n",
    "date_differences = []\n",
    "\n",
    "# Iterate through the date strings\n",
    "for date_string in df['issue_d_diff']:\n",
    "    if isinstance(date_string, str):\n",
    "        # Convert the date string to a datetime object\n",
    "        date = datetime.strptime(date_string, '%b-%Y')\n",
    "\n",
    "        # Calculate the difference in days from the reference date\n",
    "        difference = (date - reference_date).days\n",
    "        date_differences.append(difference)\n",
    "    else:\n",
    "        date_differences.append(None)  # Handle NaN values\n",
    "\n",
    "# Create a DataFrame with the differences in days\n",
    "df_2 = pd.DataFrame({'Date': df['issue_d_diff'], 'Difference (Days)': date_differences})\n",
    "\n",
    "# Print the DataFrame\n",
    "df_2"
   ]
  },
  {
   "cell_type": "code",
   "execution_count": 24,
   "id": "a0766d14-05be-4e3e-81af-e511af118005",
   "metadata": {},
   "outputs": [],
   "source": [
    "df['issue_d_diff'] = df_2['Difference (Days)']"
   ]
  },
  {
   "cell_type": "code",
   "execution_count": 25,
   "id": "d07db183-e998-4229-b31f-36e914f9ef30",
   "metadata": {
    "tags": []
   },
   "outputs": [
    {
     "data": {
      "text/plain": [
       "id\n",
       "68407277                                            3986.0\n",
       "68355089                                            3986.0\n",
       "68341763                                            3986.0\n",
       "66310712                                            3986.0\n",
       "68476807                                            3986.0\n",
       "                                                     ...  \n",
       "88985880                                            4291.0\n",
       "88224441                                            4291.0\n",
       "88215728                                            4291.0\n",
       "Total amount funded in policy code 1: 1465324575       NaN\n",
       "Total amount funded in policy code 2: 521953170        NaN\n",
       "Name: issue_d_diff, Length: 2260701, dtype: float64"
      ]
     },
     "execution_count": 25,
     "metadata": {},
     "output_type": "execute_result"
    }
   ],
   "source": [
    "df['issue_d_diff']"
   ]
  },
  {
   "cell_type": "code",
   "execution_count": null,
   "id": "222b5179-4cd7-44bd-ac01-230e4b4ddf1a",
   "metadata": {},
   "outputs": [],
   "source": [
    "# Convert the 'loan_status' column to numeric"
   ]
  },
  {
   "cell_type": "code",
   "execution_count": 28,
   "id": "abc53663-9f63-4dd9-80dc-455f52700d29",
   "metadata": {
    "tags": []
   },
   "outputs": [
    {
     "data": {
      "text/plain": [
       "array([1.  , 0.75, 0.  , 0.25, 0.5 ,  nan])"
      ]
     },
     "execution_count": 28,
     "metadata": {},
     "output_type": "execute_result"
    }
   ],
   "source": [
    "df['loan_status'].unique()"
   ]
  },
  {
   "cell_type": "code",
   "execution_count": 27,
   "id": "9fde1ff9-7108-4fbc-90fe-8002699a0c2b",
   "metadata": {
    "tags": []
   },
   "outputs": [],
   "source": [
    "mapping_loan_status = {\n",
    "    'Fully Paid': 1,\n",
    "    'Does not meet the credit policy. Status:Fully Paid': 1,\n",
    "    'Current': 0.75,\n",
    "    'Late (16-30 days)': 0.5,\n",
    "    'Late (31-120 days)': 0.25,\n",
    "    'In Grace Period': 0.25,\n",
    "    'Charged Off': 0,\n",
    "    'Default': 0,\n",
    "    'Does not meet the credit policy. Status:Charged Off': 0\n",
    "}\n",
    "\n",
    "df['loan_status'] = df['loan_status'].map(mapping_loan_status)"
   ]
  },
  {
   "cell_type": "code",
   "execution_count": null,
   "id": "9bb973fb-7874-4ef0-babb-712e1830e39b",
   "metadata": {},
   "outputs": [],
   "source": []
  },
  {
   "cell_type": "code",
   "execution_count": null,
   "id": "91b53aa7-17cd-4bd4-9a4a-76a63ef2ff43",
   "metadata": {},
   "outputs": [],
   "source": []
  },
  {
   "cell_type": "code",
   "execution_count": null,
   "id": "48744b76-2469-4548-84e2-63445f8d1ef5",
   "metadata": {},
   "outputs": [],
   "source": []
  },
  {
   "cell_type": "code",
   "execution_count": null,
   "id": "66cb6c01-27aa-4fcd-a999-e29f69823246",
   "metadata": {},
   "outputs": [],
   "source": []
  },
  {
   "cell_type": "code",
   "execution_count": null,
   "id": "dd9b5ced-1cec-4dd1-8597-4874b4fd0f71",
   "metadata": {},
   "outputs": [],
   "source": []
  },
  {
   "cell_type": "code",
   "execution_count": null,
   "id": "9f180639-49be-4f59-8046-dfdaf1b3edd2",
   "metadata": {},
   "outputs": [],
   "source": []
  },
  {
   "cell_type": "code",
   "execution_count": null,
   "id": "fa214cd6-0a1e-48f5-8587-029f1fe75d0c",
   "metadata": {},
   "outputs": [],
   "source": []
  },
  {
   "cell_type": "code",
   "execution_count": null,
   "id": "c34f5d55-9dba-432a-90b5-8133913cd303",
   "metadata": {},
   "outputs": [],
   "source": []
  },
  {
   "cell_type": "code",
   "execution_count": null,
   "id": "06bfcf20-6e39-4b06-aaf9-9f8599f311b1",
   "metadata": {},
   "outputs": [],
   "source": []
  },
  {
   "cell_type": "code",
   "execution_count": null,
   "id": "294ace5a-7b55-4577-a30d-048526de3e0d",
   "metadata": {},
   "outputs": [],
   "source": []
  },
  {
   "cell_type": "code",
   "execution_count": null,
   "id": "a8d18662-4922-4a1d-a745-50b361eca85d",
   "metadata": {},
   "outputs": [],
   "source": []
  },
  {
   "cell_type": "code",
   "execution_count": null,
   "id": "b2da76b2-71d6-4601-a890-617e2ed40dba",
   "metadata": {},
   "outputs": [],
   "source": []
  },
  {
   "cell_type": "code",
   "execution_count": null,
   "id": "44f379d2-a81b-44a7-b6eb-5690a3c60bd4",
   "metadata": {},
   "outputs": [],
   "source": []
  },
  {
   "cell_type": "code",
   "execution_count": null,
   "id": "6157f8ba-023d-4f8e-b5e8-16d157b84d48",
   "metadata": {},
   "outputs": [],
   "source": []
  },
  {
   "cell_type": "code",
   "execution_count": null,
   "id": "6c59a72e-3917-49a9-ab82-83f8767e9f33",
   "metadata": {},
   "outputs": [],
   "source": []
  },
  {
   "cell_type": "code",
   "execution_count": null,
   "id": "b1fdac01-176b-4f6b-97a0-ce15f4f23bbc",
   "metadata": {},
   "outputs": [],
   "source": []
  },
  {
   "cell_type": "code",
   "execution_count": null,
   "id": "4b56373f-4792-4070-b45a-10ca093abbc0",
   "metadata": {},
   "outputs": [],
   "source": []
  },
  {
   "cell_type": "code",
   "execution_count": null,
   "id": "60c278ce-c942-426f-8554-f32c1bdcd164",
   "metadata": {},
   "outputs": [],
   "source": []
  },
  {
   "cell_type": "code",
   "execution_count": null,
   "id": "dd6b0e18-55ab-4093-81cd-0ce2073d303f",
   "metadata": {},
   "outputs": [],
   "source": []
  },
  {
   "cell_type": "code",
   "execution_count": null,
   "id": "8644e0ba-d7db-42e0-ba33-cef648b6c622",
   "metadata": {},
   "outputs": [],
   "source": []
  },
  {
   "cell_type": "code",
   "execution_count": null,
   "id": "dde1cfd1-0532-4b5a-9eb7-6581d46fb2e4",
   "metadata": {},
   "outputs": [],
   "source": []
  },
  {
   "cell_type": "code",
   "execution_count": null,
   "id": "3c02f512-0bd9-4234-b631-2458867339f4",
   "metadata": {},
   "outputs": [],
   "source": [
    "scaler = MinMaxScaler(feature_range=(0, 1))"
   ]
  },
  {
   "cell_type": "code",
   "execution_count": null,
   "id": "c08d2fcc-2600-46d1-ae29-bc3e3d4749bb",
   "metadata": {
    "tags": []
   },
   "outputs": [],
   "source": [
    "df_filled = df.fillna(-1)\n",
    "df_scaled = scaler.fit_transform(df_filled)"
   ]
  },
  {
   "cell_type": "code",
   "execution_count": null,
   "id": "aa5a990a-1c01-4a1d-86f6-176c21177b1c",
   "metadata": {},
   "outputs": [],
   "source": [
    "scaled_df = pd.DataFrame(df_scaled, columns=df.columns)"
   ]
  },
  {
   "cell_type": "code",
   "execution_count": null,
   "id": "cd576133-a691-4a0e-b899-3bd59e236390",
   "metadata": {},
   "outputs": [],
   "source": [
    "df.fillna('Null', inplace=True)"
   ]
  },
  {
   "cell_type": "code",
   "execution_count": null,
   "id": "01c16fe5-fe99-4f8a-b65e-a1f36450c43d",
   "metadata": {},
   "outputs": [],
   "source": [
    "# Preparing for X and y"
   ]
  },
  {
   "cell_type": "code",
   "execution_count": null,
   "id": "ea2ff6e3-13d2-4c21-8b65-dcea138e9913",
   "metadata": {
    "tags": []
   },
   "outputs": [],
   "source": [
    "y = df['loan_status']"
   ]
  },
  {
   "cell_type": "code",
   "execution_count": null,
   "id": "1a7dd942-0502-4c8c-9ef0-bff2120a908d",
   "metadata": {
    "tags": []
   },
   "outputs": [],
   "source": [
    "X = df.drop(df.loc[:, 'hardship_flag':'settlement_term'].columns, axis=1)"
   ]
  },
  {
   "cell_type": "code",
   "execution_count": null,
   "id": "f8dece6b",
   "metadata": {},
   "outputs": [],
   "source": []
  },
  {
   "cell_type": "code",
   "execution_count": null,
   "id": "6980ba67",
   "metadata": {},
   "outputs": [],
   "source": []
  },
  {
   "cell_type": "code",
   "execution_count": null,
   "id": "45da931c",
   "metadata": {},
   "outputs": [],
   "source": []
  },
  {
   "cell_type": "code",
   "execution_count": null,
   "id": "0fde5ce6-c9f6-4550-82d9-f90d1deffe3d",
   "metadata": {},
   "outputs": [],
   "source": [
    "from sklearn.model_selection import train_test_split"
   ]
  },
  {
   "cell_type": "code",
   "execution_count": null,
   "id": "e8245594-b7da-44f3-9d38-421ecde41802",
   "metadata": {
    "tags": []
   },
   "outputs": [],
   "source": [
    "X_train, X_test, y_train, y_test = train_test_split(X, y, random_state=0)"
   ]
  },
  {
   "cell_type": "code",
   "execution_count": null,
   "id": "01eccee3-2d9d-4a4c-afa8-d49b09b07c63",
   "metadata": {
    "tags": []
   },
   "outputs": [],
   "source": [
    "# Dropping NA in y will cause inconsistency in rows between y and X\n",
    "# y = y.dropna()"
   ]
  },
  {
   "cell_type": "code",
   "execution_count": null,
   "id": "905bd5a2-4a52-474b-a25a-c7f1d9263033",
   "metadata": {},
   "outputs": [],
   "source": [
    "# Dropping NA in X will remove all rows\n",
    "# X = X.dropna()"
   ]
  },
  {
   "cell_type": "code",
   "execution_count": null,
   "id": "6a95a9b4-ee99-48b5-a863-66e586363fb3",
   "metadata": {},
   "outputs": [],
   "source": []
  },
  {
   "cell_type": "code",
   "execution_count": null,
   "id": "a142ee35-d7ba-4691-a259-179bb6d82861",
   "metadata": {},
   "outputs": [],
   "source": []
  },
  {
   "cell_type": "code",
   "execution_count": null,
   "id": "8b8ad9af-f20a-4aee-a72d-8d0177d61597",
   "metadata": {
    "tags": []
   },
   "outputs": [],
   "source": [
    "# Create an Explainable Boosting Machine (EBM)\n",
    "from interpret.glassbox import ExplainableBoostingClassifier\n",
    "ebm = ExplainableBoostingClassifier()\n",
    "\n",
    "# Fit the EBM on the training data\n",
    "ebm.fit(X_train, y_train)"
   ]
  },
  {
   "cell_type": "code",
   "execution_count": null,
   "id": "bae56a3f-aa07-4237-9f2f-e25bd2f21e25",
   "metadata": {},
   "outputs": [],
   "source": []
  },
  {
   "cell_type": "code",
   "execution_count": null,
   "id": "c0c0eccb-0851-438a-beef-af7e96b04e62",
   "metadata": {},
   "outputs": [],
   "source": []
  },
  {
   "cell_type": "code",
   "execution_count": null,
   "id": "ac0f156b-7d53-4c35-b256-e5b4f81d5ba4",
   "metadata": {},
   "outputs": [],
   "source": []
  },
  {
   "cell_type": "code",
   "execution_count": null,
   "id": "9acbf28e-453d-4677-ba60-53358ac4128c",
   "metadata": {},
   "outputs": [],
   "source": []
  },
  {
   "cell_type": "code",
   "execution_count": null,
   "id": "219c65e0-e42f-4a88-84c7-98551e12e5c8",
   "metadata": {},
   "outputs": [],
   "source": []
  },
  {
   "cell_type": "code",
   "execution_count": null,
   "id": "a25f2c73-6c3d-4fee-abaa-d0aabb3cda69",
   "metadata": {},
   "outputs": [],
   "source": []
  },
  {
   "cell_type": "code",
   "execution_count": null,
   "id": "34385379-7fba-48dc-866a-5d3049413600",
   "metadata": {},
   "outputs": [],
   "source": []
  }
 ],
 "metadata": {
  "kernelspec": {
   "display_name": "Python 3 (ipykernel)",
   "language": "python",
   "name": "python3"
  },
  "language_info": {
   "codemirror_mode": {
    "name": "ipython",
    "version": 3
   },
   "file_extension": ".py",
   "mimetype": "text/x-python",
   "name": "python",
   "nbconvert_exporter": "python",
   "pygments_lexer": "ipython3",
   "version": "3.11.4"
  }
 },
 "nbformat": 4,
 "nbformat_minor": 5
}
