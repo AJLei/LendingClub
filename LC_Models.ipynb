{
 "cells": [
  {
   "cell_type": "code",
   "execution_count": 1,
   "id": "75e6e8e9-5734-4064-b868-702b5b50c015",
   "metadata": {
    "tags": []
   },
   "outputs": [],
   "source": [
    "import pandas as pd\n",
    "import numpy as np"
   ]
  },
  {
   "cell_type": "code",
   "execution_count": 2,
   "id": "0732b705-5406-49fd-9ecc-67e7a3cae81f",
   "metadata": {
    "tags": []
   },
   "outputs": [],
   "source": [
    "df = pd.read_csv('/Users/alexlei/Downloads/accepted_2007_to_2018Q4.csv', index_col=0, low_memory=False)"
   ]
  },
  {
   "cell_type": "code",
   "execution_count": 3,
   "id": "c61e2cc5-6006-40f4-bf63-9d21dd09565a",
   "metadata": {},
   "outputs": [],
   "source": [
    "df = df.drop(df.loc[:, 'hardship_flag':'settlement_term'].columns, axis=1)"
   ]
  },
  {
   "cell_type": "code",
   "execution_count": 4,
   "id": "9d751481-7240-4ec5-92ee-836f35fcca47",
   "metadata": {
    "tags": []
   },
   "outputs": [],
   "source": [
    "sampled_df = df.sample(n=1000, random_state=42)"
   ]
  },
  {
   "cell_type": "code",
   "execution_count": 5,
   "id": "4c7a80c0-3d4b-4517-b609-5c4436e8b8c3",
   "metadata": {
    "tags": []
   },
   "outputs": [],
   "source": [
    "X = sampled_df"
   ]
  },
  {
   "cell_type": "code",
   "execution_count": 6,
   "id": "67b6a241-200e-4612-bcbe-ba19f5d5fed0",
   "metadata": {
    "tags": []
   },
   "outputs": [],
   "source": [
    "y = sampled_df['loan_status']"
   ]
  },
  {
   "cell_type": "code",
   "execution_count": 7,
   "id": "73a98260-0365-4690-ad1c-9aca624dcbf3",
   "metadata": {
    "tags": []
   },
   "outputs": [],
   "source": [
    "from sklearn.model_selection import train_test_split"
   ]
  },
  {
   "cell_type": "code",
   "execution_count": 8,
   "id": "640a069d-9cc6-41b9-86db-33aa7ff4d9a3",
   "metadata": {
    "tags": []
   },
   "outputs": [],
   "source": [
    "X_train, X_test, y_train, y_test = train_test_split(X, y, random_state=0)"
   ]
  },
  {
   "cell_type": "code",
   "execution_count": 9,
   "id": "0209bb3b-faf2-4bd5-b3e3-7203768fd91d",
   "metadata": {
    "tags": []
   },
   "outputs": [
    {
     "name": "stderr",
     "output_type": "stream",
     "text": [
      "/Users/alexlei/anaconda3/lib/python3.11/site-packages/interpret/utils/_preprocessor.py:314: RuntimeWarning: All-NaN slice encountered\n",
      "  min_feature_val = np.nanmin(X_col)\n",
      "/Users/alexlei/anaconda3/lib/python3.11/site-packages/interpret/utils/_preprocessor.py:315: RuntimeWarning: All-NaN slice encountered\n",
      "  max_feature_val = np.nanmax(X_col)\n",
      "/Users/alexlei/anaconda3/lib/python3.11/site-packages/interpret/glassbox/_ebm/_ebm.py:669: UserWarning: Missing values detected. Our visualizations do not currently display missing values. To retain the glassbox nature of the model you need to either set the missing values to an extreme value like -1000 that will be visible on the graphs, or manually examine the missing value score in ebm.term_scores_[term_index][0]\n",
      "  warn(\n",
      "/Users/alexlei/anaconda3/lib/python3.11/site-packages/interpret/glassbox/_ebm/_ebm.py:933: UserWarning: Detected multiclass problem. Forcing interactions to 0. Multiclass interactions work except for global visualizations, so the break statement below that disables multiclass interactions can be removed.\n",
      "  warn(\n"
     ]
    },
    {
     "data": {
      "text/html": [
       "<style>#sk-container-id-1 {color: black;}#sk-container-id-1 pre{padding: 0;}#sk-container-id-1 div.sk-toggleable {background-color: white;}#sk-container-id-1 label.sk-toggleable__label {cursor: pointer;display: block;width: 100%;margin-bottom: 0;padding: 0.3em;box-sizing: border-box;text-align: center;}#sk-container-id-1 label.sk-toggleable__label-arrow:before {content: \"▸\";float: left;margin-right: 0.25em;color: #696969;}#sk-container-id-1 label.sk-toggleable__label-arrow:hover:before {color: black;}#sk-container-id-1 div.sk-estimator:hover label.sk-toggleable__label-arrow:before {color: black;}#sk-container-id-1 div.sk-toggleable__content {max-height: 0;max-width: 0;overflow: hidden;text-align: left;background-color: #f0f8ff;}#sk-container-id-1 div.sk-toggleable__content pre {margin: 0.2em;color: black;border-radius: 0.25em;background-color: #f0f8ff;}#sk-container-id-1 input.sk-toggleable__control:checked~div.sk-toggleable__content {max-height: 200px;max-width: 100%;overflow: auto;}#sk-container-id-1 input.sk-toggleable__control:checked~label.sk-toggleable__label-arrow:before {content: \"▾\";}#sk-container-id-1 div.sk-estimator input.sk-toggleable__control:checked~label.sk-toggleable__label {background-color: #d4ebff;}#sk-container-id-1 div.sk-label input.sk-toggleable__control:checked~label.sk-toggleable__label {background-color: #d4ebff;}#sk-container-id-1 input.sk-hidden--visually {border: 0;clip: rect(1px 1px 1px 1px);clip: rect(1px, 1px, 1px, 1px);height: 1px;margin: -1px;overflow: hidden;padding: 0;position: absolute;width: 1px;}#sk-container-id-1 div.sk-estimator {font-family: monospace;background-color: #f0f8ff;border: 1px dotted black;border-radius: 0.25em;box-sizing: border-box;margin-bottom: 0.5em;}#sk-container-id-1 div.sk-estimator:hover {background-color: #d4ebff;}#sk-container-id-1 div.sk-parallel-item::after {content: \"\";width: 100%;border-bottom: 1px solid gray;flex-grow: 1;}#sk-container-id-1 div.sk-label:hover label.sk-toggleable__label {background-color: #d4ebff;}#sk-container-id-1 div.sk-serial::before {content: \"\";position: absolute;border-left: 1px solid gray;box-sizing: border-box;top: 0;bottom: 0;left: 50%;z-index: 0;}#sk-container-id-1 div.sk-serial {display: flex;flex-direction: column;align-items: center;background-color: white;padding-right: 0.2em;padding-left: 0.2em;position: relative;}#sk-container-id-1 div.sk-item {position: relative;z-index: 1;}#sk-container-id-1 div.sk-parallel {display: flex;align-items: stretch;justify-content: center;background-color: white;position: relative;}#sk-container-id-1 div.sk-item::before, #sk-container-id-1 div.sk-parallel-item::before {content: \"\";position: absolute;border-left: 1px solid gray;box-sizing: border-box;top: 0;bottom: 0;left: 50%;z-index: -1;}#sk-container-id-1 div.sk-parallel-item {display: flex;flex-direction: column;z-index: 1;position: relative;background-color: white;}#sk-container-id-1 div.sk-parallel-item:first-child::after {align-self: flex-end;width: 50%;}#sk-container-id-1 div.sk-parallel-item:last-child::after {align-self: flex-start;width: 50%;}#sk-container-id-1 div.sk-parallel-item:only-child::after {width: 0;}#sk-container-id-1 div.sk-dashed-wrapped {border: 1px dashed gray;margin: 0 0.4em 0.5em 0.4em;box-sizing: border-box;padding-bottom: 0.4em;background-color: white;}#sk-container-id-1 div.sk-label label {font-family: monospace;font-weight: bold;display: inline-block;line-height: 1.2em;}#sk-container-id-1 div.sk-label-container {text-align: center;}#sk-container-id-1 div.sk-container {/* jupyter's `normalize.less` sets `[hidden] { display: none; }` but bootstrap.min.css set `[hidden] { display: none !important; }` so we also need the `!important` here to be able to override the default hidden behavior on the sphinx rendered scikit-learn.org. See: https://github.com/scikit-learn/scikit-learn/issues/21755 */display: inline-block !important;position: relative;}#sk-container-id-1 div.sk-text-repr-fallback {display: none;}</style><div id=\"sk-container-id-1\" class=\"sk-top-container\"><div class=\"sk-text-repr-fallback\"><pre>ExplainableBoostingClassifier()</pre><b>In a Jupyter environment, please rerun this cell to show the HTML representation or trust the notebook. <br />On GitHub, the HTML representation is unable to render, please try loading this page with nbviewer.org.</b></div><div class=\"sk-container\" hidden><div class=\"sk-item\"><div class=\"sk-estimator sk-toggleable\"><input class=\"sk-toggleable__control sk-hidden--visually\" id=\"sk-estimator-id-1\" type=\"checkbox\" checked><label for=\"sk-estimator-id-1\" class=\"sk-toggleable__label sk-toggleable__label-arrow\">ExplainableBoostingClassifier</label><div class=\"sk-toggleable__content\"><pre>ExplainableBoostingClassifier()</pre></div></div></div></div></div>"
      ],
      "text/plain": [
       "ExplainableBoostingClassifier()"
      ]
     },
     "execution_count": 9,
     "metadata": {},
     "output_type": "execute_result"
    }
   ],
   "source": [
    "# Create an Explainable Boosting Machine (EBM)\n",
    "from interpret.glassbox import ExplainableBoostingClassifier\n",
    "ebm = ExplainableBoostingClassifier()\n",
    "\n",
    "# Fit the EBM on the training data\n",
    "ebm.fit(X_train, y_train)"
   ]
  },
  {
   "cell_type": "code",
   "execution_count": 10,
   "id": "acc21f57-059c-4aec-91ed-f44d1f21acb4",
   "metadata": {
    "tags": []
   },
   "outputs": [
    {
     "data": {
      "text/html": [
       "<!-- http://127.0.0.1:7001/5705739536/ -->\n",
       "<iframe src=\"http://127.0.0.1:7001/5705739536/\" width=100% height=800 frameBorder=\"0\"></iframe>"
      ]
     },
     "metadata": {},
     "output_type": "display_data"
    }
   ],
   "source": [
    "from interpret import show\n",
    "show(ebm.explain_global())"
   ]
  },
  {
   "cell_type": "code",
   "execution_count": null,
   "id": "30de1d99-d567-4eca-b478-43ec9eba2a8b",
   "metadata": {},
   "outputs": [],
   "source": []
  },
  {
   "cell_type": "code",
   "execution_count": null,
   "id": "d0e9c5cf-5c52-4214-b214-1717d7883624",
   "metadata": {},
   "outputs": [],
   "source": []
  },
  {
   "cell_type": "code",
   "execution_count": null,
   "id": "588c0546-084f-42cc-8760-49f1dbbd779f",
   "metadata": {},
   "outputs": [],
   "source": []
  },
  {
   "cell_type": "code",
   "execution_count": null,
   "id": "5e3e5771-07d4-4425-99af-3d611877cac6",
   "metadata": {},
   "outputs": [],
   "source": [
    "# Random Forest from PCA"
   ]
  },
  {
   "cell_type": "code",
   "execution_count": 24,
   "id": "05bc1445-6fb7-4b43-bc16-963b2012435b",
   "metadata": {},
   "outputs": [
    {
     "data": {
      "text/plain": [
       "0.9"
      ]
     },
     "execution_count": 24,
     "metadata": {},
     "output_type": "execute_result"
    }
   ],
   "source": [
    "from sklearn.decomposition import PCA\n",
    "from sklearn.ensemble import RandomForestClassifier\n",
    "from sklearn.svm import SVC\n",
    "from sklearn.preprocessing import StandardScaler\n",
    "from sklearn.pipeline import Pipeline\n",
    "\n",
    "pipe = Pipeline([('Step', PCA()), ('Random', RandomForestClassifier())])\n",
    "# The pipeline can be used as any other estimator\n",
    "# and avoids leaking the test set into the train set\n",
    "pipe.fit(X_train[['int_rate', 'loan_amnt', 'total_pymnt', 'last_fico_range_low', 'last_fico_range_high']], y_train).score(X_test[['int_rate', 'loan_amnt', 'total_pymnt', 'last_fico_range_low', 'last_fico_range_high']], y_test)\n",
    "\n",
    "#pipe.set_params(svc__C=10).fit(X_train, y_train).score(X_test, y_test)"
   ]
  },
  {
   "cell_type": "code",
   "execution_count": 23,
   "id": "6ac43c47-e460-45d1-b035-45e3c683d19c",
   "metadata": {},
   "outputs": [
    {
     "data": {
      "text/plain": [
       "0.908"
      ]
     },
     "execution_count": 23,
     "metadata": {},
     "output_type": "execute_result"
    }
   ],
   "source": [
    "pipe.set_params(Step__n_components=5).fit(X_train[['int_rate', 'loan_amnt', 'total_pymnt', 'last_fico_range_low', 'last_fico_range_high']], y_train).score(X_test[['int_rate', 'loan_amnt', 'total_pymnt', 'last_fico_range_low', 'last_fico_range_high']], y_test)"
   ]
  },
  {
   "cell_type": "code",
   "execution_count": null,
   "id": "8cbbd45b-dabe-4dd4-8dc0-a5475bf9ec32",
   "metadata": {},
   "outputs": [],
   "source": []
  },
  {
   "cell_type": "code",
   "execution_count": null,
   "id": "e26afcfb-c576-4f59-9c71-71b31b8c4d38",
   "metadata": {},
   "outputs": [],
   "source": [
    "# AUC and F-1 Score"
   ]
  },
  {
   "cell_type": "code",
   "execution_count": 30,
   "id": "4cf94e8b-fcdc-4066-acb9-d44952a93ccc",
   "metadata": {},
   "outputs": [],
   "source": [
    "from sklearn.metrics import roc_auc_score\n",
    "auc = roc_auc_score(y, ebm.predict_proba(X), multi_class='ovr')"
   ]
  },
  {
   "cell_type": "code",
   "execution_count": 31,
   "id": "8dc36a8a-d5cc-4fa9-ab6e-a504f035c4a1",
   "metadata": {},
   "outputs": [
    {
     "data": {
      "text/plain": [
       "0.9998604796326508"
      ]
     },
     "execution_count": 31,
     "metadata": {},
     "output_type": "execute_result"
    }
   ],
   "source": [
    "auc"
   ]
  },
  {
   "cell_type": "code",
   "execution_count": 38,
   "id": "78463d6a-65f7-4266-9fec-c6229c863ace",
   "metadata": {},
   "outputs": [],
   "source": [
    "auc_random = roc_auc_score(y_train, pipe.predict_proba(X_train[['int_rate', 'loan_amnt', 'total_pymnt', 'last_fico_range_low', 'last_fico_range_high']]), multi_class='ovo')"
   ]
  },
  {
   "cell_type": "code",
   "execution_count": 39,
   "id": "0dc16491-0683-4ab6-9780-e398e22fc392",
   "metadata": {},
   "outputs": [
    {
     "data": {
      "text/plain": [
       "1.0"
      ]
     },
     "execution_count": 39,
     "metadata": {},
     "output_type": "execute_result"
    }
   ],
   "source": [
    "auc_random"
   ]
  },
  {
   "cell_type": "code",
   "execution_count": null,
   "id": "2a2e8d94-fd7b-49b0-a960-4a55c2b81f94",
   "metadata": {},
   "outputs": [],
   "source": []
  },
  {
   "cell_type": "markdown",
   "id": "2de98aa8-2bce-48dc-a0e5-0055d5656fe8",
   "metadata": {
    "tags": []
   },
   "source": [
    "## Graph plots:"
   ]
  },
  {
   "cell_type": "code",
   "execution_count": null,
   "id": "0658244f-1fbe-4c6b-aad1-75813d44c2d5",
   "metadata": {},
   "outputs": [],
   "source": [
    "# Line plot"
   ]
  },
  {
   "cell_type": "code",
   "execution_count": 44,
   "id": "9c7b7a89-b425-4c2b-b7d1-0ed6c69a179a",
   "metadata": {
    "tags": []
   },
   "outputs": [],
   "source": [
    "mapping_loan_status = {\n",
    "    'Fully Paid': 1,\n",
    "    'Does not meet the credit policy. Status:Fully Paid': 1,\n",
    "    'Current': 0.75,\n",
    "    'Late (16-30 days)': 0.5,\n",
    "    'Late (31-120 days)': 0.25,\n",
    "    'In Grace Period': 0.25,\n",
    "    'Charged Off': 0,\n",
    "    'Default': 0,\n",
    "    'Does not meet the credit policy. Status:Charged Off': 0\n",
    "}\n",
    "\n",
    "df['loan_status'] = df['loan_status'].map(mapping_loan_status)"
   ]
  },
  {
   "cell_type": "code",
   "execution_count": 43,
   "id": "b60f74bb-e736-4e2b-af07-232c45ee7afe",
   "metadata": {
    "tags": []
   },
   "outputs": [
    {
     "data": {
      "text/plain": [
       "array([564., 699., 704., 679., 759., 654., 674., 719., 589., 754., 584.,\n",
       "       764., 779., 724., 794., 744., 639., 664., 659., 499., 809., 694.,\n",
       "       629., 604., 769., 734., 739., 524., 689., 799., 774., 709., 669.,\n",
       "       614., 649., 804., 594., 814., 634., 504., 609., 514., 624., 684.,\n",
       "       784., 714., 519., 559., 749., 529., 729., 549., 819., 644., 569.,\n",
       "       579., 544., 554., 789., 839., 829., 599., 619., 574., 539., 534.,\n",
       "       509., 834., 824.,   0., 844., 850.,  nan])"
      ]
     },
     "execution_count": 43,
     "metadata": {},
     "output_type": "execute_result"
    }
   ],
   "source": [
    "df['last_fico_range_high'].unique()"
   ]
  },
  {
   "cell_type": "code",
   "execution_count": 45,
   "id": "5df7d675-e227-4a87-9056-d5cc00282119",
   "metadata": {
    "tags": []
   },
   "outputs": [
    {
     "data": {
      "text/plain": [
       "array([1.  , 0.75, 0.  , 0.25, 0.5 ,  nan])"
      ]
     },
     "execution_count": 45,
     "metadata": {},
     "output_type": "execute_result"
    }
   ],
   "source": [
    "df['loan_status'].unique()"
   ]
  },
  {
   "cell_type": "code",
   "execution_count": 47,
   "id": "919d0385-a579-441f-aa9f-0a9121493f76",
   "metadata": {
    "tags": []
   },
   "outputs": [],
   "source": [
    "import matplotlib.pyplot as plt"
   ]
  },
  {
   "cell_type": "code",
   "execution_count": 48,
   "id": "176c37dd-82c5-4694-8839-aa8f397f8e71",
   "metadata": {
    "tags": []
   },
   "outputs": [
    {
     "data": {
      "image/png": "[encoded data removed]",
      "text/plain": [
       "<Figure size 640x480 with 1 Axes>"
      ]
     },
     "metadata": {},
     "output_type": "display_data"
    }
   ],
   "source": [
    "plt.scatter(df['last_fico_range_high'], df['loan_status'])\n",
    "plt.show()"
   ]
  },
  {
   "cell_type": "code",
   "execution_count": null,
   "id": "84e47229-0de9-44e0-95e0-8f1ba6badffe",
   "metadata": {},
   "outputs": [],
   "source": []
  },
  {
   "cell_type": "code",
   "execution_count": null,
   "id": "1a0059f4-c0a4-401d-a985-681e459f0d69",
   "metadata": {},
   "outputs": [],
   "source": []
  },
  {
   "cell_type": "code",
   "execution_count": null,
   "id": "c39fa3d4-9c24-4a06-9a24-7d290065bbdc",
   "metadata": {},
   "outputs": [],
   "source": []
  },
  {
   "cell_type": "code",
   "execution_count": null,
   "id": "32cc0a03-bc6a-4620-a609-92c134a1d0e6",
   "metadata": {},
   "outputs": [],
   "source": []
  },
  {
   "cell_type": "code",
   "execution_count": null,
   "id": "c7735c2b-f9eb-43c6-b0b6-0b08beadb50b",
   "metadata": {},
   "outputs": [],
   "source": []
  },
  {
   "cell_type": "code",
   "execution_count": null,
   "id": "da98845f-f115-4bbc-831f-2666b139a3ab",
   "metadata": {},
   "outputs": [],
   "source": []
  },
  {
   "cell_type": "markdown",
   "id": "73e232ba-18a2-4aa6-a17c-2970a36bd7e9",
   "metadata": {},
   "source": [
    "## To convert all 'obejct' columns into numeric:"
   ]
  },
  {
   "cell_type": "code",
   "execution_count": null,
   "id": "835a2b1c-5399-47e7-b782-fab18d0b93c6",
   "metadata": {},
   "outputs": [],
   "source": [
    "# Check data types for all columns"
   ]
  },
  {
   "cell_type": "code",
   "execution_count": null,
   "id": "10125919-c9a4-41c6-8184-9c7aefcadd6a",
   "metadata": {
    "tags": []
   },
   "outputs": [],
   "source": [
    "pd.options.display.max_rows = 200\n",
    "df.dtypes"
   ]
  },
  {
   "cell_type": "code",
   "execution_count": null,
   "id": "1452a8a8-289f-4121-9e28-8949fa5048ab",
   "metadata": {},
   "outputs": [],
   "source": [
    "# Convert the 'term' column to numeric"
   ]
  },
  {
   "cell_type": "code",
   "execution_count": null,
   "id": "c7c960a0-82ef-454d-8708-9dd59567749f",
   "metadata": {
    "tags": []
   },
   "outputs": [],
   "source": [
    "df['term'] = df['term'].str.replace(' months', '')\n",
    "df['term'] = pd.to_numeric(df['term'])"
   ]
  },
  {
   "cell_type": "code",
   "execution_count": null,
   "id": "a0c83604-01da-462e-add7-f9ba8fae024a",
   "metadata": {
    "tags": []
   },
   "outputs": [],
   "source": [
    "df['term']"
   ]
  },
  {
   "cell_type": "code",
   "execution_count": null,
   "id": "761040b4-a0c8-478c-bdde-9503789c63a1",
   "metadata": {},
   "outputs": [],
   "source": [
    "# Convert the 'grade' column to numeric"
   ]
  },
  {
   "cell_type": "code",
   "execution_count": null,
   "id": "c6632521-c867-4932-81c6-97125fb67783",
   "metadata": {
    "tags": []
   },
   "outputs": [],
   "source": [
    "df['grade'].unique()"
   ]
  },
  {
   "cell_type": "code",
   "execution_count": null,
   "id": "580cf7a5-dfa3-48a5-ae19-289002869a92",
   "metadata": {
    "tags": []
   },
   "outputs": [],
   "source": [
    "mapping_term = {'A': 1, 'B': 0.833, 'C': 0.667, 'D': 0.5, 'E': 0.333, 'F': 0.167, 'G': 0}\n",
    "#df.replace({'A': mapping, 'B': mapping, 'C': mapping, 'D': mapping, 'E': mapping, 'F': mapping, 'G': mapping})\n",
    "#df['grade'] = pd.to_numeric(df['grade'])\n",
    "df.applymap(lambda x: mapping_term.get(x) if x in mapping_term else x)"
   ]
  },
  {
   "cell_type": "code",
   "execution_count": null,
   "id": "d2dab10b-7e70-4508-b344-76786778929f",
   "metadata": {},
   "outputs": [],
   "source": [
    "# Convert the 'sub_grade' column to numeric"
   ]
  },
  {
   "cell_type": "code",
   "execution_count": null,
   "id": "78ff8950-180f-47d1-836e-e6eabfd87f7b",
   "metadata": {
    "tags": []
   },
   "outputs": [],
   "source": [
    "df['sub_grade'].unique()"
   ]
  },
  {
   "cell_type": "code",
   "execution_count": null,
   "id": "b234da70-32df-49db-b876-57f6f006776f",
   "metadata": {
    "tags": []
   },
   "outputs": [],
   "source": [
    "mapping_subgrade = {\n",
    "    'A5': 1.0, 'A4': 0.9706, 'A3': 0.9412, 'A2': 0.9118, 'A1': 0.8824,\n",
    "    'B5': 0.8529, 'B4': 0.8235, 'B3': 0.7941, 'B2': 0.7647, 'B1': 0.7353,\n",
    "    'C5': 0.7059, 'C4': 0.6765, 'C3': 0.6471, 'C2': 0.6176, 'C1': 0.5882,\n",
    "    'D5': 0.5588, 'D4': 0.5294, 'D3': 0.5000, 'D2': 0.4706, 'D1': 0.4412,    \n",
    "    'E5': 0.4118, 'E4': 0.3824, 'E3': 0.3529, 'E2': 0.3235, 'E1': 0.2941,\n",
    "    'F5': 0.2647, 'F4': 0.2353, 'F3': 0.2059, 'F2': 0.1765, 'F1': 0.1471,\n",
    "    'G5': 0.1176, 'G4': 0.0882, 'G3': 0.0588, 'G2': 0.0294, 'G1': 0,\n",
    "}\n",
    "\n",
    "# Use the map function to replace values based on the mapping dictionary\n",
    "df['sub_grade'] = df['sub_grade'].map(mapping_subgrade)"
   ]
  },
  {
   "cell_type": "code",
   "execution_count": null,
   "id": "768e2fce-7a24-4ace-b521-35205ad87f6a",
   "metadata": {},
   "outputs": [],
   "source": [
    "# Convert the 'emp_length' column to numeric"
   ]
  },
  {
   "cell_type": "code",
   "execution_count": null,
   "id": "a3ab34f4-b182-48a1-8cce-337fb707fde2",
   "metadata": {
    "tags": []
   },
   "outputs": [],
   "source": [
    "df['emp_length'].unique()"
   ]
  },
  {
   "cell_type": "code",
   "execution_count": null,
   "id": "63b46455-325f-4604-a374-7fe7989afa20",
   "metadata": {
    "tags": []
   },
   "outputs": [],
   "source": [
    "mapping_emp_length = {\n",
    "    '10+ years': 1,\n",
    "    '9 years': 0.9,\n",
    "    '8 years': 0.8,\n",
    "    '7 years': 0.7,\n",
    "    '6 years': 0.6,\n",
    "    '5 years': 0.5,\n",
    "    '4 years': 0.4,\n",
    "    '3 years': 0.3,\n",
    "    '2 years': 0.2,\n",
    "    '1 years': 0.1,\n",
    "    '< 1 year': 0\n",
    "}\n",
    "\n",
    "df['emp_length'] = df['emp_length'].map(mapping_emp_length)"
   ]
  },
  {
   "cell_type": "code",
   "execution_count": null,
   "id": "bcc5fa1d-a03d-4f78-ad01-3ecdbd7d277b",
   "metadata": {
    "tags": []
   },
   "outputs": [],
   "source": [
    "df['emp_length'].unique()"
   ]
  },
  {
   "cell_type": "code",
   "execution_count": null,
   "id": "1a5a40d8-1d6d-4988-878b-8c0fec6a9ac8",
   "metadata": {},
   "outputs": [],
   "source": [
    "# Convert the 'home_ownership' column to numeric"
   ]
  },
  {
   "cell_type": "code",
   "execution_count": null,
   "id": "9d8b5237-0e70-4df5-8f42-ba4c617b8ee9",
   "metadata": {
    "tags": []
   },
   "outputs": [],
   "source": [
    "df['home_ownership'].unique()"
   ]
  },
  {
   "cell_type": "code",
   "execution_count": null,
   "id": "32fdca79-8912-4925-a687-f398a3029648",
   "metadata": {
    "tags": []
   },
   "outputs": [],
   "source": [
    "mapping_home_ownership = {\n",
    "    'MORTGAGE': 1,\n",
    "    'OWN': 0.8,\n",
    "    'RENT': 0.6,\n",
    "    'ANY': 0.4,\n",
    "    'OTHER': 0.2,\n",
    "    'NONE': 0\n",
    "}\n",
    "\n",
    "df['home_ownership'] = df['home_ownership'].map(mapping_home_ownership)"
   ]
  },
  {
   "cell_type": "code",
   "execution_count": null,
   "id": "158ecd90-0db8-45ea-b4b5-a9a4c5852a65",
   "metadata": {},
   "outputs": [],
   "source": [
    "# Convert the 'verification_status' column to numeric"
   ]
  },
  {
   "cell_type": "code",
   "execution_count": null,
   "id": "7e9c3173-8dba-4b1c-bc16-42e44a11be6f",
   "metadata": {
    "tags": []
   },
   "outputs": [],
   "source": [
    "df['verification_status'].unique()"
   ]
  },
  {
   "cell_type": "code",
   "execution_count": null,
   "id": "626e56cb-8b0c-4c77-86d1-c677ef86246c",
   "metadata": {
    "tags": []
   },
   "outputs": [],
   "source": [
    "mapping_verification_status = {\n",
    "    'Verified': 1,\n",
    "    'Source Verified': 0.5,\n",
    "    'Not Verified': 0\n",
    "}\n",
    "\n",
    "df['verification_status'] = df['verification_status'].map(mapping_verification_status)"
   ]
  },
  {
   "cell_type": "code",
   "execution_count": null,
   "id": "63a1c60a-096b-4173-84b6-04b86ea9b5e4",
   "metadata": {},
   "outputs": [],
   "source": [
    "# Create a new column with start date of January 1, 2005\n",
    "# the new column would contain the difference in days\n",
    "# add the difference in days column to the current dataframe"
   ]
  },
  {
   "cell_type": "code",
   "execution_count": null,
   "id": "44aea6f6-522a-443e-8f62-3916ff99c07a",
   "metadata": {},
   "outputs": [],
   "source": [
    "df['issue_d'].unique()"
   ]
  },
  {
   "cell_type": "code",
   "execution_count": null,
   "id": "f677e082-a0b6-4829-b546-ded5b81bab57",
   "metadata": {
    "tags": []
   },
   "outputs": [],
   "source": [
    "#df['issue_d_diff'] = df['issue_d'].copy()"
   ]
  },
  {
   "cell_type": "code",
   "execution_count": null,
   "id": "7877503a-8223-4b7c-a2d8-c46716bc4e23",
   "metadata": {
    "tags": []
   },
   "outputs": [],
   "source": [
    "#df['issue_d_diff'] = df['issue_d_diff'].astype(\"string\")"
   ]
  },
  {
   "cell_type": "code",
   "execution_count": null,
   "id": "8c5d83c7-a897-4788-916b-c59cad2e0e63",
   "metadata": {},
   "outputs": [],
   "source": [
    "from datetime import datetime\n",
    "\n",
    "# Define a reference date (January 1, 2005)\n",
    "reference_date = datetime(2005, 1, 1)\n",
    "\n",
    "# Create a list to store the differences in days\n",
    "date_differences = []\n",
    "\n",
    "# Iterate through the date strings\n",
    "for date_string in df['issue_d']:\n",
    "    if isinstance(date_string, str):\n",
    "        # Convert the date string to a datetime object\n",
    "        date = datetime.strptime(date_string, '%b-%Y')\n",
    "\n",
    "        # Calculate the difference in days from the reference date\n",
    "        difference = (date - reference_date).days\n",
    "        date_differences.append(difference)\n",
    "    else:\n",
    "        date_differences.append(None)  # Handle NaN values\n",
    "\n",
    "# Create a DataFrame with the differences in days\n",
    "df_2 = pd.DataFrame({'Date': df['issue_d'], 'Difference (Days)': date_differences})\n",
    "\n",
    "# Print the DataFrame\n",
    "df_2"
   ]
  },
  {
   "cell_type": "code",
   "execution_count": null,
   "id": "a0766d14-05be-4e3e-81af-e511af118005",
   "metadata": {},
   "outputs": [],
   "source": [
    "df['issue_d'] = df_2['Difference (Days)']"
   ]
  },
  {
   "cell_type": "code",
   "execution_count": null,
   "id": "d07db183-e998-4229-b31f-36e914f9ef30",
   "metadata": {
    "tags": []
   },
   "outputs": [],
   "source": [
    "df['issue_d']"
   ]
  },
  {
   "cell_type": "code",
   "execution_count": null,
   "id": "222b5179-4cd7-44bd-ac01-230e4b4ddf1a",
   "metadata": {},
   "outputs": [],
   "source": [
    "# Convert the 'loan_status' column to numeric"
   ]
  },
  {
   "cell_type": "code",
   "execution_count": null,
   "id": "abc53663-9f63-4dd9-80dc-455f52700d29",
   "metadata": {
    "tags": []
   },
   "outputs": [],
   "source": [
    "df['loan_status'].unique()"
   ]
  },
  {
   "cell_type": "code",
   "execution_count": null,
   "id": "9fde1ff9-7108-4fbc-90fe-8002699a0c2b",
   "metadata": {
    "tags": []
   },
   "outputs": [],
   "source": [
    "mapping_loan_status = {\n",
    "    'Fully Paid': 1,\n",
    "    'Does not meet the credit policy. Status:Fully Paid': 1,\n",
    "    'Current': 0.75,\n",
    "    'Late (16-30 days)': 0.5,\n",
    "    'Late (31-120 days)': 0.25,\n",
    "    'In Grace Period': 0.25,\n",
    "    'Charged Off': 0,\n",
    "    'Default': 0,\n",
    "    'Does not meet the credit policy. Status:Charged Off': 0\n",
    "}\n",
    "\n",
    "df['loan_status'] = df['loan_status'].map(mapping_loan_status)"
   ]
  },
  {
   "cell_type": "code",
   "execution_count": null,
   "id": "9bb973fb-7874-4ef0-babb-712e1830e39b",
   "metadata": {},
   "outputs": [],
   "source": [
    "# Convert the 'pymnt_plan' column to numeric"
   ]
  },
  {
   "cell_type": "code",
   "execution_count": null,
   "id": "c60c6843-56ff-451c-88cd-1ae4fade65d3",
   "metadata": {},
   "outputs": [],
   "source": [
    "df['pymnt_plan'].unique()"
   ]
  },
  {
   "cell_type": "code",
   "execution_count": null,
   "id": "b20a27b1-5b2a-4f43-9225-b84bf824c068",
   "metadata": {
    "tags": []
   },
   "outputs": [],
   "source": [
    "mapping_pymnt_plan = {\n",
    "    'y': 1,\n",
    "    'n': 0\n",
    "}\n",
    "\n",
    "df['pymnt_plan'] = df['pymnt_plan'].map(mapping_pymnt_plan)"
   ]
  },
  {
   "cell_type": "code",
   "execution_count": null,
   "id": "ec8e56b4-12ea-4f66-ba92-bd97c824fc42",
   "metadata": {},
   "outputs": [],
   "source": [
    "# Convert the 'emp_title' column to numeric"
   ]
  },
  {
   "cell_type": "code",
   "execution_count": null,
   "id": "e829d519-5782-4c6b-aad9-9ce19c205871",
   "metadata": {},
   "outputs": [],
   "source": [
    "df['emp_title'].unique()"
   ]
  },
  {
   "cell_type": "code",
   "execution_count": null,
   "id": "671879a9-5699-492a-9fed-b99627f199e9",
   "metadata": {
    "tags": []
   },
   "outputs": [],
   "source": [
    "# drop df['title'].unique()"
   ]
  },
  {
   "cell_type": "code",
   "execution_count": null,
   "id": "66350b71-38b4-459a-80e0-e5087d42ea3f",
   "metadata": {
    "tags": []
   },
   "outputs": [],
   "source": [
    "# drop df['desc'].unique()"
   ]
  },
  {
   "cell_type": "code",
   "execution_count": null,
   "id": "a8d1b65b-e62c-4f17-a303-84b24da91dfd",
   "metadata": {},
   "outputs": [],
   "source": [
    "# drop df['url']"
   ]
  },
  {
   "cell_type": "code",
   "execution_count": null,
   "id": "a91c405d-f713-498f-93fe-45ca9c89be33",
   "metadata": {},
   "outputs": [],
   "source": [
    "# Convert the 'purpose' column to numeric"
   ]
  },
  {
   "cell_type": "code",
   "execution_count": null,
   "id": "788f8a6f-e638-4b65-a678-eb18c10b63d8",
   "metadata": {
    "tags": []
   },
   "outputs": [],
   "source": [
    "df['purpose'].unique()"
   ]
  },
  {
   "cell_type": "code",
   "execution_count": null,
   "id": "c6095f00-c5d9-449c-a2cc-10d7fa4040f6",
   "metadata": {
    "tags": []
   },
   "outputs": [],
   "source": [
    "mapping_purpose = {\n",
    "    'small_business': 1,\n",
    "    'educational': 0.9,\n",
    "    'major_purchase': 0.9,\n",
    "    'debt_consolidation': 0.8,\n",
    "    'house': 0.8,\n",
    "    'home_improvement': 0.6,\n",
    "    'car': 0.7,\n",
    "    'renewable_energy': 0.5,\n",
    "    'moving': 0.4,\n",
    "    'medical': 0.4,\n",
    "    'wedding': 0.3,\n",
    "    'credit_card': 0.2,\n",
    "    'vacation': 0.3,\n",
    "    'other': 0\n",
    "}\n",
    "\n",
    "df['purpose'] = df['purpose'].map(mapping_purpose)"
   ]
  },
  {
   "cell_type": "code",
   "execution_count": null,
   "id": "cdf21549-0862-418f-8d42-4096be7c723a",
   "metadata": {},
   "outputs": [],
   "source": []
  },
  {
   "cell_type": "code",
   "execution_count": null,
   "id": "c5e47250-07f1-4f43-ac5d-08b4f9af59ee",
   "metadata": {},
   "outputs": [],
   "source": [
    "# Create a new column with start date of January 1, 1900\n",
    "# the new column would contain the difference in days\n",
    "# add the difference in days column to the current dataframe"
   ]
  },
  {
   "cell_type": "code",
   "execution_count": null,
   "id": "4c1e762f-6bdb-47e1-b2bc-5ae145b97a7a",
   "metadata": {
    "tags": []
   },
   "outputs": [],
   "source": [
    "df['earliest_cr_line'].unique()"
   ]
  },
  {
   "cell_type": "code",
   "execution_count": null,
   "id": "280cfd38-5f94-4d10-b7a3-ac2d79abbe7f",
   "metadata": {
    "tags": []
   },
   "outputs": [],
   "source": [
    "from datetime import datetime\n",
    "\n",
    "# Define a reference date (January 1, 1900)\n",
    "reference_date = datetime(1900, 1, 1)\n",
    "\n",
    "# Create a list to store the differences in days\n",
    "date_differences = []\n",
    "\n",
    "# Iterate through the date strings\n",
    "for date_string in df['earliest_cr_line']:\n",
    "    if isinstance(date_string, str):\n",
    "        # Convert the date string to a datetime object\n",
    "        date = datetime.strptime(date_string, '%b-%Y')\n",
    "\n",
    "        # Calculate the difference in days from the reference date\n",
    "        difference = (date - reference_date).days\n",
    "        date_differences.append(difference)\n",
    "    else:\n",
    "        date_differences.append(None)  # Handle NaN values\n",
    "\n",
    "# Create a DataFrame with the differences in days\n",
    "df_2 = pd.DataFrame({'Date': df['earliest_cr_line'], 'Difference (Days)': date_differences})\n",
    "\n",
    "# Print the DataFrame\n",
    "df_2"
   ]
  },
  {
   "cell_type": "code",
   "execution_count": null,
   "id": "45264553-0ca8-47e1-9332-b90db656c883",
   "metadata": {
    "tags": []
   },
   "outputs": [],
   "source": [
    "df['earliest_cr_line'] = df_2['Difference (Days)']"
   ]
  },
  {
   "cell_type": "code",
   "execution_count": null,
   "id": "e41be4d2-9434-4453-b317-82647cd4df5a",
   "metadata": {},
   "outputs": [],
   "source": [
    "# initial_list_status - means the loan was initially listed as whole (w) or fractional (f) market\n",
    "# whole loans can be purchased by institutional investor, fractional loans requires multiple investors"
   ]
  },
  {
   "cell_type": "code",
   "execution_count": null,
   "id": "b85fcd58-df31-4c72-b5c5-cacee08a87e4",
   "metadata": {},
   "outputs": [],
   "source": [
    "# Convert the 'purpose' column to numeric"
   ]
  },
  {
   "cell_type": "code",
   "execution_count": null,
   "id": "fb2d3aaa-c9d2-4ad1-865a-2e3c0c3bd51b",
   "metadata": {
    "tags": []
   },
   "outputs": [],
   "source": [
    "df['initial_list_status'].unique()"
   ]
  },
  {
   "cell_type": "code",
   "execution_count": null,
   "id": "88c8fbac-6162-4ca5-a0bf-a9ad16dc35e2",
   "metadata": {
    "tags": []
   },
   "outputs": [],
   "source": [
    "mapping_initial_list_status = {\n",
    "    'w': 1,\n",
    "    'f': 0\n",
    "}\n",
    "\n",
    "df['initial_list_status'] = df['initial_list_status'].map(mapping_initial_list_status)"
   ]
  },
  {
   "cell_type": "code",
   "execution_count": null,
   "id": "f436a92c-f55c-4c41-bfa6-f7437c66f95f",
   "metadata": {},
   "outputs": [],
   "source": []
  },
  {
   "cell_type": "code",
   "execution_count": null,
   "id": "637a8111-e785-4c95-8d01-0005c8e42754",
   "metadata": {},
   "outputs": [],
   "source": []
  },
  {
   "cell_type": "code",
   "execution_count": null,
   "id": "33c9f659-4521-4b0a-b127-5cf116b7eba6",
   "metadata": {},
   "outputs": [],
   "source": []
  },
  {
   "cell_type": "code",
   "execution_count": null,
   "id": "8bfe33a4-1f0c-4050-8e37-89b70ce76a73",
   "metadata": {},
   "outputs": [],
   "source": []
  },
  {
   "cell_type": "code",
   "execution_count": null,
   "id": "4eae16de-2edc-4c6f-ae1e-e1ccfe70123b",
   "metadata": {
    "tags": []
   },
   "outputs": [],
   "source": [
    "df['zip_state'] = df['addr_state'].astype(str) + df['zip_code']\n",
    "df['zip_state']"
   ]
  },
  {
   "cell_type": "code",
   "execution_count": null,
   "id": "973d1b74-447d-498a-b90e-288644b48be6",
   "metadata": {},
   "outputs": [],
   "source": []
  },
  {
   "cell_type": "code",
   "execution_count": null,
   "id": "3255864e-5af9-40b8-9125-23130c6992e7",
   "metadata": {},
   "outputs": [],
   "source": [
    "def test(value):\n",
    "    if value >= a & value <= b:\n",
    "        return 0\n",
    "\n",
    "    return 1\n",
    "\n",
    "df['zip_state'] = df.apply(lambda row: test(row[col_name]),axis=1)"
   ]
  },
  {
   "cell_type": "code",
   "execution_count": null,
   "id": "ba2d8d58-50b2-40d8-b389-b0aa5c4a7f8d",
   "metadata": {
    "tags": []
   },
   "outputs": [],
   "source": [
    "df['addr_state'].unique()"
   ]
  },
  {
   "cell_type": "code",
   "execution_count": null,
   "id": "91b53aa7-17cd-4bd4-9a4a-76a63ef2ff43",
   "metadata": {},
   "outputs": [],
   "source": [
    "df['zip_code'].unique()"
   ]
  },
  {
   "cell_type": "code",
   "execution_count": null,
   "id": "48744b76-2469-4548-84e2-63445f8d1ef5",
   "metadata": {},
   "outputs": [],
   "source": []
  },
  {
   "cell_type": "code",
   "execution_count": null,
   "id": "66cb6c01-27aa-4fcd-a999-e29f69823246",
   "metadata": {},
   "outputs": [],
   "source": []
  },
  {
   "cell_type": "code",
   "execution_count": null,
   "id": "dd9b5ced-1cec-4dd1-8597-4874b4fd0f71",
   "metadata": {},
   "outputs": [],
   "source": []
  },
  {
   "cell_type": "code",
   "execution_count": null,
   "id": "9f180639-49be-4f59-8046-dfdaf1b3edd2",
   "metadata": {},
   "outputs": [],
   "source": []
  },
  {
   "cell_type": "code",
   "execution_count": null,
   "id": "fa214cd6-0a1e-48f5-8587-029f1fe75d0c",
   "metadata": {},
   "outputs": [],
   "source": []
  },
  {
   "cell_type": "code",
   "execution_count": null,
   "id": "c34f5d55-9dba-432a-90b5-8133913cd303",
   "metadata": {},
   "outputs": [],
   "source": []
  },
  {
   "cell_type": "code",
   "execution_count": null,
   "id": "06bfcf20-6e39-4b06-aaf9-9f8599f311b1",
   "metadata": {},
   "outputs": [],
   "source": []
  },
  {
   "cell_type": "code",
   "execution_count": null,
   "id": "294ace5a-7b55-4577-a30d-048526de3e0d",
   "metadata": {},
   "outputs": [],
   "source": []
  },
  {
   "cell_type": "code",
   "execution_count": null,
   "id": "a8d18662-4922-4a1d-a745-50b361eca85d",
   "metadata": {},
   "outputs": [],
   "source": []
  },
  {
   "cell_type": "code",
   "execution_count": null,
   "id": "b2da76b2-71d6-4601-a890-617e2ed40dba",
   "metadata": {},
   "outputs": [],
   "source": []
  },
  {
   "cell_type": "code",
   "execution_count": null,
   "id": "44f379d2-a81b-44a7-b6eb-5690a3c60bd4",
   "metadata": {},
   "outputs": [],
   "source": []
  },
  {
   "cell_type": "code",
   "execution_count": null,
   "id": "6157f8ba-023d-4f8e-b5e8-16d157b84d48",
   "metadata": {},
   "outputs": [],
   "source": []
  },
  {
   "cell_type": "code",
   "execution_count": null,
   "id": "6c59a72e-3917-49a9-ab82-83f8767e9f33",
   "metadata": {},
   "outputs": [],
   "source": []
  },
  {
   "cell_type": "code",
   "execution_count": null,
   "id": "b1fdac01-176b-4f6b-97a0-ce15f4f23bbc",
   "metadata": {},
   "outputs": [],
   "source": []
  },
  {
   "cell_type": "code",
   "execution_count": null,
   "id": "4b56373f-4792-4070-b45a-10ca093abbc0",
   "metadata": {},
   "outputs": [],
   "source": []
  },
  {
   "cell_type": "code",
   "execution_count": null,
   "id": "60c278ce-c942-426f-8554-f32c1bdcd164",
   "metadata": {},
   "outputs": [],
   "source": []
  },
  {
   "cell_type": "code",
   "execution_count": null,
   "id": "dd6b0e18-55ab-4093-81cd-0ce2073d303f",
   "metadata": {},
   "outputs": [],
   "source": []
  },
  {
   "cell_type": "code",
   "execution_count": null,
   "id": "8644e0ba-d7db-42e0-ba33-cef648b6c622",
   "metadata": {},
   "outputs": [],
   "source": []
  },
  {
   "cell_type": "code",
   "execution_count": null,
   "id": "dde1cfd1-0532-4b5a-9eb7-6581d46fb2e4",
   "metadata": {},
   "outputs": [],
   "source": []
  },
  {
   "cell_type": "code",
   "execution_count": null,
   "id": "3c02f512-0bd9-4234-b631-2458867339f4",
   "metadata": {},
   "outputs": [],
   "source": [
    "scaler = MinMaxScaler(feature_range=(0, 1))"
   ]
  },
  {
   "cell_type": "code",
   "execution_count": null,
   "id": "c08d2fcc-2600-46d1-ae29-bc3e3d4749bb",
   "metadata": {
    "tags": []
   },
   "outputs": [],
   "source": [
    "df_filled = df.fillna(-1)\n",
    "df_scaled = scaler.fit_transform(df_filled)"
   ]
  },
  {
   "cell_type": "code",
   "execution_count": null,
   "id": "aa5a990a-1c01-4a1d-86f6-176c21177b1c",
   "metadata": {},
   "outputs": [],
   "source": [
    "scaled_df = pd.DataFrame(df_scaled, columns=df.columns)"
   ]
  },
  {
   "cell_type": "code",
   "execution_count": null,
   "id": "cd576133-a691-4a0e-b899-3bd59e236390",
   "metadata": {},
   "outputs": [],
   "source": [
    "df.fillna('Null', inplace=True)"
   ]
  },
  {
   "cell_type": "code",
   "execution_count": null,
   "id": "01c16fe5-fe99-4f8a-b65e-a1f36450c43d",
   "metadata": {},
   "outputs": [],
   "source": [
    "# Preparing for X and y"
   ]
  },
  {
   "cell_type": "code",
   "execution_count": null,
   "id": "ea2ff6e3-13d2-4c21-8b65-dcea138e9913",
   "metadata": {
    "tags": []
   },
   "outputs": [],
   "source": [
    "y = df['loan_status']"
   ]
  },
  {
   "cell_type": "code",
   "execution_count": null,
   "id": "1a7dd942-0502-4c8c-9ef0-bff2120a908d",
   "metadata": {
    "tags": []
   },
   "outputs": [],
   "source": [
    "X = df.drop(df.loc[:, 'hardship_flag':'settlement_term'].columns, axis=1)"
   ]
  },
  {
   "cell_type": "code",
   "execution_count": null,
   "id": "f8dece6b",
   "metadata": {},
   "outputs": [],
   "source": []
  },
  {
   "cell_type": "code",
   "execution_count": null,
   "id": "6980ba67",
   "metadata": {},
   "outputs": [],
   "source": []
  },
  {
   "cell_type": "code",
   "execution_count": null,
   "id": "45da931c",
   "metadata": {},
   "outputs": [],
   "source": []
  },
  {
   "cell_type": "code",
   "execution_count": null,
   "id": "0fde5ce6-c9f6-4550-82d9-f90d1deffe3d",
   "metadata": {},
   "outputs": [],
   "source": [
    "from sklearn.model_selection import train_test_split"
   ]
  },
  {
   "cell_type": "code",
   "execution_count": null,
   "id": "e8245594-b7da-44f3-9d38-421ecde41802",
   "metadata": {
    "tags": []
   },
   "outputs": [],
   "source": [
    "X_train, X_test, y_train, y_test = train_test_split(X, y, random_state=0)"
   ]
  },
  {
   "cell_type": "code",
   "execution_count": null,
   "id": "01eccee3-2d9d-4a4c-afa8-d49b09b07c63",
   "metadata": {
    "tags": []
   },
   "outputs": [],
   "source": [
    "# Dropping NA in y will cause inconsistency in rows between y and X\n",
    "# y = y.dropna()"
   ]
  },
  {
   "cell_type": "code",
   "execution_count": null,
   "id": "905bd5a2-4a52-474b-a25a-c7f1d9263033",
   "metadata": {},
   "outputs": [],
   "source": [
    "# Dropping NA in X will remove all rows\n",
    "# X = X.dropna()"
   ]
  },
  {
   "cell_type": "code",
   "execution_count": null,
   "id": "6a95a9b4-ee99-48b5-a863-66e586363fb3",
   "metadata": {},
   "outputs": [],
   "source": []
  },
  {
   "cell_type": "code",
   "execution_count": null,
   "id": "a142ee35-d7ba-4691-a259-179bb6d82861",
   "metadata": {},
   "outputs": [],
   "source": []
  },
  {
   "cell_type": "code",
   "execution_count": null,
   "id": "8b8ad9af-f20a-4aee-a72d-8d0177d61597",
   "metadata": {
    "tags": []
   },
   "outputs": [],
   "source": [
    "# Create an Explainable Boosting Machine (EBM)\n",
    "from interpret.glassbox import ExplainableBoostingClassifier\n",
    "ebm = ExplainableBoostingClassifier()\n",
    "\n",
    "# Fit the EBM on the training data\n",
    "ebm.fit(X_train, y_train)"
   ]
  },
  {
   "cell_type": "code",
   "execution_count": null,
   "id": "bae56a3f-aa07-4237-9f2f-e25bd2f21e25",
   "metadata": {},
   "outputs": [],
   "source": []
  },
  {
   "cell_type": "code",
   "execution_count": null,
   "id": "c0c0eccb-0851-438a-beef-af7e96b04e62",
   "metadata": {},
   "outputs": [],
   "source": []
  },
  {
   "cell_type": "code",
   "execution_count": null,
   "id": "ac0f156b-7d53-4c35-b256-e5b4f81d5ba4",
   "metadata": {},
   "outputs": [],
   "source": []
  },
  {
   "cell_type": "code",
   "execution_count": null,
   "id": "9acbf28e-453d-4677-ba60-53358ac4128c",
   "metadata": {},
   "outputs": [],
   "source": []
  },
  {
   "cell_type": "code",
   "execution_count": null,
   "id": "219c65e0-e42f-4a88-84c7-98551e12e5c8",
   "metadata": {},
   "outputs": [],
   "source": []
  },
  {
   "cell_type": "code",
   "execution_count": null,
   "id": "a25f2c73-6c3d-4fee-abaa-d0aabb3cda69",
   "metadata": {},
   "outputs": [],
   "source": []
  },
  {
   "cell_type": "code",
   "execution_count": null,
   "id": "34385379-7fba-48dc-866a-5d3049413600",
   "metadata": {},
   "outputs": [],
   "source": []
  }
 ],
 "metadata": {
  "kernelspec": {
   "display_name": "Python 3 (ipykernel)",
   "language": "python",
   "name": "python3"
  },
  "language_info": {
   "codemirror_mode": {
    "name": "ipython",
    "version": 3
   },
   "file_extension": ".py",
   "mimetype": "text/x-python",
   "name": "python",
   "nbconvert_exporter": "python",
   "pygments_lexer": "ipython3",
   "version": "3.11.4"
  }
 },
 "nbformat": 4,
 "nbformat_minor": 5
}
