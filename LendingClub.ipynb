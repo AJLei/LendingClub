{
 "cells": [
  {
   "cell_type": "code",
   "execution_count": null,
   "id": "491d5808-2aa5-4a10-aeca-30bbe93bb769",
   "metadata": {
    "tags": []
   },
   "outputs": [],
   "source": [
    "pip install interpret"
   ]
  },
  {
   "cell_type": "code",
   "execution_count": null,
   "id": "b8b4d673-11c5-4f53-869e-d7f6a9642176",
   "metadata": {
    "tags": []
   },
   "outputs": [],
   "source": [
    "import pandas as pd\n",
    "import numpy as np"
   ]
  },
  {
   "cell_type": "code",
   "execution_count": null,
   "id": "c8ce3aa8-348e-48e5-b475-1fb0cc366c3a",
   "metadata": {
    "tags": []
   },
   "outputs": [],
   "source": [
    "from sklearn.model_selection import train_test_split"
   ]
  },
  {
   "cell_type": "code",
   "execution_count": null,
   "id": "642f551d-6863-4a58-a0f2-d69af456ad78",
   "metadata": {
    "tags": []
   },
   "outputs": [],
   "source": [
    "accepted = pd.read_csv('/Users/alexlei/Downloads/accepted_2007_to_2018Q4.csv', index_col=0, low_memory=False)"
   ]
  },
  {
   "cell_type": "code",
   "execution_count": null,
   "id": "92dd2775-94bf-44df-9407-7a0fb81b453c",
   "metadata": {
    "tags": []
   },
   "outputs": [],
   "source": [
    "pd.options.display.max_rows = 200"
   ]
  },
  {
   "cell_type": "code",
   "execution_count": null,
   "id": "16c3813a-06ca-4959-9ee6-b2e395a2e746",
   "metadata": {},
   "outputs": [],
   "source": [
    "accepted.columns.unique()"
   ]
  },
  {
   "cell_type": "code",
   "execution_count": null,
   "id": "dfccee55-773f-410b-96ec-b88899e1e929",
   "metadata": {
    "tags": []
   },
   "outputs": [],
   "source": [
    "accepted.dtypes"
   ]
  },
  {
   "cell_type": "code",
   "execution_count": null,
   "id": "1803413b-4da5-46af-af51-66e4bac17599",
   "metadata": {
    "tags": []
   },
   "outputs": [],
   "source": [
    "accepted = accepted.dropna()"
   ]
  },
  {
   "cell_type": "code",
   "execution_count": null,
   "id": "dba97831-b1d2-4d6b-860f-d42d5d3e68f8",
   "metadata": {
    "tags": []
   },
   "outputs": [],
   "source": [
    "X = accepted[['total_pymnt', 'annual_inc', 'fico_range_low', 'fico_range_high', 'total_acc', 'delinq_amnt', 'earliest_cr_line', 'emp_length', 'home_ownership', 'loan_amnt', 'term', 'pub_rec_bankruptcies', 'pub_rec', 'mort_acc']]"
   ]
  },
  {
   "cell_type": "code",
   "execution_count": null,
   "id": "680640af-1f80-4e4b-a333-19684fed7398",
   "metadata": {
    "tags": []
   },
   "outputs": [],
   "source": [
    "y = accepted['loan_status']"
   ]
  },
  {
   "cell_type": "code",
   "execution_count": null,
   "id": "9f724190-a080-4657-b702-16a244e88c5d",
   "metadata": {
    "tags": []
   },
   "outputs": [],
   "source": [
    "X_train, X_test, y_train, y_test = train_test_split(X, y)"
   ]
  },
  {
   "cell_type": "code",
   "execution_count": null,
   "id": "84fdcfb0-5dac-49a1-8662-b6d457445a94",
   "metadata": {
    "tags": []
   },
   "outputs": [],
   "source": [
    "from interpret.glassbox import ExplainableBoostingClassifier\n",
    "ebm = ExplainableBoostingClassifier()\n",
    "ebm.fit(X_train, y_train)"
   ]
  },
  {
   "cell_type": "code",
   "execution_count": null,
   "id": "bb79beef-0736-439f-b6f4-dd303950bbcd",
   "metadata": {
    "tags": []
   },
   "outputs": [],
   "source": [
    "from interpret import set_visualize_provider\n",
    "from interpret.provider import InlineProvider\n",
    "set_visualize_provider(InlineProvider())"
   ]
  },
  {
   "cell_type": "code",
   "execution_count": null,
   "id": "0c48f860-ae15-4c82-b4ea-ae345442cf44",
   "metadata": {
    "tags": []
   },
   "outputs": [],
   "source": [
    "from interpret import show\n",
    "show(ebm.explain_global())"
   ]
  },
  {
   "cell_type": "code",
   "execution_count": null,
   "id": "56108b32-a1f3-4758-9e8e-17d6db18140c",
   "metadata": {},
   "outputs": [],
   "source": [
    "# Focus on Loan_Status column as the goal is to predict loan status"
   ]
  },
  {
   "cell_type": "code",
   "execution_count": null,
   "id": "0caae9fa-3331-4ac2-bba5-e9d9ba1a25bf",
   "metadata": {
    "tags": []
   },
   "outputs": [],
   "source": [
    "accepted['loan_status'].unique()"
   ]
  },
  {
   "cell_type": "code",
   "execution_count": null,
   "id": "0949210e-edad-4d5e-b078-8bdb86ed46b4",
   "metadata": {},
   "outputs": [],
   "source": [
    "# 33 Null valuses in the column"
   ]
  },
  {
   "cell_type": "code",
   "execution_count": null,
   "id": "1272f72a-a88a-4781-898d-03a58165d632",
   "metadata": {
    "tags": []
   },
   "outputs": [],
   "source": [
    "accepted['loan_status'].value_counts(dropna=False)"
   ]
  },
  {
   "cell_type": "code",
   "execution_count": null,
   "id": "d1ece670-ee83-42d1-a0c9-818d4ea263e0",
   "metadata": {},
   "outputs": [],
   "source": [
    "# Replace all values to 2 categories - 'Paid', 'Late', or 'Default'"
   ]
  },
  {
   "cell_type": "code",
   "execution_count": null,
   "id": "f453b96b-e514-4639-8b13-f831361a15bf",
   "metadata": {
    "tags": []
   },
   "outputs": [],
   "source": [
    "replace_status = {\"Fully Paid\":\"Paid\",\n",
    "                  \"Current\": \"Paid\",\n",
    "                  \"Charged Off\": \"Default\",\n",
    "                  \"Late (31-120 days)\":\"Default\",\n",
    "                  \"Late (16-30 days)\":\"Default\",\n",
    "                  \"Does not meet the credit policy. Status:Charged Off\":\"Default\",\n",
    "                  \"Does not meet the credit policy. Status:Fully Paid\":\"Paid\",\n",
    "                  \"In Grace Period\":\"Default\",\n",
    "                  \"Default\":\"Default\"\n",
    "                 }"
   ]
  },
  {
   "cell_type": "code",
   "execution_count": null,
   "id": "c081e9ae-1739-447f-bf3c-9e3bf81dbbaf",
   "metadata": {
    "tags": []
   },
   "outputs": [],
   "source": [
    "accepted['loan_status'] = accepted['loan_status'].replace(replace_status)"
   ]
  },
  {
   "cell_type": "code",
   "execution_count": null,
   "id": "32322240-2702-4cc0-804c-8907ee486907",
   "metadata": {
    "tags": []
   },
   "outputs": [],
   "source": [
    "accepted['loan_status'].value_counts(dropna=True)"
   ]
  },
  {
   "cell_type": "code",
   "execution_count": null,
   "id": "b44d6662-38ec-42b5-a131-37271b88a404",
   "metadata": {},
   "outputs": [],
   "source": [
    "# Add a list of features"
   ]
  },
  {
   "cell_type": "code",
   "execution_count": null,
   "id": "4a1eaeb9-235e-4120-a3d4-3af86d911340",
   "metadata": {
    "tags": []
   },
   "outputs": [],
   "source": [
    "features = accepted[['total_pymnt', 'annual_inc', 'fico_range_low', 'fico_range_high', 'total_acc', 'delinq_amnt', 'earliest_cr_line', 'emp_length', 'home_ownership', 'loan_amnt', 'term', 'pub_rec_bankruptcies', 'pub_rec', 'mort_acc']]"
   ]
  },
  {
   "cell_type": "code",
   "execution_count": null,
   "id": "09b1536a-cefa-4e68-9278-0c5a5d7cd149",
   "metadata": {
    "tags": []
   },
   "outputs": [],
   "source": [
    "status = accepted['loan_status']"
   ]
  },
  {
   "cell_type": "code",
   "execution_count": null,
   "id": "9338431f-a9b0-474a-b8a0-6dad474332d2",
   "metadata": {},
   "outputs": [],
   "source": [
    "# Perform train, test, split"
   ]
  },
  {
   "cell_type": "code",
   "execution_count": null,
   "id": "1de3fb95-fc1b-402f-8de6-bf85464031f3",
   "metadata": {
    "tags": []
   },
   "outputs": [],
   "source": [
    "from sklearn.model_selection import train_test_split"
   ]
  },
  {
   "cell_type": "code",
   "execution_count": null,
   "id": "9848a1b4-9d24-43da-ae2d-6a1141025dab",
   "metadata": {
    "tags": []
   },
   "outputs": [],
   "source": [
    "X_train, X_test, y_train, y_test = train_test_split(features, status)"
   ]
  },
  {
   "cell_type": "code",
   "execution_count": null,
   "id": "3f8c662c-dd95-434b-bd40-59f75a6e520e",
   "metadata": {
    "tags": []
   },
   "outputs": [],
   "source": [
    "from sklearn.linear_model import LogisticRegression"
   ]
  },
  {
   "cell_type": "code",
   "execution_count": null,
   "id": "1f521298-1fa6-47c1-981f-57dcbce7bb66",
   "metadata": {
    "tags": []
   },
   "outputs": [],
   "source": [
    "# Creating an instance of Logistic Regression with sag solver\n",
    "model = LogisticRegression(solver='sag', max_iter=1000)"
   ]
  },
  {
   "cell_type": "code",
   "execution_count": null,
   "id": "506b63ef-fce8-4399-9165-90b2a27eef47",
   "metadata": {
    "tags": []
   },
   "outputs": [],
   "source": [
    "# Fitting the model to the training data\n",
    "model.fit(X_train, y_train)"
   ]
  },
  {
   "cell_type": "code",
   "execution_count": null,
   "id": "09eedb3a-93e6-49d3-9a28-6a932cbb959a",
   "metadata": {},
   "outputs": [],
   "source": [
    "\n",
    "\n",
    "\n",
    "\n",
    "# Fitting the model to the training data\n",
    "model.fit(X_train, y_train)\n",
    "\n",
    "# Predicting labels for the test set\n",
    "y_pred = model.predict(X_test)\n",
    "\n",
    "# Evaluating the model performance\n",
    "accuracy = model.score(X_test, y_test)\n",
    "print(\"Accuracy:\", accuracy)"
   ]
  }
 ],
 "metadata": {
  "kernelspec": {
   "display_name": "Python 3 (ipykernel)",
   "language": "python",
   "name": "python3"
  },
  "language_info": {
   "codemirror_mode": {
    "name": "ipython",
    "version": 3
   },
   "file_extension": ".py",
   "mimetype": "text/x-python",
   "name": "python",
   "nbconvert_exporter": "python",
   "pygments_lexer": "ipython3",
   "version": "3.11.4"
  }
 },
 "nbformat": 4,
 "nbformat_minor": 5
}
