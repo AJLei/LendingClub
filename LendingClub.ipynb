{
 "cells": [
  {
   "cell_type": "code",
   "execution_count": null,
   "id": "7a3ce8e8-fdd8-4f69-87ec-a298eb8ff3d0",
   "metadata": {},
   "outputs": [],
   "source": [
    "# Importing libraries - pip install interpret if needed"
   ]
  },
  {
   "cell_type": "code",
   "execution_count": 1,
   "id": "491d5808-2aa5-4a10-aeca-30bbe93bb769",
   "metadata": {
    "tags": []
   },
   "outputs": [],
   "source": [
    "import interpret"
   ]
  },
  {
   "cell_type": "code",
   "execution_count": 2,
   "id": "b8b4d673-11c5-4f53-869e-d7f6a9642176",
   "metadata": {
    "tags": []
   },
   "outputs": [],
   "source": [
    "import pandas as pd\n",
    "import numpy as np"
   ]
  },
  {
   "cell_type": "code",
   "execution_count": 3,
   "id": "c8ce3aa8-348e-48e5-b475-1fb0cc366c3a",
   "metadata": {
    "tags": []
   },
   "outputs": [],
   "source": [
    "from sklearn.model_selection import train_test_split"
   ]
  },
  {
   "cell_type": "code",
   "execution_count": null,
   "id": "4aa42cac-860b-4a2f-b5fd-d0c71ac98bc9",
   "metadata": {},
   "outputs": [],
   "source": [
    "# Prepare dataset"
   ]
  },
  {
   "cell_type": "code",
   "execution_count": 4,
   "id": "642f551d-6863-4a58-a0f2-d69af456ad78",
   "metadata": {
    "tags": []
   },
   "outputs": [],
   "source": [
    "accepted = pd.read_csv('/Users/alexlei/Downloads/accepted_2007_to_2018Q4.csv', index_col=0, low_memory=False)"
   ]
  },
  {
   "cell_type": "code",
   "execution_count": 5,
   "id": "92dd2775-94bf-44df-9407-7a0fb81b453c",
   "metadata": {
    "tags": []
   },
   "outputs": [],
   "source": [
    "pd.options.display.max_rows = 200"
   ]
  },
  {
   "cell_type": "code",
   "execution_count": null,
   "id": "16c3813a-06ca-4959-9ee6-b2e395a2e746",
   "metadata": {},
   "outputs": [],
   "source": [
    "#accepted.columns.unique()"
   ]
  },
  {
   "cell_type": "code",
   "execution_count": 6,
   "id": "dfccee55-773f-410b-96ec-b88899e1e929",
   "metadata": {
    "tags": []
   },
   "outputs": [
    {
     "data": {
      "text/plain": [
       "member_id                                     float64\n",
       "loan_amnt                                     float64\n",
       "funded_amnt                                   float64\n",
       "funded_amnt_inv                               float64\n",
       "term                                           object\n",
       "int_rate                                      float64\n",
       "installment                                   float64\n",
       "grade                                          object\n",
       "sub_grade                                      object\n",
       "emp_title                                      object\n",
       "emp_length                                     object\n",
       "home_ownership                                 object\n",
       "annual_inc                                    float64\n",
       "verification_status                            object\n",
       "issue_d                                        object\n",
       "loan_status                                    object\n",
       "pymnt_plan                                     object\n",
       "url                                            object\n",
       "desc                                           object\n",
       "purpose                                        object\n",
       "title                                          object\n",
       "zip_code                                       object\n",
       "addr_state                                     object\n",
       "dti                                           float64\n",
       "delinq_2yrs                                   float64\n",
       "earliest_cr_line                               object\n",
       "fico_range_low                                float64\n",
       "fico_range_high                               float64\n",
       "inq_last_6mths                                float64\n",
       "mths_since_last_delinq                        float64\n",
       "mths_since_last_record                        float64\n",
       "open_acc                                      float64\n",
       "pub_rec                                       float64\n",
       "revol_bal                                     float64\n",
       "revol_util                                    float64\n",
       "total_acc                                     float64\n",
       "initial_list_status                            object\n",
       "out_prncp                                     float64\n",
       "out_prncp_inv                                 float64\n",
       "total_pymnt                                   float64\n",
       "total_pymnt_inv                               float64\n",
       "total_rec_prncp                               float64\n",
       "total_rec_int                                 float64\n",
       "total_rec_late_fee                            float64\n",
       "recoveries                                    float64\n",
       "collection_recovery_fee                       float64\n",
       "last_pymnt_d                                   object\n",
       "last_pymnt_amnt                               float64\n",
       "next_pymnt_d                                   object\n",
       "last_credit_pull_d                             object\n",
       "last_fico_range_high                          float64\n",
       "last_fico_range_low                           float64\n",
       "collections_12_mths_ex_med                    float64\n",
       "mths_since_last_major_derog                   float64\n",
       "policy_code                                   float64\n",
       "application_type                               object\n",
       "annual_inc_joint                              float64\n",
       "dti_joint                                     float64\n",
       "verification_status_joint                      object\n",
       "acc_now_delinq                                float64\n",
       "tot_coll_amt                                  float64\n",
       "tot_cur_bal                                   float64\n",
       "open_acc_6m                                   float64\n",
       "open_act_il                                   float64\n",
       "open_il_12m                                   float64\n",
       "open_il_24m                                   float64\n",
       "mths_since_rcnt_il                            float64\n",
       "total_bal_il                                  float64\n",
       "il_util                                       float64\n",
       "open_rv_12m                                   float64\n",
       "open_rv_24m                                   float64\n",
       "max_bal_bc                                    float64\n",
       "all_util                                      float64\n",
       "total_rev_hi_lim                              float64\n",
       "inq_fi                                        float64\n",
       "total_cu_tl                                   float64\n",
       "inq_last_12m                                  float64\n",
       "acc_open_past_24mths                          float64\n",
       "avg_cur_bal                                   float64\n",
       "bc_open_to_buy                                float64\n",
       "bc_util                                       float64\n",
       "chargeoff_within_12_mths                      float64\n",
       "delinq_amnt                                   float64\n",
       "mo_sin_old_il_acct                            float64\n",
       "mo_sin_old_rev_tl_op                          float64\n",
       "mo_sin_rcnt_rev_tl_op                         float64\n",
       "mo_sin_rcnt_tl                                float64\n",
       "mort_acc                                      float64\n",
       "mths_since_recent_bc                          float64\n",
       "mths_since_recent_bc_dlq                      float64\n",
       "mths_since_recent_inq                         float64\n",
       "mths_since_recent_revol_delinq                float64\n",
       "num_accts_ever_120_pd                         float64\n",
       "num_actv_bc_tl                                float64\n",
       "num_actv_rev_tl                               float64\n",
       "num_bc_sats                                   float64\n",
       "num_bc_tl                                     float64\n",
       "num_il_tl                                     float64\n",
       "num_op_rev_tl                                 float64\n",
       "num_rev_accts                                 float64\n",
       "num_rev_tl_bal_gt_0                           float64\n",
       "num_sats                                      float64\n",
       "num_tl_120dpd_2m                              float64\n",
       "num_tl_30dpd                                  float64\n",
       "num_tl_90g_dpd_24m                            float64\n",
       "num_tl_op_past_12m                            float64\n",
       "pct_tl_nvr_dlq                                float64\n",
       "percent_bc_gt_75                              float64\n",
       "pub_rec_bankruptcies                          float64\n",
       "tax_liens                                     float64\n",
       "tot_hi_cred_lim                               float64\n",
       "total_bal_ex_mort                             float64\n",
       "total_bc_limit                                float64\n",
       "total_il_high_credit_limit                    float64\n",
       "revol_bal_joint                               float64\n",
       "sec_app_fico_range_low                        float64\n",
       "sec_app_fico_range_high                       float64\n",
       "sec_app_earliest_cr_line                       object\n",
       "sec_app_inq_last_6mths                        float64\n",
       "sec_app_mort_acc                              float64\n",
       "sec_app_open_acc                              float64\n",
       "sec_app_revol_util                            float64\n",
       "sec_app_open_act_il                           float64\n",
       "sec_app_num_rev_accts                         float64\n",
       "sec_app_chargeoff_within_12_mths              float64\n",
       "sec_app_collections_12_mths_ex_med            float64\n",
       "sec_app_mths_since_last_major_derog           float64\n",
       "hardship_flag                                  object\n",
       "hardship_type                                  object\n",
       "hardship_reason                                object\n",
       "hardship_status                                object\n",
       "deferral_term                                 float64\n",
       "hardship_amount                               float64\n",
       "hardship_start_date                            object\n",
       "hardship_end_date                              object\n",
       "payment_plan_start_date                        object\n",
       "hardship_length                               float64\n",
       "hardship_dpd                                  float64\n",
       "hardship_loan_status                           object\n",
       "orig_projected_additional_accrued_interest    float64\n",
       "hardship_payoff_balance_amount                float64\n",
       "hardship_last_payment_amount                  float64\n",
       "disbursement_method                            object\n",
       "debt_settlement_flag                           object\n",
       "debt_settlement_flag_date                      object\n",
       "settlement_status                              object\n",
       "settlement_date                                object\n",
       "settlement_amount                             float64\n",
       "settlement_percentage                         float64\n",
       "settlement_term                               float64\n",
       "dtype: object"
      ]
     },
     "execution_count": 6,
     "metadata": {},
     "output_type": "execute_result"
    }
   ],
   "source": [
    "accepted.dtypes"
   ]
  },
  {
   "cell_type": "code",
   "execution_count": null,
   "id": "1803413b-4da5-46af-af51-66e4bac17599",
   "metadata": {
    "tags": []
   },
   "outputs": [],
   "source": [
    "#accepted = accepted.dropna()"
   ]
  },
  {
   "cell_type": "code",
   "execution_count": 12,
   "id": "2d9b216d-568e-4946-92b2-bfaec39ad974",
   "metadata": {
    "tags": []
   },
   "outputs": [
    {
     "data": {
      "text/plain": [
       "Index(['member_id', 'loan_amnt', 'funded_amnt', 'funded_amnt_inv', 'term',\n",
       "       'int_rate', 'installment', 'grade', 'sub_grade', 'emp_title',\n",
       "       ...\n",
       "       'hardship_payoff_balance_amount', 'hardship_last_payment_amount',\n",
       "       'disbursement_method', 'debt_settlement_flag',\n",
       "       'debt_settlement_flag_date', 'settlement_status', 'settlement_date',\n",
       "       'settlement_amount', 'settlement_percentage', 'settlement_term'],\n",
       "      dtype='object', length=150)"
      ]
     },
     "execution_count": 12,
     "metadata": {},
     "output_type": "execute_result"
    }
   ],
   "source": [
    "accepted.columns"
   ]
  },
  {
   "cell_type": "code",
   "execution_count": null,
   "id": "740d8c82-9f91-4c30-a8e3-85b84c29b48f",
   "metadata": {},
   "outputs": [],
   "source": [
    "# Perform train, test, split"
   ]
  },
  {
   "cell_type": "code",
   "execution_count": 14,
   "id": "dba97831-b1d2-4d6b-860f-d42d5d3e68f8",
   "metadata": {
    "tags": []
   },
   "outputs": [],
   "source": [
    "X = accepted.iloc[:, :-1]"
   ]
  },
  {
   "cell_type": "code",
   "execution_count": 16,
   "id": "680640af-1f80-4e4b-a333-19684fed7398",
   "metadata": {
    "tags": []
   },
   "outputs": [],
   "source": [
    "y = (accepted.iloc[:, -1] == \" >50K\").astype(int)"
   ]
  },
  {
   "cell_type": "code",
   "execution_count": 17,
   "id": "2c5056a9-26d8-4ab5-b0fd-33d0606a58a9",
   "metadata": {
    "tags": []
   },
   "outputs": [],
   "source": [
    "seed = 42\n",
    "np.random.seed(seed)"
   ]
  },
  {
   "cell_type": "code",
   "execution_count": 18,
   "id": "9f724190-a080-4657-b702-16a244e88c5d",
   "metadata": {
    "tags": []
   },
   "outputs": [],
   "source": [
    "X_train, X_test, y_train, y_test = train_test_split(X, y, test_size=0.20, random_state=seed)"
   ]
  },
  {
   "cell_type": "code",
   "execution_count": null,
   "id": "ace9b824-5680-42db-bf48-3f0b8edacbd7",
   "metadata": {},
   "outputs": [],
   "source": [
    "# Train a Glassbox Model"
   ]
  },
  {
   "cell_type": "code",
   "execution_count": 19,
   "id": "84fdcfb0-5dac-49a1-8662-b6d457445a94",
   "metadata": {
    "tags": []
   },
   "outputs": [
    {
     "name": "stderr",
     "output_type": "stream",
     "text": [
      "/Users/alexlei/anaconda3/lib/python3.11/site-packages/interpret/utils/_preprocessor.py:314: RuntimeWarning: All-NaN slice encountered\n",
      "  min_feature_val = np.nanmin(X_col)\n",
      "/Users/alexlei/anaconda3/lib/python3.11/site-packages/interpret/utils/_preprocessor.py:315: RuntimeWarning: All-NaN slice encountered\n",
      "  max_feature_val = np.nanmax(X_col)\n",
      "/Users/alexlei/anaconda3/lib/python3.11/site-packages/interpret/glassbox/_ebm/_ebm.py:669: UserWarning: Missing values detected. Our visualizations do not currently display missing values. To retain the glassbox nature of the model you need to either set the missing values to an extreme value like -1000 that will be visible on the graphs, or manually examine the missing value score in ebm.term_scores_[term_index][0]\n",
      "  warn(\n",
      "/Users/alexlei/anaconda3/lib/python3.11/site-packages/interpret/glassbox/_ebm/_ebm.py:810: UserWarning: Only 1 class detected for classification. The model will predict 1.0 whenever predict_proba is called.\n",
      "  warn(\n"
     ]
    },
    {
     "data": {
      "text/html": [
       "<style>#sk-container-id-1 {color: black;}#sk-container-id-1 pre{padding: 0;}#sk-container-id-1 div.sk-toggleable {background-color: white;}#sk-container-id-1 label.sk-toggleable__label {cursor: pointer;display: block;width: 100%;margin-bottom: 0;padding: 0.3em;box-sizing: border-box;text-align: center;}#sk-container-id-1 label.sk-toggleable__label-arrow:before {content: \"▸\";float: left;margin-right: 0.25em;color: #696969;}#sk-container-id-1 label.sk-toggleable__label-arrow:hover:before {color: black;}#sk-container-id-1 div.sk-estimator:hover label.sk-toggleable__label-arrow:before {color: black;}#sk-container-id-1 div.sk-toggleable__content {max-height: 0;max-width: 0;overflow: hidden;text-align: left;background-color: #f0f8ff;}#sk-container-id-1 div.sk-toggleable__content pre {margin: 0.2em;color: black;border-radius: 0.25em;background-color: #f0f8ff;}#sk-container-id-1 input.sk-toggleable__control:checked~div.sk-toggleable__content {max-height: 200px;max-width: 100%;overflow: auto;}#sk-container-id-1 input.sk-toggleable__control:checked~label.sk-toggleable__label-arrow:before {content: \"▾\";}#sk-container-id-1 div.sk-estimator input.sk-toggleable__control:checked~label.sk-toggleable__label {background-color: #d4ebff;}#sk-container-id-1 div.sk-label input.sk-toggleable__control:checked~label.sk-toggleable__label {background-color: #d4ebff;}#sk-container-id-1 input.sk-hidden--visually {border: 0;clip: rect(1px 1px 1px 1px);clip: rect(1px, 1px, 1px, 1px);height: 1px;margin: -1px;overflow: hidden;padding: 0;position: absolute;width: 1px;}#sk-container-id-1 div.sk-estimator {font-family: monospace;background-color: #f0f8ff;border: 1px dotted black;border-radius: 0.25em;box-sizing: border-box;margin-bottom: 0.5em;}#sk-container-id-1 div.sk-estimator:hover {background-color: #d4ebff;}#sk-container-id-1 div.sk-parallel-item::after {content: \"\";width: 100%;border-bottom: 1px solid gray;flex-grow: 1;}#sk-container-id-1 div.sk-label:hover label.sk-toggleable__label {background-color: #d4ebff;}#sk-container-id-1 div.sk-serial::before {content: \"\";position: absolute;border-left: 1px solid gray;box-sizing: border-box;top: 0;bottom: 0;left: 50%;z-index: 0;}#sk-container-id-1 div.sk-serial {display: flex;flex-direction: column;align-items: center;background-color: white;padding-right: 0.2em;padding-left: 0.2em;position: relative;}#sk-container-id-1 div.sk-item {position: relative;z-index: 1;}#sk-container-id-1 div.sk-parallel {display: flex;align-items: stretch;justify-content: center;background-color: white;position: relative;}#sk-container-id-1 div.sk-item::before, #sk-container-id-1 div.sk-parallel-item::before {content: \"\";position: absolute;border-left: 1px solid gray;box-sizing: border-box;top: 0;bottom: 0;left: 50%;z-index: -1;}#sk-container-id-1 div.sk-parallel-item {display: flex;flex-direction: column;z-index: 1;position: relative;background-color: white;}#sk-container-id-1 div.sk-parallel-item:first-child::after {align-self: flex-end;width: 50%;}#sk-container-id-1 div.sk-parallel-item:last-child::after {align-self: flex-start;width: 50%;}#sk-container-id-1 div.sk-parallel-item:only-child::after {width: 0;}#sk-container-id-1 div.sk-dashed-wrapped {border: 1px dashed gray;margin: 0 0.4em 0.5em 0.4em;box-sizing: border-box;padding-bottom: 0.4em;background-color: white;}#sk-container-id-1 div.sk-label label {font-family: monospace;font-weight: bold;display: inline-block;line-height: 1.2em;}#sk-container-id-1 div.sk-label-container {text-align: center;}#sk-container-id-1 div.sk-container {/* jupyter's `normalize.less` sets `[hidden] { display: none; }` but bootstrap.min.css set `[hidden] { display: none !important; }` so we also need the `!important` here to be able to override the default hidden behavior on the sphinx rendered scikit-learn.org. See: https://github.com/scikit-learn/scikit-learn/issues/21755 */display: inline-block !important;position: relative;}#sk-container-id-1 div.sk-text-repr-fallback {display: none;}</style><div id=\"sk-container-id-1\" class=\"sk-top-container\"><div class=\"sk-text-repr-fallback\"><pre>ExplainableBoostingClassifier()</pre><b>In a Jupyter environment, please rerun this cell to show the HTML representation or trust the notebook. <br />On GitHub, the HTML representation is unable to render, please try loading this page with nbviewer.org.</b></div><div class=\"sk-container\" hidden><div class=\"sk-item\"><div class=\"sk-estimator sk-toggleable\"><input class=\"sk-toggleable__control sk-hidden--visually\" id=\"sk-estimator-id-1\" type=\"checkbox\" checked><label for=\"sk-estimator-id-1\" class=\"sk-toggleable__label sk-toggleable__label-arrow\">ExplainableBoostingClassifier</label><div class=\"sk-toggleable__content\"><pre>ExplainableBoostingClassifier()</pre></div></div></div></div></div>"
      ],
      "text/plain": [
       "ExplainableBoostingClassifier()"
      ]
     },
     "execution_count": 19,
     "metadata": {},
     "output_type": "execute_result"
    }
   ],
   "source": [
    "from interpret.glassbox import ExplainableBoostingClassifier\n",
    "ebm = ExplainableBoostingClassifier()\n",
    "ebm.fit(X_train, y_train)"
   ]
  },
  {
   "cell_type": "code",
   "execution_count": null,
   "id": "101190c4-76f0-4907-a024-c7ecb7378127",
   "metadata": {},
   "outputs": [],
   "source": [
    "# Explain the Glassbox - identify what the model finds important"
   ]
  },
  {
   "cell_type": "code",
   "execution_count": 20,
   "id": "bb79beef-0736-439f-b6f4-dd303950bbcd",
   "metadata": {
    "tags": []
   },
   "outputs": [],
   "source": [
    "from interpret import set_visualize_provider\n",
    "from interpret.provider import InlineProvider\n",
    "set_visualize_provider(InlineProvider())"
   ]
  },
  {
   "cell_type": "code",
   "execution_count": 21,
   "id": "0c48f860-ae15-4c82-b4ea-ae345442cf44",
   "metadata": {
    "tags": []
   },
   "outputs": [
    {
     "ename": "KeyboardInterrupt",
     "evalue": "",
     "output_type": "error",
     "traceback": [
      "\u001b[0;31m---------------------------------------------------------------------------\u001b[0m",
      "\u001b[0;31mKeyboardInterrupt\u001b[0m                         Traceback (most recent call last)",
      "Cell \u001b[0;32mIn[21], line 2\u001b[0m\n\u001b[1;32m      1\u001b[0m \u001b[38;5;28;01mfrom\u001b[39;00m \u001b[38;5;21;01minterpret\u001b[39;00m \u001b[38;5;28;01mimport\u001b[39;00m show\n\u001b[0;32m----> 2\u001b[0m show(ebm\u001b[38;5;241m.\u001b[39mexplain_global())\n",
      "File \u001b[0;32m~/anaconda3/lib/python3.11/site-packages/interpret/visual/_interactive.py:169\u001b[0m, in \u001b[0;36mshow\u001b[0;34m(explanation, key, **kwargs)\u001b[0m\n\u001b[1;32m    166\u001b[0m         _current_module\u001b[38;5;241m.\u001b[39mvisualize_provider \u001b[38;5;241m=\u001b[39m AutoVisualizeProvider()\n\u001b[1;32m    168\u001b[0m     \u001b[38;5;66;03m# Render\u001b[39;00m\n\u001b[0;32m--> 169\u001b[0m     _current_module\u001b[38;5;241m.\u001b[39mvisualize_provider\u001b[38;5;241m.\u001b[39mrender(explanation, key\u001b[38;5;241m=\u001b[39mkey, \u001b[38;5;241m*\u001b[39m\u001b[38;5;241m*\u001b[39mkwargs)\n\u001b[1;32m    170\u001b[0m \u001b[38;5;28;01mexcept\u001b[39;00m \u001b[38;5;167;01mException\u001b[39;00m \u001b[38;5;28;01mas\u001b[39;00m e:  \u001b[38;5;66;03m# pragma: no cover\u001b[39;00m\n\u001b[1;32m    171\u001b[0m     _log\u001b[38;5;241m.\u001b[39merror(e, exc_info\u001b[38;5;241m=\u001b[39m\u001b[38;5;28;01mTrue\u001b[39;00m)\n",
      "File \u001b[0;32m~/anaconda3/lib/python3.11/site-packages/interpret/provider/_visualize.py:234\u001b[0m, in \u001b[0;36mInlineProvider.render\u001b[0;34m(self, explanation, key, **kwargs)\u001b[0m\n\u001b[1;32m    231\u001b[0m \u001b[38;5;28;01mdef\u001b[39;00m \u001b[38;5;21mrender\u001b[39m(\u001b[38;5;28mself\u001b[39m, explanation, key\u001b[38;5;241m=\u001b[39m\u001b[38;5;241m-\u001b[39m\u001b[38;5;241m1\u001b[39m, \u001b[38;5;241m*\u001b[39m\u001b[38;5;241m*\u001b[39mkwargs):\n\u001b[1;32m    232\u001b[0m     \u001b[38;5;28;01mfrom\u001b[39;00m \u001b[38;5;21;01m.\u001b[39;00m\u001b[38;5;21;01m.\u001b[39;00m\u001b[38;5;21;01mvisual\u001b[39;00m\u001b[38;5;21;01m.\u001b[39;00m\u001b[38;5;21;01m_inline\u001b[39;00m \u001b[38;5;28;01mimport\u001b[39;00m render\n\u001b[0;32m--> 234\u001b[0m     render(\n\u001b[1;32m    235\u001b[0m         explanation,\n\u001b[1;32m    236\u001b[0m         default_key\u001b[38;5;241m=\u001b[39mkey,\n\u001b[1;32m    237\u001b[0m         detected_envs\u001b[38;5;241m=\u001b[39m\u001b[38;5;28mself\u001b[39m\u001b[38;5;241m.\u001b[39mdetected_envs,\n\u001b[1;32m    238\u001b[0m         js_url\u001b[38;5;241m=\u001b[39m\u001b[38;5;28mself\u001b[39m\u001b[38;5;241m.\u001b[39mjs_url,\n\u001b[1;32m    239\u001b[0m     )\n",
      "File \u001b[0;32m~/anaconda3/lib/python3.11/site-packages/interpret/visual/_inline.py:232\u001b[0m, in \u001b[0;36mrender\u001b[0;34m(explanation, id_str, default_key, detected_envs, js_url)\u001b[0m\n\u001b[1;32m    230\u001b[0m     viz_obj \u001b[38;5;241m=\u001b[39m _build_viz_err_obj(msg)\n\u001b[1;32m    231\u001b[0m \u001b[38;5;28;01melse\u001b[39;00m:\n\u001b[0;32m--> 232\u001b[0m     viz_obj \u001b[38;5;241m=\u001b[39m _build_viz_obj(explanation, detected_envs)\n\u001b[1;32m    234\u001b[0m init_js, body_js \u001b[38;5;241m=\u001b[39m _build_javascript(\n\u001b[1;32m    235\u001b[0m     viz_obj, id_str, default_key\u001b[38;5;241m=\u001b[39mdefault_key, js_url\u001b[38;5;241m=\u001b[39mjs_url\n\u001b[1;32m    236\u001b[0m )\n\u001b[1;32m    238\u001b[0m \u001b[38;5;28;01mif\u001b[39;00m \u001b[38;5;124m\"\u001b[39m\u001b[38;5;124mdatabricks\u001b[39m\u001b[38;5;124m\"\u001b[39m \u001b[38;5;129;01min\u001b[39;00m detected_envs:\n",
      "File \u001b[0;32m~/anaconda3/lib/python3.11/site-packages/interpret/visual/_inline.py:115\u001b[0m, in \u001b[0;36m_build_viz_obj\u001b[0;34m(explanation, detected_envs)\u001b[0m\n\u001b[1;32m    113\u001b[0m     selector_obj \u001b[38;5;241m=\u001b[39m {\u001b[38;5;124m\"\u001b[39m\u001b[38;5;124mcolumns\u001b[39m\u001b[38;5;124m\"\u001b[39m: [], \u001b[38;5;124m\"\u001b[39m\u001b[38;5;124mdata\u001b[39m\u001b[38;5;124m\"\u001b[39m: []}\n\u001b[1;32m    114\u001b[0m \u001b[38;5;28;01melse\u001b[39;00m:\n\u001b[0;32m--> 115\u001b[0m     specific \u001b[38;5;241m=\u001b[39m [\n\u001b[1;32m    116\u001b[0m         _build_viz_figure(explanation\u001b[38;5;241m.\u001b[39mvisualize(i), detected_envs)\n\u001b[1;32m    117\u001b[0m         \u001b[38;5;28;01mfor\u001b[39;00m i \u001b[38;5;129;01min\u001b[39;00m \u001b[38;5;28mrange\u001b[39m(\u001b[38;5;28mlen\u001b[39m(explanation\u001b[38;5;241m.\u001b[39mselector))\n\u001b[1;32m    118\u001b[0m     ]\n\u001b[1;32m    119\u001b[0m     selector_obj \u001b[38;5;241m=\u001b[39m {\n\u001b[1;32m    120\u001b[0m         \u001b[38;5;124m\"\u001b[39m\u001b[38;5;124mcolumns\u001b[39m\u001b[38;5;124m\"\u001b[39m: \u001b[38;5;28mlist\u001b[39m(explanation\u001b[38;5;241m.\u001b[39mselector\u001b[38;5;241m.\u001b[39mcolumns),\n\u001b[1;32m    121\u001b[0m         \u001b[38;5;124m\"\u001b[39m\u001b[38;5;124mdata\u001b[39m\u001b[38;5;124m\"\u001b[39m: explanation\u001b[38;5;241m.\u001b[39mselector\u001b[38;5;241m.\u001b[39mto_dict(\u001b[38;5;124m\"\u001b[39m\u001b[38;5;124mrecords\u001b[39m\u001b[38;5;124m\"\u001b[39m),\n\u001b[1;32m    122\u001b[0m     }\n\u001b[1;32m    124\u001b[0m viz_obj \u001b[38;5;241m=\u001b[39m {\n\u001b[1;32m    125\u001b[0m     \u001b[38;5;124m\"\u001b[39m\u001b[38;5;124mname\u001b[39m\u001b[38;5;124m\"\u001b[39m: explanation\u001b[38;5;241m.\u001b[39mname,\n\u001b[1;32m    126\u001b[0m     \u001b[38;5;124m\"\u001b[39m\u001b[38;5;124moverall\u001b[39m\u001b[38;5;124m\"\u001b[39m: overall,\n\u001b[1;32m    127\u001b[0m     \u001b[38;5;124m\"\u001b[39m\u001b[38;5;124mspecific\u001b[39m\u001b[38;5;124m\"\u001b[39m: specific,\n\u001b[1;32m    128\u001b[0m     \u001b[38;5;124m\"\u001b[39m\u001b[38;5;124mselector\u001b[39m\u001b[38;5;124m\"\u001b[39m: selector_obj,\n\u001b[1;32m    129\u001b[0m }\n",
      "File \u001b[0;32m~/anaconda3/lib/python3.11/site-packages/interpret/visual/_inline.py:116\u001b[0m, in \u001b[0;36m<listcomp>\u001b[0;34m(.0)\u001b[0m\n\u001b[1;32m    113\u001b[0m     selector_obj \u001b[38;5;241m=\u001b[39m {\u001b[38;5;124m\"\u001b[39m\u001b[38;5;124mcolumns\u001b[39m\u001b[38;5;124m\"\u001b[39m: [], \u001b[38;5;124m\"\u001b[39m\u001b[38;5;124mdata\u001b[39m\u001b[38;5;124m\"\u001b[39m: []}\n\u001b[1;32m    114\u001b[0m \u001b[38;5;28;01melse\u001b[39;00m:\n\u001b[1;32m    115\u001b[0m     specific \u001b[38;5;241m=\u001b[39m [\n\u001b[0;32m--> 116\u001b[0m         _build_viz_figure(explanation\u001b[38;5;241m.\u001b[39mvisualize(i), detected_envs)\n\u001b[1;32m    117\u001b[0m         \u001b[38;5;28;01mfor\u001b[39;00m i \u001b[38;5;129;01min\u001b[39;00m \u001b[38;5;28mrange\u001b[39m(\u001b[38;5;28mlen\u001b[39m(explanation\u001b[38;5;241m.\u001b[39mselector))\n\u001b[1;32m    118\u001b[0m     ]\n\u001b[1;32m    119\u001b[0m     selector_obj \u001b[38;5;241m=\u001b[39m {\n\u001b[1;32m    120\u001b[0m         \u001b[38;5;124m\"\u001b[39m\u001b[38;5;124mcolumns\u001b[39m\u001b[38;5;124m\"\u001b[39m: \u001b[38;5;28mlist\u001b[39m(explanation\u001b[38;5;241m.\u001b[39mselector\u001b[38;5;241m.\u001b[39mcolumns),\n\u001b[1;32m    121\u001b[0m         \u001b[38;5;124m\"\u001b[39m\u001b[38;5;124mdata\u001b[39m\u001b[38;5;124m\"\u001b[39m: explanation\u001b[38;5;241m.\u001b[39mselector\u001b[38;5;241m.\u001b[39mto_dict(\u001b[38;5;124m\"\u001b[39m\u001b[38;5;124mrecords\u001b[39m\u001b[38;5;124m\"\u001b[39m),\n\u001b[1;32m    122\u001b[0m     }\n\u001b[1;32m    124\u001b[0m viz_obj \u001b[38;5;241m=\u001b[39m {\n\u001b[1;32m    125\u001b[0m     \u001b[38;5;124m\"\u001b[39m\u001b[38;5;124mname\u001b[39m\u001b[38;5;124m\"\u001b[39m: explanation\u001b[38;5;241m.\u001b[39mname,\n\u001b[1;32m    126\u001b[0m     \u001b[38;5;124m\"\u001b[39m\u001b[38;5;124moverall\u001b[39m\u001b[38;5;124m\"\u001b[39m: overall,\n\u001b[1;32m    127\u001b[0m     \u001b[38;5;124m\"\u001b[39m\u001b[38;5;124mspecific\u001b[39m\u001b[38;5;124m\"\u001b[39m: specific,\n\u001b[1;32m    128\u001b[0m     \u001b[38;5;124m\"\u001b[39m\u001b[38;5;124mselector\u001b[39m\u001b[38;5;124m\"\u001b[39m: selector_obj,\n\u001b[1;32m    129\u001b[0m }\n",
      "File \u001b[0;32m~/anaconda3/lib/python3.11/site-packages/interpret/glassbox/_ebm/_ebm.py:186\u001b[0m, in \u001b[0;36mEBMExplanation.visualize\u001b[0;34m(self, key)\u001b[0m\n\u001b[1;32m    178\u001b[0m         figure \u001b[38;5;241m=\u001b[39m plot_continuous_bar(\n\u001b[1;32m    179\u001b[0m             data_dict,\n\u001b[1;32m    180\u001b[0m             multiclass\u001b[38;5;241m=\u001b[39m\u001b[38;5;28;01mTrue\u001b[39;00m,\n\u001b[0;32m   (...)\u001b[0m\n\u001b[1;32m    183\u001b[0m             xtitle\u001b[38;5;241m=\u001b[39mxtitle,\n\u001b[1;32m    184\u001b[0m         )\n\u001b[1;32m    185\u001b[0m     \u001b[38;5;28;01melse\u001b[39;00m:\n\u001b[0;32m--> 186\u001b[0m         figure \u001b[38;5;241m=\u001b[39m plot_continuous_bar(data_dict, title\u001b[38;5;241m=\u001b[39mtitle, xtitle\u001b[38;5;241m=\u001b[39mxtitle)\n\u001b[1;32m    188\u001b[0m \u001b[38;5;28;01melif\u001b[39;00m (\n\u001b[1;32m    189\u001b[0m     \u001b[38;5;28mself\u001b[39m\u001b[38;5;241m.\u001b[39mfeature_types[key] \u001b[38;5;241m==\u001b[39m \u001b[38;5;124m\"\u001b[39m\u001b[38;5;124mnominal\u001b[39m\u001b[38;5;124m\"\u001b[39m\n\u001b[1;32m    190\u001b[0m     \u001b[38;5;129;01mor\u001b[39;00m \u001b[38;5;28mself\u001b[39m\u001b[38;5;241m.\u001b[39mfeature_types[key] \u001b[38;5;241m==\u001b[39m \u001b[38;5;124m\"\u001b[39m\u001b[38;5;124mordinal\u001b[39m\u001b[38;5;124m\"\u001b[39m\n\u001b[1;32m    191\u001b[0m     \u001b[38;5;129;01mor\u001b[39;00m \u001b[38;5;28mself\u001b[39m\u001b[38;5;241m.\u001b[39mfeature_types[key] \u001b[38;5;241m==\u001b[39m \u001b[38;5;124m\"\u001b[39m\u001b[38;5;124minteraction\u001b[39m\u001b[38;5;124m\"\u001b[39m\n\u001b[1;32m    192\u001b[0m ):\n\u001b[1;32m    193\u001b[0m     figure \u001b[38;5;241m=\u001b[39m \u001b[38;5;28msuper\u001b[39m()\u001b[38;5;241m.\u001b[39mvisualize(key, title)\n",
      "File \u001b[0;32m~/anaconda3/lib/python3.11/site-packages/interpret/visual/plot.py:191\u001b[0m, in \u001b[0;36mplot_continuous_bar\u001b[0;34m(data_dict, multiclass, show_error, title, xtitle, ytitle)\u001b[0m\n\u001b[1;32m    189\u001b[0m \u001b[38;5;66;03m# Add density\u001b[39;00m\n\u001b[1;32m    190\u001b[0m \u001b[38;5;28;01mif\u001b[39;00m data_dict\u001b[38;5;241m.\u001b[39mget(\u001b[38;5;124m\"\u001b[39m\u001b[38;5;124mdensity\u001b[39m\u001b[38;5;124m\"\u001b[39m, \u001b[38;5;28;01mNone\u001b[39;00m) \u001b[38;5;129;01mis\u001b[39;00m \u001b[38;5;129;01mnot\u001b[39;00m \u001b[38;5;28;01mNone\u001b[39;00m:\n\u001b[0;32m--> 191\u001b[0m     figure \u001b[38;5;241m=\u001b[39m _plot_with_density(\n\u001b[1;32m    192\u001b[0m         data_dict[\u001b[38;5;124m\"\u001b[39m\u001b[38;5;124mdensity\u001b[39m\u001b[38;5;124m\"\u001b[39m],\n\u001b[1;32m    193\u001b[0m         main_fig,\n\u001b[1;32m    194\u001b[0m         title\u001b[38;5;241m=\u001b[39mtitle,\n\u001b[1;32m    195\u001b[0m         xtitle\u001b[38;5;241m=\u001b[39mxtitle,\n\u001b[1;32m    196\u001b[0m         yrange\u001b[38;5;241m=\u001b[39myrange,\n\u001b[1;32m    197\u001b[0m         showlegend\u001b[38;5;241m=\u001b[39mshow_legend,\n\u001b[1;32m    198\u001b[0m     )\n\u001b[1;32m    199\u001b[0m \u001b[38;5;28;01melse\u001b[39;00m:\n\u001b[1;32m    200\u001b[0m     figure \u001b[38;5;241m=\u001b[39m main_fig\n",
      "File \u001b[0;32m~/anaconda3/lib/python3.11/site-packages/interpret/visual/plot.py:300\u001b[0m, in \u001b[0;36m_plot_with_density\u001b[0;34m(data_dict, main_fig, title, xtitle, ytitle, yrange, is_categorical, density_name, showlegend)\u001b[0m\n\u001b[1;32m    289\u001b[0m \u001b[38;5;28;01mdef\u001b[39;00m \u001b[38;5;21m_plot_with_density\u001b[39m(\n\u001b[1;32m    290\u001b[0m     data_dict,\n\u001b[1;32m    291\u001b[0m     main_fig,\n\u001b[0;32m   (...)\u001b[0m\n\u001b[1;32m    298\u001b[0m     showlegend\u001b[38;5;241m=\u001b[39m\u001b[38;5;28;01mFalse\u001b[39;00m,\n\u001b[1;32m    299\u001b[0m ):\n\u001b[0;32m--> 300\u001b[0m     bar_fig \u001b[38;5;241m=\u001b[39m plot_density(\n\u001b[1;32m    301\u001b[0m         data_dict,\n\u001b[1;32m    302\u001b[0m         xtitle\u001b[38;5;241m=\u001b[39mxtitle,\n\u001b[1;32m    303\u001b[0m         name\u001b[38;5;241m=\u001b[39mdensity_name,\n\u001b[1;32m    304\u001b[0m         is_categorical\u001b[38;5;241m=\u001b[39mis_categorical,\n\u001b[1;32m    305\u001b[0m         color\u001b[38;5;241m=\u001b[39mCOLORS[\u001b[38;5;241m1\u001b[39m],\n\u001b[1;32m    306\u001b[0m     )\n\u001b[1;32m    307\u001b[0m     figure \u001b[38;5;241m=\u001b[39m _two_plot(\n\u001b[1;32m    308\u001b[0m         main_fig,\n\u001b[1;32m    309\u001b[0m         bar_fig,\n\u001b[0;32m   (...)\u001b[0m\n\u001b[1;32m    313\u001b[0m         showlegend\u001b[38;5;241m=\u001b[39mshowlegend,\n\u001b[1;32m    314\u001b[0m     )\n\u001b[1;32m    315\u001b[0m     figure[\u001b[38;5;124m\"\u001b[39m\u001b[38;5;124mlayout\u001b[39m\u001b[38;5;124m\"\u001b[39m][\u001b[38;5;124m\"\u001b[39m\u001b[38;5;124myaxis1\u001b[39m\u001b[38;5;124m\"\u001b[39m]\u001b[38;5;241m.\u001b[39mupdate(title\u001b[38;5;241m=\u001b[39m\u001b[38;5;124m\"\u001b[39m\u001b[38;5;124mScore\u001b[39m\u001b[38;5;124m\"\u001b[39m)\n",
      "File \u001b[0;32m~/anaconda3/lib/python3.11/site-packages/interpret/visual/plot.py:253\u001b[0m, in \u001b[0;36mplot_density\u001b[0;34m(data_dict, title, xtitle, ytitle, is_categorical, name, color)\u001b[0m\n\u001b[1;32m    250\u001b[0m x_text \u001b[38;5;241m=\u001b[39m []\n\u001b[1;32m    251\u001b[0m \u001b[38;5;28;01mfor\u001b[39;00m indx \u001b[38;5;129;01min\u001b[39;00m \u001b[38;5;28mrange\u001b[39m(\u001b[38;5;28mlen\u001b[39m(edges) \u001b[38;5;241m-\u001b[39m \u001b[38;5;241m1\u001b[39m):\n\u001b[1;32m    252\u001b[0m     new_val \u001b[38;5;241m=\u001b[39m \u001b[38;5;124m\"\u001b[39m\u001b[38;5;132;01m{0}\u001b[39;00m\u001b[38;5;124m - \u001b[39m\u001b[38;5;132;01m{1}\u001b[39;00m\u001b[38;5;124m\"\u001b[39m\u001b[38;5;241m.\u001b[39mformat(\n\u001b[0;32m--> 253\u001b[0m         _pretty_number(edges[indx]), _pretty_number(edges[indx \u001b[38;5;241m+\u001b[39m \u001b[38;5;241m1\u001b[39m])\n\u001b[1;32m    254\u001b[0m     )\n\u001b[1;32m    255\u001b[0m     x_text\u001b[38;5;241m.\u001b[39mappend(new_val)\n\u001b[1;32m    256\u001b[0m x_vals \u001b[38;5;241m=\u001b[39m [np\u001b[38;5;241m.\u001b[39mmean([i, j]) \u001b[38;5;28;01mfor\u001b[39;00m i, j \u001b[38;5;129;01min\u001b[39;00m \u001b[38;5;28mzip\u001b[39m(edges, edges[\u001b[38;5;241m1\u001b[39m:])]\n",
      "File \u001b[0;32m~/anaconda3/lib/python3.11/site-packages/interpret/visual/plot.py:224\u001b[0m, in \u001b[0;36m_pretty_number\u001b[0;34m(x)\u001b[0m\n\u001b[1;32m    222\u001b[0m     \u001b[38;5;28;01mreturn\u001b[39;00m x\n\u001b[1;32m    223\u001b[0m \u001b[38;5;66;03m# return round(x, rounding)\u001b[39;00m\n\u001b[0;32m--> 224\u001b[0m \u001b[38;5;28;01mreturn\u001b[39;00m _human_format(x)\n",
      "File \u001b[0;32m~/anaconda3/lib/python3.11/site-packages/interpret/visual/plot.py:210\u001b[0m, in \u001b[0;36m_human_format\u001b[0;34m(num)\u001b[0m\n\u001b[1;32m    208\u001b[0m num \u001b[38;5;241m=\u001b[39m \u001b[38;5;28mfloat\u001b[39m(\u001b[38;5;124m\"\u001b[39m\u001b[38;5;132;01m{:.3g}\u001b[39;00m\u001b[38;5;124m\"\u001b[39m\u001b[38;5;241m.\u001b[39mformat(num))\n\u001b[1;32m    209\u001b[0m magnitude \u001b[38;5;241m=\u001b[39m \u001b[38;5;241m0\u001b[39m\n\u001b[0;32m--> 210\u001b[0m \u001b[38;5;28;01mwhile\u001b[39;00m \u001b[38;5;28mabs\u001b[39m(num) \u001b[38;5;241m>\u001b[39m\u001b[38;5;241m=\u001b[39m \u001b[38;5;241m1000\u001b[39m:\n\u001b[1;32m    211\u001b[0m     magnitude \u001b[38;5;241m+\u001b[39m\u001b[38;5;241m=\u001b[39m \u001b[38;5;241m1\u001b[39m\n\u001b[1;32m    212\u001b[0m     num \u001b[38;5;241m/\u001b[39m\u001b[38;5;241m=\u001b[39m \u001b[38;5;241m1000.0\u001b[39m\n",
      "\u001b[0;31mKeyboardInterrupt\u001b[0m: "
     ]
    }
   ],
   "source": [
    "from interpret import show\n",
    "show(ebm.explain_global())"
   ]
  },
  {
   "cell_type": "code",
   "execution_count": null,
   "id": "56108b32-a1f3-4758-9e8e-17d6db18140c",
   "metadata": {},
   "outputs": [],
   "source": [
    "# Focus on Loan_Status column as the goal is to predict loan status"
   ]
  },
  {
   "cell_type": "code",
   "execution_count": null,
   "id": "0caae9fa-3331-4ac2-bba5-e9d9ba1a25bf",
   "metadata": {
    "tags": []
   },
   "outputs": [],
   "source": [
    "accepted['loan_status'].unique()"
   ]
  },
  {
   "cell_type": "code",
   "execution_count": null,
   "id": "0949210e-edad-4d5e-b078-8bdb86ed46b4",
   "metadata": {},
   "outputs": [],
   "source": [
    "# 33 Null valuses in the column"
   ]
  },
  {
   "cell_type": "code",
   "execution_count": null,
   "id": "1272f72a-a88a-4781-898d-03a58165d632",
   "metadata": {
    "tags": []
   },
   "outputs": [],
   "source": [
    "accepted['loan_status'].value_counts(dropna=False)"
   ]
  },
  {
   "cell_type": "code",
   "execution_count": null,
   "id": "d1ece670-ee83-42d1-a0c9-818d4ea263e0",
   "metadata": {},
   "outputs": [],
   "source": [
    "# Replace all values to 2 categories - 'Paid', 'Late', or 'Default'"
   ]
  },
  {
   "cell_type": "code",
   "execution_count": null,
   "id": "f453b96b-e514-4639-8b13-f831361a15bf",
   "metadata": {
    "tags": []
   },
   "outputs": [],
   "source": [
    "replace_status = {\"Fully Paid\":\"Paid\",\n",
    "                  \"Current\": \"Paid\",\n",
    "                  \"Charged Off\": \"Default\",\n",
    "                  \"Late (31-120 days)\":\"Default\",\n",
    "                  \"Late (16-30 days)\":\"Default\",\n",
    "                  \"Does not meet the credit policy. Status:Charged Off\":\"Default\",\n",
    "                  \"Does not meet the credit policy. Status:Fully Paid\":\"Paid\",\n",
    "                  \"In Grace Period\":\"Default\",\n",
    "                  \"Default\":\"Default\"\n",
    "                 }"
   ]
  },
  {
   "cell_type": "code",
   "execution_count": null,
   "id": "c081e9ae-1739-447f-bf3c-9e3bf81dbbaf",
   "metadata": {
    "tags": []
   },
   "outputs": [],
   "source": [
    "accepted['loan_status'] = accepted['loan_status'].replace(replace_status)"
   ]
  },
  {
   "cell_type": "code",
   "execution_count": null,
   "id": "32322240-2702-4cc0-804c-8907ee486907",
   "metadata": {
    "tags": []
   },
   "outputs": [],
   "source": [
    "accepted['loan_status'].value_counts(dropna=True)"
   ]
  },
  {
   "cell_type": "code",
   "execution_count": null,
   "id": "b44d6662-38ec-42b5-a131-37271b88a404",
   "metadata": {},
   "outputs": [],
   "source": [
    "# Add a list of features"
   ]
  },
  {
   "cell_type": "code",
   "execution_count": null,
   "id": "4a1eaeb9-235e-4120-a3d4-3af86d911340",
   "metadata": {
    "tags": []
   },
   "outputs": [],
   "source": [
    "features = accepted[['total_pymnt', 'annual_inc', 'fico_range_low', 'fico_range_high', 'total_acc', 'delinq_amnt', 'earliest_cr_line', 'emp_length', 'home_ownership', 'loan_amnt', 'term', 'pub_rec_bankruptcies', 'pub_rec', 'mort_acc']]"
   ]
  },
  {
   "cell_type": "code",
   "execution_count": null,
   "id": "09b1536a-cefa-4e68-9278-0c5a5d7cd149",
   "metadata": {
    "tags": []
   },
   "outputs": [],
   "source": [
    "status = accepted['loan_status']"
   ]
  },
  {
   "cell_type": "code",
   "execution_count": null,
   "id": "9338431f-a9b0-474a-b8a0-6dad474332d2",
   "metadata": {},
   "outputs": [],
   "source": [
    "# Perform train, test, split"
   ]
  },
  {
   "cell_type": "code",
   "execution_count": null,
   "id": "1de3fb95-fc1b-402f-8de6-bf85464031f3",
   "metadata": {
    "tags": []
   },
   "outputs": [],
   "source": [
    "from sklearn.model_selection import train_test_split"
   ]
  },
  {
   "cell_type": "code",
   "execution_count": null,
   "id": "9848a1b4-9d24-43da-ae2d-6a1141025dab",
   "metadata": {
    "tags": []
   },
   "outputs": [],
   "source": [
    "X_train, X_test, y_train, y_test = train_test_split(features, status)"
   ]
  },
  {
   "cell_type": "code",
   "execution_count": null,
   "id": "3f8c662c-dd95-434b-bd40-59f75a6e520e",
   "metadata": {
    "tags": []
   },
   "outputs": [],
   "source": [
    "from sklearn.linear_model import LogisticRegression"
   ]
  },
  {
   "cell_type": "code",
   "execution_count": null,
   "id": "1f521298-1fa6-47c1-981f-57dcbce7bb66",
   "metadata": {
    "tags": []
   },
   "outputs": [],
   "source": [
    "# Creating an instance of Logistic Regression with sag solver\n",
    "model = LogisticRegression(solver='sag', max_iter=1000)"
   ]
  },
  {
   "cell_type": "code",
   "execution_count": null,
   "id": "506b63ef-fce8-4399-9165-90b2a27eef47",
   "metadata": {
    "tags": []
   },
   "outputs": [],
   "source": [
    "# Fitting the model to the training data\n",
    "model.fit(X_train, y_train)"
   ]
  },
  {
   "cell_type": "code",
   "execution_count": null,
   "id": "09eedb3a-93e6-49d3-9a28-6a932cbb959a",
   "metadata": {},
   "outputs": [],
   "source": [
    "\n",
    "\n",
    "\n",
    "\n",
    "# Fitting the model to the training data\n",
    "model.fit(X_train, y_train)\n",
    "\n",
    "# Predicting labels for the test set\n",
    "y_pred = model.predict(X_test)\n",
    "\n",
    "# Evaluating the model performance\n",
    "accuracy = model.score(X_test, y_test)\n",
    "print(\"Accuracy:\", accuracy)"
   ]
  }
 ],
 "metadata": {
  "kernelspec": {
   "display_name": "Python 3 (ipykernel)",
   "language": "python",
   "name": "python3"
  },
  "language_info": {
   "codemirror_mode": {
    "name": "ipython",
    "version": 3
   },
   "file_extension": ".py",
   "mimetype": "text/x-python",
   "name": "python",
   "nbconvert_exporter": "python",
   "pygments_lexer": "ipython3",
   "version": "3.11.4"
  }
 },
 "nbformat": 4,
 "nbformat_minor": 5
}
