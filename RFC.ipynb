{
 "cells": [
  {
   "cell_type": "code",
   "execution_count": 1,
   "id": "3f6f8339-532b-41a7-9b93-16c89706a7d6",
   "metadata": {
    "tags": []
   },
   "outputs": [],
   "source": [
    "import pandas as pd\n",
    "import numpy as np"
   ]
  },
  {
   "cell_type": "code",
   "execution_count": 2,
   "id": "3f148138-54a9-476d-8c28-0f7f2ec6c4d8",
   "metadata": {
    "tags": []
   },
   "outputs": [],
   "source": [
    "df = pd.read_csv('/Users/alexlei/Downloads/accepted_2007_to_2018Q4.csv', index_col=0, low_memory=False)"
   ]
  },
  {
   "cell_type": "code",
   "execution_count": 3,
   "id": "e90c2ced-9c0f-4adb-91ea-2a5160df2167",
   "metadata": {
    "tags": []
   },
   "outputs": [],
   "source": [
    "df = df.drop(df.loc[:, 'hardship_flag':'settlement_term'].columns, axis=1)"
   ]
  },
  {
   "cell_type": "code",
   "execution_count": 4,
   "id": "b93e3932-e569-4e2b-a938-8a64c1de4941",
   "metadata": {
    "tags": []
   },
   "outputs": [
    {
     "data": {
      "text/plain": [
       "member_id                              float64\n",
       "loan_amnt                              float64\n",
       "funded_amnt                            float64\n",
       "funded_amnt_inv                        float64\n",
       "term                                    object\n",
       "int_rate                               float64\n",
       "installment                            float64\n",
       "grade                                   object\n",
       "sub_grade                               object\n",
       "emp_title                               object\n",
       "emp_length                              object\n",
       "home_ownership                          object\n",
       "annual_inc                             float64\n",
       "verification_status                     object\n",
       "issue_d                                 object\n",
       "loan_status                             object\n",
       "pymnt_plan                              object\n",
       "url                                     object\n",
       "desc                                    object\n",
       "purpose                                 object\n",
       "title                                   object\n",
       "zip_code                                object\n",
       "addr_state                              object\n",
       "dti                                    float64\n",
       "delinq_2yrs                            float64\n",
       "earliest_cr_line                        object\n",
       "fico_range_low                         float64\n",
       "fico_range_high                        float64\n",
       "inq_last_6mths                         float64\n",
       "mths_since_last_delinq                 float64\n",
       "mths_since_last_record                 float64\n",
       "open_acc                               float64\n",
       "pub_rec                                float64\n",
       "revol_bal                              float64\n",
       "revol_util                             float64\n",
       "total_acc                              float64\n",
       "initial_list_status                     object\n",
       "out_prncp                              float64\n",
       "out_prncp_inv                          float64\n",
       "total_pymnt                            float64\n",
       "total_pymnt_inv                        float64\n",
       "total_rec_prncp                        float64\n",
       "total_rec_int                          float64\n",
       "total_rec_late_fee                     float64\n",
       "recoveries                             float64\n",
       "collection_recovery_fee                float64\n",
       "last_pymnt_d                            object\n",
       "last_pymnt_amnt                        float64\n",
       "next_pymnt_d                            object\n",
       "last_credit_pull_d                      object\n",
       "last_fico_range_high                   float64\n",
       "last_fico_range_low                    float64\n",
       "collections_12_mths_ex_med             float64\n",
       "mths_since_last_major_derog            float64\n",
       "policy_code                            float64\n",
       "application_type                        object\n",
       "annual_inc_joint                       float64\n",
       "dti_joint                              float64\n",
       "verification_status_joint               object\n",
       "acc_now_delinq                         float64\n",
       "tot_coll_amt                           float64\n",
       "tot_cur_bal                            float64\n",
       "open_acc_6m                            float64\n",
       "open_act_il                            float64\n",
       "open_il_12m                            float64\n",
       "open_il_24m                            float64\n",
       "mths_since_rcnt_il                     float64\n",
       "total_bal_il                           float64\n",
       "il_util                                float64\n",
       "open_rv_12m                            float64\n",
       "open_rv_24m                            float64\n",
       "max_bal_bc                             float64\n",
       "all_util                               float64\n",
       "total_rev_hi_lim                       float64\n",
       "inq_fi                                 float64\n",
       "total_cu_tl                            float64\n",
       "inq_last_12m                           float64\n",
       "acc_open_past_24mths                   float64\n",
       "avg_cur_bal                            float64\n",
       "bc_open_to_buy                         float64\n",
       "bc_util                                float64\n",
       "chargeoff_within_12_mths               float64\n",
       "delinq_amnt                            float64\n",
       "mo_sin_old_il_acct                     float64\n",
       "mo_sin_old_rev_tl_op                   float64\n",
       "mo_sin_rcnt_rev_tl_op                  float64\n",
       "mo_sin_rcnt_tl                         float64\n",
       "mort_acc                               float64\n",
       "mths_since_recent_bc                   float64\n",
       "mths_since_recent_bc_dlq               float64\n",
       "mths_since_recent_inq                  float64\n",
       "mths_since_recent_revol_delinq         float64\n",
       "num_accts_ever_120_pd                  float64\n",
       "num_actv_bc_tl                         float64\n",
       "num_actv_rev_tl                        float64\n",
       "num_bc_sats                            float64\n",
       "num_bc_tl                              float64\n",
       "num_il_tl                              float64\n",
       "num_op_rev_tl                          float64\n",
       "num_rev_accts                          float64\n",
       "num_rev_tl_bal_gt_0                    float64\n",
       "num_sats                               float64\n",
       "num_tl_120dpd_2m                       float64\n",
       "num_tl_30dpd                           float64\n",
       "num_tl_90g_dpd_24m                     float64\n",
       "num_tl_op_past_12m                     float64\n",
       "pct_tl_nvr_dlq                         float64\n",
       "percent_bc_gt_75                       float64\n",
       "pub_rec_bankruptcies                   float64\n",
       "tax_liens                              float64\n",
       "tot_hi_cred_lim                        float64\n",
       "total_bal_ex_mort                      float64\n",
       "total_bc_limit                         float64\n",
       "total_il_high_credit_limit             float64\n",
       "revol_bal_joint                        float64\n",
       "sec_app_fico_range_low                 float64\n",
       "sec_app_fico_range_high                float64\n",
       "sec_app_earliest_cr_line                object\n",
       "sec_app_inq_last_6mths                 float64\n",
       "sec_app_mort_acc                       float64\n",
       "sec_app_open_acc                       float64\n",
       "sec_app_revol_util                     float64\n",
       "sec_app_open_act_il                    float64\n",
       "sec_app_num_rev_accts                  float64\n",
       "sec_app_chargeoff_within_12_mths       float64\n",
       "sec_app_collections_12_mths_ex_med     float64\n",
       "sec_app_mths_since_last_major_derog    float64\n",
       "dtype: object"
      ]
     },
     "execution_count": 4,
     "metadata": {},
     "output_type": "execute_result"
    }
   ],
   "source": [
    "pd.options.display.max_rows = 200\n",
    "df.dtypes"
   ]
  },
  {
   "cell_type": "code",
   "execution_count": 5,
   "id": "7b918473-2117-444f-8919-4ec6123c1594",
   "metadata": {
    "tags": []
   },
   "outputs": [],
   "source": [
    "df = df.drop(['Total amount funded in policy code 1: 1465324575', 'Total amount funded in policy code 2: 521953170'])"
   ]
  },
  {
   "cell_type": "code",
   "execution_count": 6,
   "id": "25904d57-07da-4950-9878-c74bd46329c5",
   "metadata": {
    "tags": []
   },
   "outputs": [],
   "source": [
    "X = df[['loan_amnt', 'annual_inc', 'fico_range_high', 'funded_amnt_inv', 'funded_amnt', 'fico_range_low', 'total_pymnt', 'acc_now_delinq', 'inq_last_12m', 'mort_acc']]"
   ]
  },
  {
   "cell_type": "code",
   "execution_count": 7,
   "id": "4cda8f30-0d0a-4b58-8a30-ed37163dc472",
   "metadata": {
    "tags": []
   },
   "outputs": [],
   "source": [
    "y = df['loan_status']"
   ]
  },
  {
   "cell_type": "code",
   "execution_count": 8,
   "id": "86e6b45f-a8ca-4ceb-acb0-e306010cde8e",
   "metadata": {},
   "outputs": [
    {
     "name": "stderr",
     "output_type": "stream",
     "text": [
      "/var/folders/ft/7fyxl68d79x73_n1m8glvnhh0000gn/T/ipykernel_25017/560105272.py:1: SettingWithCopyWarning: \n",
      "A value is trying to be set on a copy of a slice from a DataFrame\n",
      "\n",
      "See the caveats in the documentation: https://pandas.pydata.org/pandas-docs/stable/user_guide/indexing.html#returning-a-view-versus-a-copy\n",
      "  X.fillna(0, inplace=True)\n"
     ]
    }
   ],
   "source": [
    "X.fillna(0, inplace=True)\n",
    "y.fillna('None', inplace=True)"
   ]
  },
  {
   "cell_type": "code",
   "execution_count": 9,
   "id": "966f2bde-d16e-4f54-b6eb-6381f3b35101",
   "metadata": {
    "tags": []
   },
   "outputs": [],
   "source": [
    "#Using train_test_split\n",
    "from sklearn.model_selection import train_test_split\n",
    "X_train, X_test, y_train, y_test = train_test_split(X, y, random_state=1)"
   ]
  },
  {
   "cell_type": "code",
   "execution_count": 10,
   "id": "c176dc6a-302b-400f-bb4b-cb822244df9a",
   "metadata": {},
   "outputs": [],
   "source": [
    "# Transform X\n",
    "from sklearn.preprocessing import StandardScaler\n",
    "scaler = StandardScaler()"
   ]
  },
  {
   "cell_type": "code",
   "execution_count": 11,
   "id": "472c66e4-db2a-46de-9f1a-6e18f0547207",
   "metadata": {
    "tags": []
   },
   "outputs": [],
   "source": [
    "X_train_s = scaler.fit_transform(X_train)\n",
    "X_test_s = scaler.transform(X_test)"
   ]
  },
  {
   "cell_type": "code",
   "execution_count": 12,
   "id": "460112ba-a43f-4c5e-aeca-60ba67bcd7d9",
   "metadata": {
    "tags": []
   },
   "outputs": [
    {
     "name": "stderr",
     "output_type": "stream",
     "text": [
      "/Users/alexlei/anaconda3/lib/python3.11/site-packages/sklearn/linear_model/_logistic.py:460: ConvergenceWarning: lbfgs failed to converge (status=1):\n",
      "STOP: TOTAL NO. of ITERATIONS REACHED LIMIT.\n",
      "\n",
      "Increase the number of iterations (max_iter) or scale the data as shown in:\n",
      "    https://scikit-learn.org/stable/modules/preprocessing.html\n",
      "Please also refer to the documentation for alternative solver options:\n",
      "    https://scikit-learn.org/stable/modules/linear_model.html#logistic-regression\n",
      "  n_iter_i = _check_optimize_result(\n"
     ]
    },
    {
     "data": {
      "text/html": [
       "<style>#sk-container-id-1 {color: black;}#sk-container-id-1 pre{padding: 0;}#sk-container-id-1 div.sk-toggleable {background-color: white;}#sk-container-id-1 label.sk-toggleable__label {cursor: pointer;display: block;width: 100%;margin-bottom: 0;padding: 0.3em;box-sizing: border-box;text-align: center;}#sk-container-id-1 label.sk-toggleable__label-arrow:before {content: \"▸\";float: left;margin-right: 0.25em;color: #696969;}#sk-container-id-1 label.sk-toggleable__label-arrow:hover:before {color: black;}#sk-container-id-1 div.sk-estimator:hover label.sk-toggleable__label-arrow:before {color: black;}#sk-container-id-1 div.sk-toggleable__content {max-height: 0;max-width: 0;overflow: hidden;text-align: left;background-color: #f0f8ff;}#sk-container-id-1 div.sk-toggleable__content pre {margin: 0.2em;color: black;border-radius: 0.25em;background-color: #f0f8ff;}#sk-container-id-1 input.sk-toggleable__control:checked~div.sk-toggleable__content {max-height: 200px;max-width: 100%;overflow: auto;}#sk-container-id-1 input.sk-toggleable__control:checked~label.sk-toggleable__label-arrow:before {content: \"▾\";}#sk-container-id-1 div.sk-estimator input.sk-toggleable__control:checked~label.sk-toggleable__label {background-color: #d4ebff;}#sk-container-id-1 div.sk-label input.sk-toggleable__control:checked~label.sk-toggleable__label {background-color: #d4ebff;}#sk-container-id-1 input.sk-hidden--visually {border: 0;clip: rect(1px 1px 1px 1px);clip: rect(1px, 1px, 1px, 1px);height: 1px;margin: -1px;overflow: hidden;padding: 0;position: absolute;width: 1px;}#sk-container-id-1 div.sk-estimator {font-family: monospace;background-color: #f0f8ff;border: 1px dotted black;border-radius: 0.25em;box-sizing: border-box;margin-bottom: 0.5em;}#sk-container-id-1 div.sk-estimator:hover {background-color: #d4ebff;}#sk-container-id-1 div.sk-parallel-item::after {content: \"\";width: 100%;border-bottom: 1px solid gray;flex-grow: 1;}#sk-container-id-1 div.sk-label:hover label.sk-toggleable__label {background-color: #d4ebff;}#sk-container-id-1 div.sk-serial::before {content: \"\";position: absolute;border-left: 1px solid gray;box-sizing: border-box;top: 0;bottom: 0;left: 50%;z-index: 0;}#sk-container-id-1 div.sk-serial {display: flex;flex-direction: column;align-items: center;background-color: white;padding-right: 0.2em;padding-left: 0.2em;position: relative;}#sk-container-id-1 div.sk-item {position: relative;z-index: 1;}#sk-container-id-1 div.sk-parallel {display: flex;align-items: stretch;justify-content: center;background-color: white;position: relative;}#sk-container-id-1 div.sk-item::before, #sk-container-id-1 div.sk-parallel-item::before {content: \"\";position: absolute;border-left: 1px solid gray;box-sizing: border-box;top: 0;bottom: 0;left: 50%;z-index: -1;}#sk-container-id-1 div.sk-parallel-item {display: flex;flex-direction: column;z-index: 1;position: relative;background-color: white;}#sk-container-id-1 div.sk-parallel-item:first-child::after {align-self: flex-end;width: 50%;}#sk-container-id-1 div.sk-parallel-item:last-child::after {align-self: flex-start;width: 50%;}#sk-container-id-1 div.sk-parallel-item:only-child::after {width: 0;}#sk-container-id-1 div.sk-dashed-wrapped {border: 1px dashed gray;margin: 0 0.4em 0.5em 0.4em;box-sizing: border-box;padding-bottom: 0.4em;background-color: white;}#sk-container-id-1 div.sk-label label {font-family: monospace;font-weight: bold;display: inline-block;line-height: 1.2em;}#sk-container-id-1 div.sk-label-container {text-align: center;}#sk-container-id-1 div.sk-container {/* jupyter's `normalize.less` sets `[hidden] { display: none; }` but bootstrap.min.css set `[hidden] { display: none !important; }` so we also need the `!important` here to be able to override the default hidden behavior on the sphinx rendered scikit-learn.org. See: https://github.com/scikit-learn/scikit-learn/issues/21755 */display: inline-block !important;position: relative;}#sk-container-id-1 div.sk-text-repr-fallback {display: none;}</style><div id=\"sk-container-id-1\" class=\"sk-top-container\"><div class=\"sk-text-repr-fallback\"><pre>LogisticRegression()</pre><b>In a Jupyter environment, please rerun this cell to show the HTML representation or trust the notebook. <br />On GitHub, the HTML representation is unable to render, please try loading this page with nbviewer.org.</b></div><div class=\"sk-container\" hidden><div class=\"sk-item\"><div class=\"sk-estimator sk-toggleable\"><input class=\"sk-toggleable__control sk-hidden--visually\" id=\"sk-estimator-id-1\" type=\"checkbox\" checked><label for=\"sk-estimator-id-1\" class=\"sk-toggleable__label sk-toggleable__label-arrow\">LogisticRegression</label><div class=\"sk-toggleable__content\"><pre>LogisticRegression()</pre></div></div></div></div></div>"
      ],
      "text/plain": [
       "LogisticRegression()"
      ]
     },
     "execution_count": 12,
     "metadata": {},
     "output_type": "execute_result"
    }
   ],
   "source": [
    "# Create and train the model\n",
    "from sklearn.linear_model import LogisticRegression\n",
    "model = LogisticRegression()\n",
    "model.fit(X_train, y_train)"
   ]
  },
  {
   "cell_type": "code",
   "execution_count": 13,
   "id": "feb431a3-a77c-4041-bcca-937186ce542e",
   "metadata": {
    "tags": []
   },
   "outputs": [
    {
     "name": "stdout",
     "output_type": "stream",
     "text": [
      "0.8113438677364637\n",
      "0.8113062325828283\n"
     ]
    }
   ],
   "source": [
    "# Score the model on the train data\n",
    "train_score = model.score(X_train, y_train)\n",
    "print(train_score)\n",
    "# Score the model on the test data\n",
    "test_score = model.score(X_test, y_test)\n",
    "print(test_score)"
   ]
  },
  {
   "cell_type": "code",
   "execution_count": 14,
   "id": "63cc3442-4f54-4f4b-82a3-628a23cba96e",
   "metadata": {
    "tags": []
   },
   "outputs": [
    {
     "name": "stdout",
     "output_type": "stream",
     "text": [
      "[[ 1.40465805e-04  8.75192691e-05 -4.02041700e-04  8.01356899e-05\n",
      "   1.28815856e-04 -4.00003684e-04 -1.26598957e-04  8.34507949e-09\n",
      "  -1.98813019e-06 -1.92099181e-07]\n",
      " [ 5.56776473e-05  9.47407980e-05  1.16635813e-04  1.83457985e-04\n",
      "   1.10223200e-04  1.16116580e-04 -1.40338679e-04 -4.83373735e-09\n",
      "   1.82911944e-06 -6.59236288e-07]\n",
      " [-4.04457756e-05 -1.61214724e-04 -3.79309211e-06 -4.03305750e-05\n",
      "  -4.04312424e-05 -3.77144538e-06 -3.29543772e-05 -1.36534749e-11\n",
      "  -5.09577055e-09 -3.72266712e-09]\n",
      " [-4.95743565e-05 -9.87535632e-05 -1.21073766e-05 -8.93331927e-05\n",
      "  -5.30347696e-05 -1.20392875e-05 -6.86801116e-05 -6.31268524e-11\n",
      "  -2.98940324e-08 -1.73463112e-08]\n",
      " [-6.43822236e-05  5.52006582e-05 -2.31098891e-05 -1.33496432e-04\n",
      "  -6.94906316e-05 -2.29794141e-05  3.84179401e-05 -7.85420714e-11\n",
      "  -6.72263782e-08 -4.08639729e-08]\n",
      " [-3.28788429e-04  9.88298699e-05  6.68502999e-04 -2.98658747e-04\n",
      "  -3.66130191e-04  6.64815701e-04  1.14208335e-03 -2.96152090e-09\n",
      "   3.59267009e-07  1.08183413e-06]\n",
      " [ 1.04831468e-04  4.55146918e-05 -1.02303731e-04  1.07957083e-04\n",
      "   1.05647559e-04 -1.01723456e-04 -2.72669158e-04 -1.83427436e-10\n",
      "  -5.23234037e-08 -4.03058363e-08]\n",
      " [ 1.02978337e-04  1.73672283e-05 -5.87203264e-05  1.04710351e-04\n",
      "   1.03364376e-04 -5.83861861e-05 -1.71748013e-04 -7.40718708e-11\n",
      "  -2.09301291e-08 -2.23250956e-08]\n",
      " [ 1.26572120e-04  5.46533188e-05 -1.78962570e-04  1.32779456e-04\n",
      "   1.28356051e-04 -1.77952056e-04 -3.30553993e-04 -1.23538758e-10\n",
      "  -1.87394203e-08 -1.01494922e-07]\n",
      " [-4.73345928e-05 -1.93857547e-04 -4.10012654e-06 -4.72216189e-05\n",
      "  -4.73202085e-05 -4.07675126e-06 -3.69580017e-05 -1.34607658e-11\n",
      "  -6.04712630e-09 -4.43985979e-09]]\n"
     ]
    }
   ],
   "source": [
    "# Analyze the coefficients\n",
    "print(model.coef_)"
   ]
  },
  {
   "cell_type": "code",
   "execution_count": 15,
   "id": "a41d0b61-d0cc-4b62-98d9-5a2f5bb6bd89",
   "metadata": {
    "tags": []
   },
   "outputs": [],
   "source": [
    "from sklearn.ensemble import RandomForestClassifier\n",
    "#from sklearn.tree import DecisionTreeClassifier"
   ]
  },
  {
   "cell_type": "code",
   "execution_count": 16,
   "id": "58a0e345-85b9-4410-abc7-cf8631d4bd3e",
   "metadata": {
    "tags": []
   },
   "outputs": [
    {
     "data": {
      "text/html": [
       "<style>#sk-container-id-2 {color: black;}#sk-container-id-2 pre{padding: 0;}#sk-container-id-2 div.sk-toggleable {background-color: white;}#sk-container-id-2 label.sk-toggleable__label {cursor: pointer;display: block;width: 100%;margin-bottom: 0;padding: 0.3em;box-sizing: border-box;text-align: center;}#sk-container-id-2 label.sk-toggleable__label-arrow:before {content: \"▸\";float: left;margin-right: 0.25em;color: #696969;}#sk-container-id-2 label.sk-toggleable__label-arrow:hover:before {color: black;}#sk-container-id-2 div.sk-estimator:hover label.sk-toggleable__label-arrow:before {color: black;}#sk-container-id-2 div.sk-toggleable__content {max-height: 0;max-width: 0;overflow: hidden;text-align: left;background-color: #f0f8ff;}#sk-container-id-2 div.sk-toggleable__content pre {margin: 0.2em;color: black;border-radius: 0.25em;background-color: #f0f8ff;}#sk-container-id-2 input.sk-toggleable__control:checked~div.sk-toggleable__content {max-height: 200px;max-width: 100%;overflow: auto;}#sk-container-id-2 input.sk-toggleable__control:checked~label.sk-toggleable__label-arrow:before {content: \"▾\";}#sk-container-id-2 div.sk-estimator input.sk-toggleable__control:checked~label.sk-toggleable__label {background-color: #d4ebff;}#sk-container-id-2 div.sk-label input.sk-toggleable__control:checked~label.sk-toggleable__label {background-color: #d4ebff;}#sk-container-id-2 input.sk-hidden--visually {border: 0;clip: rect(1px 1px 1px 1px);clip: rect(1px, 1px, 1px, 1px);height: 1px;margin: -1px;overflow: hidden;padding: 0;position: absolute;width: 1px;}#sk-container-id-2 div.sk-estimator {font-family: monospace;background-color: #f0f8ff;border: 1px dotted black;border-radius: 0.25em;box-sizing: border-box;margin-bottom: 0.5em;}#sk-container-id-2 div.sk-estimator:hover {background-color: #d4ebff;}#sk-container-id-2 div.sk-parallel-item::after {content: \"\";width: 100%;border-bottom: 1px solid gray;flex-grow: 1;}#sk-container-id-2 div.sk-label:hover label.sk-toggleable__label {background-color: #d4ebff;}#sk-container-id-2 div.sk-serial::before {content: \"\";position: absolute;border-left: 1px solid gray;box-sizing: border-box;top: 0;bottom: 0;left: 50%;z-index: 0;}#sk-container-id-2 div.sk-serial {display: flex;flex-direction: column;align-items: center;background-color: white;padding-right: 0.2em;padding-left: 0.2em;position: relative;}#sk-container-id-2 div.sk-item {position: relative;z-index: 1;}#sk-container-id-2 div.sk-parallel {display: flex;align-items: stretch;justify-content: center;background-color: white;position: relative;}#sk-container-id-2 div.sk-item::before, #sk-container-id-2 div.sk-parallel-item::before {content: \"\";position: absolute;border-left: 1px solid gray;box-sizing: border-box;top: 0;bottom: 0;left: 50%;z-index: -1;}#sk-container-id-2 div.sk-parallel-item {display: flex;flex-direction: column;z-index: 1;position: relative;background-color: white;}#sk-container-id-2 div.sk-parallel-item:first-child::after {align-self: flex-end;width: 50%;}#sk-container-id-2 div.sk-parallel-item:last-child::after {align-self: flex-start;width: 50%;}#sk-container-id-2 div.sk-parallel-item:only-child::after {width: 0;}#sk-container-id-2 div.sk-dashed-wrapped {border: 1px dashed gray;margin: 0 0.4em 0.5em 0.4em;box-sizing: border-box;padding-bottom: 0.4em;background-color: white;}#sk-container-id-2 div.sk-label label {font-family: monospace;font-weight: bold;display: inline-block;line-height: 1.2em;}#sk-container-id-2 div.sk-label-container {text-align: center;}#sk-container-id-2 div.sk-container {/* jupyter's `normalize.less` sets `[hidden] { display: none; }` but bootstrap.min.css set `[hidden] { display: none !important; }` so we also need the `!important` here to be able to override the default hidden behavior on the sphinx rendered scikit-learn.org. See: https://github.com/scikit-learn/scikit-learn/issues/21755 */display: inline-block !important;position: relative;}#sk-container-id-2 div.sk-text-repr-fallback {display: none;}</style><div id=\"sk-container-id-2\" class=\"sk-top-container\"><div class=\"sk-text-repr-fallback\"><pre>RandomForestClassifier(random_state=0)</pre><b>In a Jupyter environment, please rerun this cell to show the HTML representation or trust the notebook. <br />On GitHub, the HTML representation is unable to render, please try loading this page with nbviewer.org.</b></div><div class=\"sk-container\" hidden><div class=\"sk-item\"><div class=\"sk-estimator sk-toggleable\"><input class=\"sk-toggleable__control sk-hidden--visually\" id=\"sk-estimator-id-2\" type=\"checkbox\" checked><label for=\"sk-estimator-id-2\" class=\"sk-toggleable__label sk-toggleable__label-arrow\">RandomForestClassifier</label><div class=\"sk-toggleable__content\"><pre>RandomForestClassifier(random_state=0)</pre></div></div></div></div></div>"
      ],
      "text/plain": [
       "RandomForestClassifier(random_state=0)"
      ]
     },
     "execution_count": 16,
     "metadata": {},
     "output_type": "execute_result"
    }
   ],
   "source": [
    "#Create Random Forest model, fit and test it out\n",
    "forest = RandomForestClassifier(random_state=0)\n",
    "forest.fit(X_train, y_train)"
   ]
  },
  {
   "cell_type": "code",
   "execution_count": 17,
   "id": "c9e1e58c-89bb-4525-8e56-7d0bc6f7de0e",
   "metadata": {
    "tags": []
   },
   "outputs": [
    {
     "name": "stdout",
     "output_type": "stream",
     "text": [
      "[0.06545642 0.10857992 0.02837684 0.08004972 0.07212132 0.02798968\n",
      " 0.51696978 0.0010875  0.06756789 0.03180094]\n",
      "0.8327916132171451\n"
     ]
    }
   ],
   "source": [
    "print(forest.feature_importances_)\n",
    "print(forest.score(X_test, y_test))"
   ]
  },
  {
   "cell_type": "code",
   "execution_count": null,
   "id": "d2d59978-b4b2-4851-80a9-8488497b9290",
   "metadata": {},
   "outputs": [],
   "source": []
  }
 ],
 "metadata": {
  "kernelspec": {
   "display_name": "Python 3 (ipykernel)",
   "language": "python",
   "name": "python3"
  },
  "language_info": {
   "codemirror_mode": {
    "name": "ipython",
    "version": 3
   },
   "file_extension": ".py",
   "mimetype": "text/x-python",
   "name": "python",
   "nbconvert_exporter": "python",
   "pygments_lexer": "ipython3",
   "version": "3.11.4"
  }
 },
 "nbformat": 4,
 "nbformat_minor": 5
}
